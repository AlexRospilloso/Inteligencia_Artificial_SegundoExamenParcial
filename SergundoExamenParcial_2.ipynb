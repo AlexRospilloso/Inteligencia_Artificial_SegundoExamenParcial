{
  "cells": [
    {
      "cell_type": "markdown",
      "metadata": {
        "id": "1_4MgltYgZWM"
      },
      "source": [
        "[![Open In Colab](https://colab.research.google.com/assets/colab-badge.svg)](https://colab.research.google.com/github/sensioai/blog/blob/master/024_mlp_clasificacion/mlp_clasificacion.ipynb)"
      ]
    },
    {
      "cell_type": "markdown",
      "metadata": {
        "id": "6NGidamugZWP"
      },
      "source": [
        "# El Perceptrón Multicapa - Clasificación"
      ]
    },
    {
      "cell_type": "markdown",
      "metadata": {
        "id": "wYquiZh4gZWQ"
      },
      "source": [
        "## El Perceptrón Multicapa"
      ]
    },
    {
      "cell_type": "markdown",
      "metadata": {
        "id": "z-2Gqjm_gZWQ"
      },
      "source": [
        "En el [post](https://sensioai.com/blog/023_mlp_backprop) anterior hemos introducido el modelo de `Perceptrón Multicapa`, o MLP, la arquitectura de red neuronal más básica basada en el [Perceptrón](https://sensioai.com/blog/012_perceptron1). Hemos visto cómo calcular la salida de un MLP de dos capas a partir de unas entradas y cómo encontrar los pesos óptimos para una tarea de regresión. En este post vamos a mejorar la implementación de nuestro MLP de dos capas para que sea capaz también de llevar a cabo tareas de clasificación.\n",
        "\n",
        "![](https://www.researchgate.net/profile/Mohamed_Zahran6/publication/303875065/figure/fig4/AS:371118507610123@1465492955561/A-hypothetical-example-of-Multilayer-Perceptron-Network.png)"
      ]
    },
    {
      "cell_type": "markdown",
      "metadata": {
        "id": "9IyRgwesgZWR"
      },
      "source": [
        "## Implementación"
      ]
    },
    {
      "cell_type": "markdown",
      "metadata": {
        "id": "1LPtbLsUgZWR"
      },
      "source": [
        "La mayoría del código que utilizaremos fue desarrollado para el `Perceptrón` y lo puedes encontrar en este [post](https://sensioai.com/blog/018_perceptron_final). Lo único que cambiaremos es la lógica del modelo, el resto de funcionalidad (funciones de pérdida, funciones de activación, etc, siguen siendo exactamente igual)."
      ]
    },
    {
      "cell_type": "markdown",
      "metadata": {
        "id": "fcsB8ZW6gZWS"
      },
      "source": [
        "### Funciones de activación"
      ]
    },
    {
      "cell_type": "markdown",
      "metadata": {
        "id": "Syl8VvjrgZWT"
      },
      "source": [
        "Para la capa oculta de nuestro MLP utilizaremos una función de activación de tipo `relu`, de la cual necesitaremos su derivada."
      ]
    },
    {
      "cell_type": "code",
      "execution_count": 55,
      "metadata": {
        "ExecuteTime": {
          "end_time": "2020-08-05T16:49:53.041393Z",
          "start_time": "2020-08-05T16:49:53.024396Z"
        },
        "id": "HIq2-wCVgZWT"
      },
      "outputs": [],
      "source": [
        "def relu(x):\n",
        "  return np.maximum(0, x)\n",
        "\n",
        "def reluPrime(x):\n",
        "  return x > 0"
      ]
    },
    {
      "cell_type": "markdown",
      "metadata": {
        "id": "j71DHXTEgZWU"
      },
      "source": [
        "En cuanto a las funciones de activación que utilizaremos a la salida del MLP, éstas son las que hemos introducido en posts anteriores:\n",
        "\n",
        "- Lineal: usada para regresión (junto a la función de pérdida MSE).\n",
        "- Sigmoid: usada para clasificación binaria (junto a la función de pérdida BCE).\n",
        "- Softmax: usada para clasificación multiclase (junto a la función de pérdida crossentropy, CE)."
      ]
    },
    {
      "cell_type": "code",
      "execution_count": 56,
      "metadata": {
        "ExecuteTime": {
          "end_time": "2020-08-05T16:49:53.311543Z",
          "start_time": "2020-08-05T16:49:53.298548Z"
        },
        "id": "Yr2J98BBgZWV"
      },
      "outputs": [],
      "source": [
        "def linear(x):\n",
        "    return x\n",
        "\n",
        "def sigmoid(x):\n",
        "  return 1 / (1 + np.exp(-x))\n",
        "\n",
        "def softmax(x):\n",
        "    return np.exp(x) / np.exp(x).sum(axis=-1,keepdims=True)"
      ]
    },
    {
      "cell_type": "markdown",
      "metadata": {
        "id": "4UStYvPKgZWV"
      },
      "source": [
        "### Funciones de pérdida"
      ]
    },
    {
      "cell_type": "markdown",
      "metadata": {
        "id": "VFQkqJthgZWW"
      },
      "source": [
        "Como acabamos de comentar en la sección anterior, estas son las funciones de pérdida que hemos visto hasta ahora para las diferentes tareas."
      ]
    },
    {
      "cell_type": "code",
      "execution_count": 57,
      "metadata": {
        "ExecuteTime": {
          "end_time": "2020-08-05T16:49:53.677416Z",
          "start_time": "2020-08-05T16:49:53.673343Z"
        },
        "id": "5jbCfdMMgZWW"
      },
      "outputs": [],
      "source": [
        "# Mean Square Error -> usada para regresión (con activación lineal)\n",
        "def mse(y, y_hat):\n",
        "    return np.mean((y_hat - y.reshape(y_hat.shape))**2)\n",
        "\n",
        "# Binary Cross Entropy -> usada para clasificación binaria (con sigmoid)\n",
        "def bce(y, y_hat):\n",
        "    return - np.mean(y.reshape(y_hat.shape)*np.log(y_hat) - (1 - y.reshape(y_hat.shape))*np.log(1 - y_hat))\n",
        "\n",
        "# Cross Entropy (aplica softmax + cross entropy de manera estable) -> usada para clasificación multiclase\n",
        "def crossentropy(y, y_hat):\n",
        "    logits = y_hat[np.arange(len(y_hat)),y]\n",
        "    entropy = - logits + np.log(np.sum(np.exp(y_hat),axis=-1))\n",
        "    return entropy.mean()"
      ]
    },
    {
      "cell_type": "markdown",
      "metadata": {
        "id": "1c0_5lyNgZWX"
      },
      "source": [
        "Y sus derivadas"
      ]
    },
    {
      "cell_type": "code",
      "execution_count": 58,
      "metadata": {
        "ExecuteTime": {
          "end_time": "2020-08-05T16:49:53.945375Z",
          "start_time": "2020-08-05T16:49:53.925371Z"
        },
        "id": "v5PbPP5wgZWX"
      },
      "outputs": [],
      "source": [
        "def grad_mse(y, y_hat):\n",
        "    return y_hat - y.reshape(y_hat.shape)\n",
        "\n",
        "def grad_bce(y, y_hat):\n",
        "    return y_hat - y.reshape(y_hat.shape)\n",
        "\n",
        "def grad_crossentropy(y, y_hat):\n",
        "    answers = np.zeros_like(y_hat)\n",
        "    answers[np.arange(len(y_hat)),y] = 1    \n",
        "    return (- answers + softmax(y_hat)) / y_hat.shape[0]"
      ]
    },
    {
      "cell_type": "markdown",
      "metadata": {
        "id": "Ctn_7WsbgZWX"
      },
      "source": [
        "### Implementación MLP"
      ]
    },
    {
      "cell_type": "markdown",
      "metadata": {
        "id": "M984aPUXgZWX"
      },
      "source": [
        "Ahora que ya tenemos definidas las diferentes funciones de activación y de pérdida que necesitamos, vamos a implementar nuestro MLP de dos capas capaz de llevar a cabo tanto tareas de regresión como de clasificación. Del mismo modo que ya hicimos con el `Perceptrón`, definiremos una clase base que servirá para la implementación de las clases particulares para cada caso."
      ]
    },
    {
      "cell_type": "code",
      "execution_count": 59,
      "metadata": {
        "ExecuteTime": {
          "end_time": "2020-08-05T16:49:54.342062Z",
          "start_time": "2020-08-05T16:49:54.325063Z"
        },
        "code_folding": [
          3,
          14,
          20,
          55
        ],
        "id": "UwJ4CTGagZWY"
      },
      "outputs": [],
      "source": [
        "# clase base MLP \n",
        "\n",
        "class MLP():\n",
        "  def __init__(self, D_in, H, D_out, loss, grad_loss, activation):\n",
        "    # pesos de la capa 1\n",
        "    self.w1, self.b1 = np.random.normal(loc=0.0,\n",
        "                                  scale=np.sqrt(2/(D_in+H)),\n",
        "                                  size=(D_in, H)), np.zeros(H)\n",
        "    # pesos de la capa 2\n",
        "    self.w2, self.b2 = np.random.normal(loc=0.0,\n",
        "                                  scale=np.sqrt(2/(H+D_out)),\n",
        "                                  size=(H, D_out)), np.zeros(D_out)\n",
        "    self.ws = []\n",
        "    # función de pérdida y derivada\n",
        "    self.loss = loss\n",
        "    self.grad_loss = grad_loss\n",
        "    # función de activación\n",
        "    self.activation = activation\n",
        "\n",
        "  def __call__(self, x):\n",
        "    # salida de la capa 1\n",
        "    self.h_pre = np.dot(x, self.w1) + self.b1\n",
        "    self.h = relu(self.h_pre)\n",
        "    # salida del MLP\n",
        "    y_hat = np.dot(self.h, self.w2) + self.b2 \n",
        "    return self.activation(y_hat)\n",
        "    \n",
        "  def fit(self, X, Y, epochs = 100, lr = 0.001, batch_size=None, verbose=True, log_each=1):\n",
        "    batch_size = len(X) if batch_size == None else batch_size\n",
        "    batches = len(X) // batch_size\n",
        "    l = []\n",
        "    for e in range(1,epochs+1):     \n",
        "        # Mini-Batch Gradient Descent\n",
        "        _l = []\n",
        "        for b in range(batches):\n",
        "            # batch de datos\n",
        "            x = X[b*batch_size:(b+1)*batch_size]\n",
        "            y = Y[b*batch_size:(b+1)*batch_size] \n",
        "            # salida del perceptrón\n",
        "            y_pred = self(x) \n",
        "            # función de pérdida\n",
        "            loss = self.loss(y, y_pred)\n",
        "            _l.append(loss)        \n",
        "            # Backprop \n",
        "            dldy = self.grad_loss(y, y_pred) \n",
        "            grad_w2 = np.dot(self.h.T, dldy)\n",
        "            grad_b2 = dldy.mean(axis=0)\n",
        "            dldh = np.dot(dldy, self.w2.T)*reluPrime(self.h_pre)      \n",
        "            grad_w1 = np.dot(x.T, dldh)\n",
        "            grad_b1 = dldh.mean(axis=0)\n",
        "            # Update (GD)\n",
        "            self.w1 = self.w1 - lr * grad_w1\n",
        "            self.b1 = self.b1 - lr * grad_b1\n",
        "            self.w2 = self.w2 - lr * grad_w2\n",
        "            self.b2 = self.b2 - lr * grad_b2\n",
        "        l.append(np.mean(_l))\n",
        "        # guardamos pesos intermedios para visualización\n",
        "        self.ws.append((\n",
        "            self.w1.copy(),\n",
        "            self.b1.copy(),\n",
        "            self.w2.copy(),\n",
        "            self.b2.copy()\n",
        "        ))\n",
        "        if verbose and not e % log_each:\n",
        "            print(f'Epoch: {e}/{epochs}, Loss: {np.mean(l):.5f}')\n",
        "\n",
        "  def predict(self, ws, x):\n",
        "    w1, b1, w2, b2 = ws\n",
        "    h = relu(np.dot(x, w1) + b1)\n",
        "    y_hat = np.dot(h, w2) + b2\n",
        "    return self.activation(y_hat)"
      ]
    },
    {
      "cell_type": "code",
      "execution_count": 60,
      "metadata": {
        "ExecuteTime": {
          "end_time": "2020-08-05T16:57:40.536617Z",
          "start_time": "2020-08-05T16:57:40.515590Z"
        },
        "id": "WQe4JD8qgZWY"
      },
      "outputs": [],
      "source": [
        "# MLP para regresión\n",
        "class MLPRegression(MLP):\n",
        "    def __init__(self, D_in, H, D_out):\n",
        "        super().__init__(D_in, H, D_out, mse, grad_mse, linear)\n",
        "\n",
        "# MLP para clasificación binaria\n",
        "class MLPBinaryClassification(MLP):\n",
        "    def __init__(self, D_in, H, D_out):\n",
        "        super().__init__(D_in, H, D_out, bce, grad_bce, sigmoid)\n",
        "\n",
        "# MLP para clasificación multiclase\n",
        "class MLPClassification(MLP):\n",
        "    def __init__(self, D_in, H, D_out):\n",
        "        super().__init__(D_in, H, D_out, crossentropy, grad_crossentropy, linear)"
      ]
    },
    {
      "cell_type": "markdown",
      "metadata": {
        "id": "iiIITgESgZWZ"
      },
      "source": [
        "Vamos a probar ahora nuestra implementación para diferentes ejemplos."
      ]
    },
    {
      "cell_type": "markdown",
      "metadata": {
        "id": "_nOEN-OjgZWZ"
      },
      "source": [
        "## Regresión"
      ]
    },
    {
      "cell_type": "markdown",
      "metadata": {
        "id": "Uwirm_2agZWZ"
      },
      "source": [
        "En primer lugar, vamos a replicar los resultados obtenidos en el post anterior para verificar que nuestro modelo de MLP sigue funcionando bien."
      ]
    },
    {
      "cell_type": "code",
      "execution_count": 61,
      "metadata": {
        "ExecuteTime": {
          "end_time": "2020-08-05T16:50:02.227502Z",
          "start_time": "2020-08-05T16:50:02.114509Z"
        },
        "id": "lQRY2xNQgZWZ",
        "outputId": "12c7024a-bdff-48d9-809d-bf2ed5ec0d1b",
        "colab": {
          "base_uri": "https://localhost:8080/",
          "height": 284
        }
      },
      "outputs": [
        {
          "output_type": "display_data",
          "data": {
            "text/plain": [
              "<Figure size 432x288 with 1 Axes>"
            ],
            "image/png": "[encoded data removed]"
          },
          "metadata": {
            "needs_background": "light"
          }
        }
      ],
      "source": [
        "import numpy as np\n",
        "import matplotlib.pyplot as plt\n",
        "\n",
        "x = np.random.rand(100)\n",
        "X = x.reshape(-1, 1)\n",
        "y = 2*x + (np.random.rand(100)-0.5)*0.5\n",
        "\n",
        "plt.plot(x, y, \"b.\")\n",
        "plt.xlabel(\"$x_1$\", fontsize=14)\n",
        "plt.ylabel(\"$y$\", rotation=0, fontsize=14)\n",
        "plt.grid(True)\n",
        "plt.show()"
      ]
    },
    {
      "cell_type": "code",
      "execution_count": 62,
      "metadata": {
        "ExecuteTime": {
          "end_time": "2020-08-05T16:50:02.461619Z",
          "start_time": "2020-08-05T16:50:02.449619Z"
        },
        "id": "hPr18XJlgZWa",
        "outputId": "56e0019d-a47a-44b1-bef1-44a3b0f7a3b2",
        "colab": {
          "base_uri": "https://localhost:8080/"
        }
      },
      "outputs": [
        {
          "output_type": "stream",
          "name": "stdout",
          "text": [
            "Epoch: 10/50, Loss: 1.15845\n",
            "Epoch: 20/50, Loss: 1.07995\n",
            "Epoch: 30/50, Loss: 1.01098\n",
            "Epoch: 40/50, Loss: 0.95024\n",
            "Epoch: 50/50, Loss: 0.89661\n"
          ]
        }
      ],
      "source": [
        "model = MLPRegression(D_in=1, H=3, D_out=1)\n",
        "epochs, lr = 50, 0.01\n",
        "model.fit(x.reshape(len(x),1), y, epochs, lr, log_each=10)"
      ]
    },
    {
      "cell_type": "code",
      "execution_count": 63,
      "metadata": {
        "ExecuteTime": {
          "end_time": "2020-08-05T16:50:02.714491Z",
          "start_time": "2020-08-05T16:50:02.602491Z"
        },
        "code_folding": [],
        "id": "aupL2sPWgZWa",
        "outputId": "c16df5ff-15a4-40fd-c594-3eb502bf70fd",
        "colab": {
          "base_uri": "https://localhost:8080/",
          "height": 284
        }
      },
      "outputs": [
        {
          "output_type": "display_data",
          "data": {
            "text/plain": [
              "<Figure size 432x288 with 1 Axes>"
            ],
            "image/png": "[encoded data removed]"
          },
          "metadata": {
            "needs_background": "light"
          }
        }
      ],
      "source": [
        "x_new = np.linspace(0, 1, 100)\n",
        "x_new = x_new.reshape(len(x_new),1)\n",
        "y_pred = model(x_new)\n",
        "    \n",
        "plt.plot(x, y, \"b.\")\n",
        "plt.plot(x_new, y_pred, \"-k\")\n",
        "plt.xlabel(\"$x_1$\", fontsize=14)\n",
        "plt.ylabel(\"$y$\", rotation=0, fontsize=14)\n",
        "plt.grid(True)\n",
        "plt.show()"
      ]
    },
    {
      "cell_type": "code",
      "execution_count": 64,
      "metadata": {
        "ExecuteTime": {
          "end_time": "2020-08-05T16:49:56.564725Z",
          "start_time": "2020-08-05T16:49:56.446726Z"
        },
        "id": "dZg9vQC9gZWa",
        "outputId": "bbc9ad1e-12c5-4e91-bf8d-081f708fe1bb",
        "colab": {
          "base_uri": "https://localhost:8080/",
          "height": 284
        }
      },
      "outputs": [
        {
          "output_type": "display_data",
          "data": {
            "text/plain": [
              "<Figure size 432x288 with 1 Axes>"
            ],
            "image/png": "[encoded data removed]"
          },
          "metadata": {
            "needs_background": "light"
          }
        }
      ],
      "source": [
        "m = 100\n",
        "x = 6 * np.random.rand(m, 1) - 3\n",
        "y = 0.5 * x**2 + x + 2 + np.random.randn(m, 1)\n",
        "\n",
        "plt.plot(x, y, \"b.\")\n",
        "plt.xlabel(\"$x_1$\", fontsize=14)\n",
        "plt.ylabel(\"$y$\", rotation=0, fontsize=14)\n",
        "plt.grid(True)\n",
        "plt.show()"
      ]
    },
    {
      "cell_type": "code",
      "execution_count": 65,
      "metadata": {
        "ExecuteTime": {
          "end_time": "2020-08-05T16:49:58.833975Z",
          "start_time": "2020-08-05T16:49:58.619932Z"
        },
        "id": "oTDLxdxJgZWb",
        "outputId": "dd39c0c9-545c-43ac-e31a-43b01e5e0019",
        "colab": {
          "base_uri": "https://localhost:8080/"
        }
      },
      "outputs": [
        {
          "output_type": "stream",
          "name": "stdout",
          "text": [
            "Epoch: 10/50, Loss: 1.34682\n",
            "Epoch: 20/50, Loss: 1.19726\n",
            "Epoch: 30/50, Loss: 1.14765\n",
            "Epoch: 40/50, Loss: 1.12311\n",
            "Epoch: 50/50, Loss: 1.10772\n"
          ]
        }
      ],
      "source": [
        "model = MLPRegression(D_in=1, H=6, D_out=1)\n",
        "epochs, lr = 50, 0.01\n",
        "model.fit(x.reshape(len(x),1), y, epochs, lr, batch_size=1, log_each=10)"
      ]
    },
    {
      "cell_type": "code",
      "execution_count": 66,
      "metadata": {
        "ExecuteTime": {
          "end_time": "2020-08-05T16:49:58.945929Z",
          "start_time": "2020-08-05T16:49:58.835932Z"
        },
        "id": "OXj2UvwzgZWb",
        "outputId": "c28751d1-849e-4817-bb79-35a7f875a5b7",
        "colab": {
          "base_uri": "https://localhost:8080/",
          "height": 284
        }
      },
      "outputs": [
        {
          "output_type": "display_data",
          "data": {
            "text/plain": [
              "<Figure size 432x288 with 1 Axes>"
            ],
            "image/png": "[encoded data removed]"
          },
          "metadata": {
            "needs_background": "light"
          }
        }
      ],
      "source": [
        "x_new = np.linspace(-3, 3, 100)\n",
        "x_new = x_new.reshape(len(x_new),1)\n",
        "y_pred = model(x_new)\n",
        "    \n",
        "plt.plot(x, y, \"b.\")\n",
        "plt.plot(x_new, y_pred, \"-k\")\n",
        "plt.xlabel(\"$x_1$\", fontsize=14)\n",
        "plt.ylabel(\"$y$\", rotation=0, fontsize=14)\n",
        "plt.grid(True)\n",
        "plt.show()"
      ]
    },
    {
      "cell_type": "markdown",
      "metadata": {
        "id": "6sPgO0QrgZWb"
      },
      "source": [
        "Como puedes observar nuestro MLP es capaz de ajustarse a datos que no sigan una distribución lineal. Ésta es la principal limitación del `Perceptrón`, es un modelo muy simple, y el MLP es capaz de solventar este problema (siempre y cuando usemos funciones de activación no lineales en la capa oculta. ¿Sabes por qué? Puedes encontrar la respuesta en el [post](https://sensioai.com/blog/023_mlp_backprop) anterior)."
      ]
    },
    {
      "cell_type": "markdown",
      "metadata": {
        "id": "jZ6l8UVigZWb"
      },
      "source": [
        "## Clasificación Binaria"
      ]
    },
    {
      "cell_type": "markdown",
      "metadata": {
        "id": "9UDnhtzlgZWb"
      },
      "source": [
        "Ahora vamos a aplicar nuestro MLP al problema de clasificación binaria. Para ellos vamos a utilizar el dataset *Iris*, que ya conocemos de los posts anteriores de clasificación con el `Perceptrón`."
      ]
    },
    {
      "cell_type": "code",
      "execution_count": 67,
      "metadata": {
        "ExecuteTime": {
          "end_time": "2020-08-05T16:50:08.206468Z",
          "start_time": "2020-08-05T16:50:07.488397Z"
        },
        "id": "PJZh4932gZWb",
        "outputId": "f4a2d024-b99b-4d9e-a257-e867002f028c",
        "colab": {
          "base_uri": "https://localhost:8080/"
        }
      },
      "outputs": [
        {
          "output_type": "execute_result",
          "data": {
            "text/plain": [
              "((150, 2), (150,))"
            ]
          },
          "metadata": {},
          "execution_count": 67
        }
      ],
      "source": [
        "from sklearn.datasets import load_iris\n",
        "\n",
        "iris = load_iris()\n",
        "X = iris.data[:, (2, 3)]  # petal length, petal width\n",
        "y = iris.target\n",
        "\n",
        "X.shape, y.shape"
      ]
    },
    {
      "cell_type": "code",
      "execution_count": 68,
      "metadata": {
        "ExecuteTime": {
          "end_time": "2020-08-05T16:50:08.330468Z",
          "start_time": "2020-08-05T16:50:08.208471Z"
        },
        "id": "8ryVxNNngZWc",
        "outputId": "0acef7bd-9e67-4c7d-a3d3-687ca6246094",
        "colab": {
          "base_uri": "https://localhost:8080/",
          "height": 300
        }
      },
      "outputs": [
        {
          "output_type": "display_data",
          "data": {
            "text/plain": [
              "<Figure size 432x288 with 1 Axes>"
            ],
            "image/png": "[encoded data removed]"
          },
          "metadata": {
            "needs_background": "light"
          }
        }
      ],
      "source": [
        "plt.plot(X[y==0, 0], X[y==0, 1], 's', label=\"Iris Setosa\")\n",
        "plt.plot(X[y==1, 0], X[y==1, 1], 'x', label=\"Iris Versicolor\")\n",
        "plt.plot(X[y==2, 0], X[y==2, 1], 'o', label=\"Iris Virginica\")\n",
        "plt.grid()\n",
        "plt.legend()\n",
        "plt.xlabel('petal length', fontsize=14)\n",
        "plt.ylabel('petal width', fontsize=14)\n",
        "plt.title(\"Iris dataset\", fontsize=14)\n",
        "plt.show()"
      ]
    },
    {
      "cell_type": "markdown",
      "metadata": {
        "id": "EJgE6JsOgZWc"
      },
      "source": [
        "Este dataset contiene información sobre flores y el objetivo es clasificar en tres clases distintas. En esta sección vamos a intentar separar simplemente una de las clases del resto (clasificación binaria)."
      ]
    },
    {
      "cell_type": "code",
      "execution_count": 69,
      "metadata": {
        "ExecuteTime": {
          "end_time": "2020-08-05T16:50:08.659778Z",
          "start_time": "2020-08-05T16:50:08.650778Z"
        },
        "id": "gHXEK0c_gZWc",
        "colab": {
          "base_uri": "https://localhost:8080/"
        },
        "outputId": "2550d2c0-9524-4958-91c5-58dc2947e966"
      },
      "outputs": [
        {
          "output_type": "stream",
          "name": "stderr",
          "text": [
            "<ipython-input-69-568fdf940d76>:1: DeprecationWarning: `np.int` is a deprecated alias for the builtin `int`. To silence this warning, use `int` by itself. Doing this will not modify any behavior and is safe. When replacing `np.int`, you may wish to use e.g. `np.int64` or `np.int32` to specify the precision. If you wish to review your current use, check the release note link for additional information.\n",
            "Deprecated in NumPy 1.20; for more details and guidance: https://numpy.org/devdocs/release/1.20.0-notes.html#deprecations\n",
            "  y = (iris.target == 0).astype(np.int)\n"
          ]
        }
      ],
      "source": [
        "y = (iris.target == 0).astype(np.int)"
      ]
    },
    {
      "cell_type": "code",
      "execution_count": 70,
      "metadata": {
        "ExecuteTime": {
          "end_time": "2020-08-05T16:50:09.285506Z",
          "start_time": "2020-08-05T16:50:09.159509Z"
        },
        "id": "sWePjZb3gZWc",
        "outputId": "f7adbc8a-1d73-4c0c-d256-b3ac4792dd42",
        "colab": {
          "base_uri": "https://localhost:8080/",
          "height": 300
        }
      },
      "outputs": [
        {
          "output_type": "display_data",
          "data": {
            "text/plain": [
              "<Figure size 432x288 with 1 Axes>"
            ],
            "image/png": "[encoded data removed]"
          },
          "metadata": {
            "needs_background": "light"
          }
        }
      ],
      "source": [
        "plt.plot(X[y==1, 0], X[y==1, 1], 's', label=\"Iris Setosa\")\n",
        "plt.plot(X[y==0, 0], X[y==0, 1], 'x', label=\"No Iris Setosa\")\n",
        "plt.grid()\n",
        "plt.legend()\n",
        "plt.xlabel('petal length', fontsize=14)\n",
        "plt.ylabel('petal width', fontsize=14)\n",
        "plt.title(\"Iris dataset\", fontsize=14)\n",
        "plt.show()"
      ]
    },
    {
      "cell_type": "code",
      "execution_count": 71,
      "metadata": {
        "ExecuteTime": {
          "end_time": "2020-08-05T16:51:04.812861Z",
          "start_time": "2020-08-05T16:51:04.413859Z"
        },
        "id": "mlF1gB_TgZWc",
        "outputId": "4117a84c-f40d-4910-f1bf-063b55a281bf",
        "colab": {
          "base_uri": "https://localhost:8080/"
        }
      },
      "outputs": [
        {
          "output_type": "stream",
          "name": "stdout",
          "text": [
            "Epoch: 10/50, Loss: -0.10191\n",
            "Epoch: 20/50, Loss: -0.05635\n",
            "Epoch: 30/50, Loss: -0.03903\n",
            "Epoch: 40/50, Loss: -0.02991\n",
            "Epoch: 50/50, Loss: -0.02429\n"
          ]
        }
      ],
      "source": [
        "model = MLPBinaryClassification(D_in=2, H=3, D_out=1)\n",
        "epochs, lr = 50, 0.01\n",
        "\n",
        "# normalización datos\n",
        "X_mean, X_std = X.mean(axis=0), X.std(axis=0)\n",
        "X_norm = (X - X_mean) / X_std\n",
        "\n",
        "model.fit(X_norm, y, epochs, lr, batch_size=1, log_each=10)"
      ]
    },
    {
      "cell_type": "code",
      "execution_count": 72,
      "metadata": {
        "ExecuteTime": {
          "end_time": "2020-08-05T16:51:10.236426Z",
          "start_time": "2020-08-05T16:51:05.440866Z"
        },
        "code_folding": [
          8
        ],
        "id": "7Rft1GBxgZWd",
        "outputId": "a85c45f8-1778-4f83-e775-b92cabe38942",
        "colab": {
          "base_uri": "https://localhost:8080/",
          "height": 382
        }
      },
      "outputs": [
        {
          "output_type": "execute_result",
          "data": {
            "text/plain": [
              "<matplotlib.animation.FuncAnimation at 0x7f172d1641f0>"
            ],
            "text/html": [
              "<video width=\"576\" height=\"360\" controls autoplay loop>\n",
              "  <source type=\"video/mp4\" src=\"data:video/mp4;base64,AAAAHGZ0eXBNNFYgAAACAGlzb21pc28yYXZjMQAAAAhmcmVlAACGl21kYXQAAAKtBgX//6ncRem9\n",
              "5tlIt5Ys2CDZI+7veDI2NCAtIGNvcmUgMTUyIHIyODU0IGU5YTU5MDMgLSBILjI2NC9NUEVHLTQg\n",
              "QVZDIGNvZGVjIC0gQ29weWxlZnQgMjAwMy0yMDE3IC0gaHR0cDovL3d3dy52aWRlb2xhbi5vcmcv\n",
              "eDI2NC5odG1sIC0gb3B0aW9uczogY2FiYWM9MSByZWY9MyBkZWJsb2NrPTE6MDowIGFuYWx5c2U9\n",
              "MHgzOjB4MTEzIG1lPWhleCBzdWJtZT03IHBzeT0xIHBzeV9yZD0xLjAwOjAuMDAgbWl4ZWRfcmVm\n",
              "PTEgbWVfcmFuZ2U9MTYgY2hyb21hX21lPTEgdHJlbGxpcz0xIDh4OGRjdD0xIGNxbT0wIGRlYWR6\n",
              "b25lPTIxLDExIGZhc3RfcHNraXA9MSBjaHJvbWFfcXBfb2Zmc2V0PS0yIHRocmVhZHM9MyBsb29r\n",
              "YWhlYWRfdGhyZWFkcz0xIHNsaWNlZF90aHJlYWRzPTAgbnI9MCBkZWNpbWF0ZT0xIGludGVybGFj\n",
              "ZWQ9MCBibHVyYXlfY29tcGF0PTAgY29uc3RyYWluZWRfaW50cmE9MCBiZnJhbWVzPTMgYl9weXJh\n",
              "bWlkPTIgYl9hZGFwdD0xIGJfYmlhcz0wIGRpcmVjdD0xIHdlaWdodGI9MSBvcGVuX2dvcD0wIHdl\n",
              "aWdodHA9MiBrZXlpbnQ9MjUwIGtleWludF9taW49NSBzY2VuZWN1dD00MCBpbnRyYV9yZWZyZXNo\n",
              "PTAgcmNfbG9va2FoZWFkPTQwIHJjPWNyZiBtYnRyZWU9MSBjcmY9MjMuMCBxY29tcD0wLjYwIHFw\n",
              "bWluPTAgcXBtYXg9NjkgcXBzdGVwPTQgaXBfcmF0aW89MS40MCBhcT0xOjEuMDAAgAAAN+9liIQA\n",
              "E//+97GPgU3IAA2XOop6H+EVsfSQUXqx2aBk6gAImAAAAwAAD/JZB7zunw3UBxj/BXfwADBMBhqr\n",
              "SmIVzOHsggE1Kg9ETEd4YQeCXHOadUDFUfGLGm8L4avZ/VG/plVArEFvEfaaE5vF4gpJfjxK25Ve\n",
              "WRNBGqSUJM40jQIIS8GM1hQdrzo7xDZ25gT/Tr0PFQEh8GdBINmBI+qzkuoUgmNk9aSrXQYUgX4y\n",
              "yrFlOszYuVhxUPQHEIuTZoGVvcYqihBCrek0AGNqwoaV/5/1AutIwaludbPplwHj9rkJvXxcXgmi\n",
              "V9Kw5xLlr8m6Zq2V5kVsD5/JM7vpF3bFbi/ibH0Qrdt1oF0jjmluxha9MgYTwAAABG5NwwyrCJcX\n",
              "+eIAeT+Y1NqhztskTwTQoToe0F9C4B5W3lTlI/wRvn3lGTp33nkwOLG8o+yX0HokxBjd3/9wHvWF\n",
              "EcbORUdd+dIHP/Mxw4iA5eMNR2CBTX+uHb43WCfWH43kTL+ktm50KP4uAjZNna17VSJ5uH3NntF9\n",
              "nz7v0adrg1u6e0zNgcZTcOmpHk2c1tTgHt8qeWIVucT1BmBfmz9+J+VrnoIYxHLu8DCq4KPJ2aZg\n",
              "d2FJZJT72TLUX8u8hC+P8FhBRg1whe1Cc7FehYXoeuDF81uCV59iJm4ZMQk4uwV2Z6nDZZb+eppq\n",
              "oQIPRTmVZaA/xTGISsRs7KbBxU/ZwXIbSpM3FY5FjOf/RS4vZUgEe/9FOrLYygPD6E+VrPg7NQ2y\n",
              "IuXsPCBzCQgUjXqd40o17wlWQAmxS6Y3PjRjvcTVVtnIw37vQDjBPCNzrrIlfqAoGnH7+d/3Dfnv\n",
              "psm7i7auM29l2oJCSYUqSDDO+/7N3IQf5w3i2vMWxG8elP2xaeyd00WQZCPYVqKEi4aEbDf/qo04\n",
              "8OMcgai+gpm0uWcDYFns/Bl8UNwMx3NiX9r4iZAtOLQ6sxYaaWI+OFQ/JOEVN19xijUV5V9MqXMd\n",
              "a/Oj91AI73DWqNCzXAG0IgDRwN4aRIrYlD41hQAuHaPNR3/+UCvcCIhgfy+IyZ8siMlsr76Htvaa\n",
              "u6NJErH8nMM2Vddee0ejHe5MUPg6ygHqJ7nV//A9A0pEIDg9aaH9OLgplk/uuKQVC0zup+GKbHAL\n",
              "gmpoxMOTQiEHQVW5ARDFMu4mOh4nsaS/owj2IoWr+33GKAvejcRp4xaJJcpnBkvEPD4L5anesuNq\n",
              "Ua9xR4aCGtXNFvCjDfl3KrwprduPoCHwJiwjI4691Q/EhhkyRyRAjZ+CWNKpgAAAuOQWLTvAz7hO\n",
              "1UPxac9/Hgjs6oz+HmnWvjS3vy5JTyS4K+CAIDwcArls1RkVcBF5goAQeP09BdbHQKgqr3Q8gqkS\n",
              "IT3h6zJoHrdyDmNCTvFnKswmPKkAXqCYWsaHAISFZFanwaeyg8JiU1JLxWZbVWZF1Tl/tE3R4H2U\n",
              "z3RFLcoBXsVERDFbBeA6RX53KtVx+QJhZR2L+te9AbfgnXy/xIc+DfCmlOnrxaWCf5ZFDUea+Dlq\n",
              "ZLgJ0OzLPoHdEMhklPHuchCgfck5xCFKQr8bzQbg/KJiXv6VfWb4TOMXew6iPR5GIKmXWclpQanB\n",
              "7W0Mu8h6DoZ/9zus59/o2Qpd6qsj3DcLPHQid9idFsPThzfmTyRD/n//GJeBywxCD1YgQzib/TXH\n",
              "BswPcnDFchDOuK/xkTnljY+YNNzmAbh+1e3RUMqf4dqfVy11yFLeyAnrebbmzvqQx78YT+ceJt5h\n",
              "ck+iM2+fegnKaqZm2tLzxZfUPBOAPKAKHmLYZaTMIa/EywKTD/9zVTaLV7L0WeJgd2PJW9EDBXr2\n",
              "73bSiu8i9xaqg2pqv87Wa4i1whleeJn37zE1JmoBBMFsYHwaLvK1v0cxHUL8KJWu8qti7XeI9zCN\n",
              "Ygvv1ooqhTZKvwk41vG2x1LIRh+skGQRdpd2eNLhDZojp0QoRN0mK6IFZ/2AawB6Hj6EEmsVqQfk\n",
              "FQlVX4AzfM72QqGFubp/T6wLU1YgSa5Nf/oe3VTVuEDnuqlAhPC21E6nribcrxMQfWKxnCa4YIc0\n",
              "3+m+D5pDBTV3gKugDfGSNc/59ZfUJuIzY8MUFAkm6zb/FH1FdvI9Jz0ynJ3R2y8jZ0abvXheEVQ/\n",
              "4bBeb6oRoVzVAyqUH7l99m03RvALfACa8ErkVUViUY0YQD8bNTXJ/iMHNa2IZ+K3wntoix53tZuk\n",
              "JKqzjeRdlENqKrz8eLBMvYs6UetIY31LVoeQk6dWR8JFmzv9fNg1waCOJRyipXZx4+dn2U3VrfLj\n",
              "Mria2tF2MpwVuaUVyf9NmY3rUv97jDmqLSs1G7ACekQL+vl4BY1oEBoAzbrFBMpo6xhJ6z8ghzas\n",
              "TvRNDN/R4IJ8X7m8lQvOG//ccMoP2ppn0goAywCYyd8QB4Rn2hzanxlHZC/pfd3TGP53Rjv5MVPJ\n",
              "PQHy14IJoGw8jviJH8DS3msUaK7xRmIruBBubnj6ymLQMrBES25+Z6n4dm2WoFUEJfcrw1aJFxsB\n",
              "gITvV1X9sxZXkLtsxp4NcB1zRICHvMN+2NelobqY/ClkyFZAhgC4KgXusqmnc92uPjujlEqxSYO+\n",
              "J/L8+ELZiOWPpTQjeeppXRcPI98j17C59TaPCi9MiXkXVuM8bUWBMuDSm4WbYTS+BErHdjxvPv7E\n",
              "yqE0KLo07uQyBNDaS5ONmM8n5RlelRgEDJ3DisdAg7GKGHrMQ/SQANf4nLJ54HxdDfeafXTas6PL\n",
              "+e8NFOg2QQg7mvWcWKJa7Q74c3W7Zm1CNn12XCIMITyaka2DcjBYvPpgy+5NbPCmoiefch3nSVH0\n",
              "n1yO9XBrfa/U2N8T+CSerhEek6KxTr+wM8djC57fHkEGBpGBRKqGfeWYTlRwvC02iv6EUlhCzXgj\n",
              "fq6XyaKWHlDR2hBqoa2XmcSb9bHD17ONvEWwhAI4OQbHroJ7yPD+lXr3+VTDTba3TenydYb52hbw\n",
              "aedy//cpuGtmPW4KgEUjvtlOmiPBh2ree1CrLC0wPAf4UG5Qck4iDn4480aThakGlqzMFSC/E2sj\n",
              "x55s9NYQ3f/Zv4ZiPDhkPyudKKuUjFivFfDqRs6UfbRslU3e1apocfa8kI/BEL7x+BBDc5bV8Fjc\n",
              "APQ6kxGcFyKlcOb9LFrgxec6CLC73/5PzZMrj1IejPGezUjqpWR++iug2ESqRcVEuAqgSDWsqjSw\n",
              "0mqIRnZUveFwWuDk0KRyWI7jgpE54cp1HQb5L6y1jjS3rxBFsFlI7Q9DTsrYyPnp5TO0Rh162SK+\n",
              "09o3DLDVHYS9a3DLiLNoZ7YhHK78UnfAd6w4vlVJ6L5425MLumQXXB/I6UTuSyKFjxsuporKv2EE\n",
              "DlYQRHKcUR9Ldm/jw9Qq1PXuV28cFeNNd+C6nu8OgXFTQk5kuDdcUn6AlYi5YByx3NgBsGFm8dEI\n",
              "mXAp9AH0oscaiuhPjADCWuApTB9poem67fmMiYeRL4Kpjg4CTZ8hxUSPnDLotT2V4MW80a61LZod\n",
              "J8coFDOKg+Fa9Sl0C8F0lC92dz2y0k8p6xwGeWmGMH0Er3TPlcDbbtYu5mxWcWdfiEXnLnIDaxTI\n",
              "eiLM0S2cg6M4anUY3v0j62BGjPgMapIwptQniR179ALUfy5oCdkG4frmnTjeSYr4lRNDnx16VUaA\n",
              "0LRfQgTupRhbvwbWmf/ySb5E4gWV/hqON7LgfqiuMX4dV3fb9tbyF99Jn0AE2YcixriN32lweB10\n",
              "qAkbDJ9pEUE9/D5i0Lb9nl+1KiTfl5Lw9FyWAbfWOaQgsakjuJInsZ0YUt4EoFpWQ9PGRtB678bm\n",
              "ZNh6o8lu28SyjavKIKc5XnbmjdJeATUgzQtel9ZLad7GykFpcScXLZ0Cb/1qSIoGzDAALAOehNvx\n",
              "O+Nqkg/9xC2EyRsB2KmE0cy2D9E/1Lrmt7r41WJRkaSPQ/4oO40VjGxNiV4OQ5MU7aaau66RVtv+\n",
              "fLh0HNVUcbpdXIqwwhqNQpTPOZDZ80Jl9Rb5elJgkSLzL37vsJX9x8GBTOohhBZPUfsbPeq+kTfo\n",
              "QKwJ56duLJX7FeNugjJnXPoduLduGJjcjLGLjgIFZkloobqvtMA3M0NEeJRY8T6X3q1jOgk5IQyU\n",
              "ay31J5TxuTtJ5AOalgWLYNAL11a0bun9p6QKZipacRaO78QA4Z50q990hYN6yTEw87WEHuP4+p6p\n",
              "QAxAtqPVTVfineuTJycRmkZYmFCBK9k+zNwdCSNkR2Wwqrp2/KRDVIJwWGA7fzUyox+NtD9fEBUY\n",
              "U7avf8Gj78iK/kGuYwab9x3uY/0L4HTfxDe9barCRUhODy8ginSZE7y1csBkh+DQ6RNc3M5nNgwD\n",
              "BbU+XXQmloshkXkuE19bGrInQx6RQm0amJU682Hot1zIih1rsvp7zH/bh+jpU/1Qd2ZTMXNoDaOY\n",
              "0oawFX+UK8u5dusJzL8nYQ0P30OHm9pmc4sKCBa9CjfVdmdy6Zf/eV9GZfUsieCis+xKAFRem7WO\n",
              "GbYj/GqS69Cr5At1tXMBP0hW0k19I+XcChmRBJlK194ytfI3FZWeM/TTdHZ5N6/QywTNvPB79E61\n",
              "Vielnx1khe8GH8gRLYSPiTqAKXxCm33iUIUa3/G9dUfw3ee8airgEAdcX9jOPhyTR3WGz0bQkiOo\n",
              "Ij87tgnMvJrUvdATbOWqYFyNgTQhPXYs/ITm1GD0z/fnA6CXinQeO+g7UQ5P/mL2HqbIkQHbsfTc\n",
              "+wQTBvQwVR5UgVau9YVfM1yVArem2vdlCTgtV+T5zgSZmAT01OUphWgMPdIz0UUgPMcegOnr58aO\n",
              "XKvdeABgTA6EOFsfl2q9k0VmO/nckg+KSZyl6+9fFZ3+RKJZFfB66gvxszYyzW9gOl4SozlzsCi2\n",
              "i++FhQv6MmCLWH+5jHtSpe8vCAopPkAoDIjBiG2WBq+RAf/KEm6Ydpw3vm4tbqovLJ7SQFcknZfl\n",
              "NAqtXPkXSAHNykcouw8ypmN0WT16kGtWPaTcNy9EzVOBZlKbCOQS7/fQKXLhey6eK5ITcEz3ON3s\n",
              "eYTcuyaZ6il+FhHfiOYvJmXPhXVhsffQCpYBqLrRA6rp0wLEUmNNftt/Ujx9McyRBHh4n2kIjNYw\n",
              "8SNXaZuVcuPonSj+990OZdN7rz8s3RB90yhaCyTJWIwghpN5zirGjUIv4JzyVSqCyVTtjzugfQHv\n",
              "vCJzfKWo/7H/jqo/3AY/l+e757xo+rZjvEkUmuviMghUUsr9sDuFdYY5azJ4nmH/xRWP2MH4n1qF\n",
              "2kBv3t3zvCm2BLaKB+YqOyIQt6sjEODwNLRLV178SxqIJShTeHVwA+n/erZ1aTDK4H+qz3UUFVqN\n",
              "wTFVsvUU5ecBCbPNtVYG8++MjQWrGao/GcYVZ6dbMea0nv3ZTlfUWoR7FqXOxnT9AxvYv++iaKyE\n",
              "ijfhh0bb0jHSTOyBWtMkLMHZ1skPUCDrt52JUnVpadtBAsZcl2LrfADspe+sjRrubXSANjGYSDFs\n",
              "jLuJ20Ko3KPIBfx6kYE76oRfeKo0Pg+wAeZo7bgyIAwgE40w52bDMr1iI8FhetSWuCH9GIiAMtkD\n",
              "/O2iZn7kYRyqm8+rlLFhK624N4npfxRzIvWjXpbC3E15C+dAd/YA4QuWcoGGy/ByOFYexzJ8zQ0y\n",
              "eKv3KIefWd92f1iPjXayto7T1Xhx90PP/Pt1R5RNSIS50Er/Iu/74V70FpwdUfw5lqijUV/HxgfN\n",
              "xt8BJNbYMz3nZe6yS0ZJnqMy9lRR/8iflpl10LHYMGum+UbD8Jus+JBaGle7i3WksjBa10pT8la/\n",
              "LFk4kq+Nw0HcP+4AKYiKXxUFIQv1waCZley/rDYbwfAxBssHbSdI71SLws6hmU651wiByG8yAO7n\n",
              "ahXqYuLHVv02lV1H+JOgdM8F1uEXn1jjM/Il+NikjVj7diA1BTn7BTosZIWuRBVNkekK+s4Xe+kB\n",
              "gce3zyLMcQL4fi2U3WUM6S5x4p2GRqpOB3HRulYUziKXce2j5nzRPOkHDCWpFsV8EAsPaZc/i4XP\n",
              "1g/4Y7hjMwQ6X/OBaksWZ0k3mzrN6cwqIbBl8Seo4zKKZpx8aMaM6q7qy0DB/tVWxykM+Su32s9B\n",
              "fRYDtCaCIsgA7rDjx24t2mTXW/hPj8NhMKWle7dK4XSPoYPgnGzgI6g8sojuP/Fxw07VlW+xy1l5\n",
              "BRUEWf7Pg2GKxIIMnZ8E8eZsYyrNcTxWFBKvueOhe1u6KCD70O+fk7hmru+0zypMoZ2+VgO/vhSn\n",
              "BJ1oaUGWv4g65F3GhvcsYXfMsklRMG6RJBEooucvmYWw0NykVOS9HX4FSM5v6/ZFZipMRXWHBqY9\n",
              "HZD8LX8XhpTFVTO+/ymgicvh890FlMjqN/RiSuBnxCV6WPucxpObQaFcp+/+f+d9IFz345Dp/EXJ\n",
              "3JdASZC6Pnx5b2moxo2Y14Y9LfMVWtFyOxtJr+1rugaHqZigMTvUFwovVZQNB/Lg95Vu+VrUQd2F\n",
              "x2zARcb+H3cyxY+Kbz2eHQTZaD51NVVKqWHVczbYcoPLEMkqKJ4vttlKEAaoAqLwW8lwFUcH60YO\n",
              "HcvYsHVb7S19GnA20oQbL6EF8V32EF/lCscLVgBIaoDKrIB2LlZX+7G8uSc/WSGdFelQZNdmLkiy\n",
              "mQqgq/JTjiioi9v3xbsdxVmLilgXCDFTeq5qvbei8oy1hJxub9SWVDcsyjRSve5q6tuwywiWO97w\n",
              "KWAgpg0BfX9yFslkltCQVnNn31FDogl/u447vuIKwvATEmQmaJGTU/KafpVsGwNvpyRWKBahbNR7\n",
              "5i1EDkYTddQUhZR9K5DOzjIrpWjZzsq8LLUT93poiwxz6H8OwrwwWEF0cZvNt9tjKQHc7G968U3r\n",
              "z3brM19sHb93/R8PuRIdPDJQqlHQ3d8akDjJa3DFlKuVb1pJfpx3qrnNNL9+PwOipwH+O0vjqYR6\n",
              "sSg5rlss7/rEm+c/ePDSkGrUONe2O88N3oByaixQIJxdlCES4UtF4w45vpfh1Zsegy8NjEnCZJRK\n",
              "ZqannxqMlqoAzo2ooe9FLUciqTmW6HByJNyD0UuEIvcd+o4mkP2gxp7NnO8KDzL/V2QU/kR3L9sH\n",
              "8qWwQT5p7fkPxzL8AYWpqpUOh1rYnGYn31zucoY6oRzrh2gqPrh6yxRs9upHRyw0SIrIXxD1lFzd\n",
              "uthmAADvSoWsQsPL712ZHnMDRB4jjp6LyHOCTJ/WLxA3R8atoeERtexHFzHKyBD29qswu5I36P+c\n",
              "VmGNYUPsYH3lYXcMkCSa/Bz6AvHmhl0BtEEsB5kUyJpeITOazF1/uxVqT5ihD8QVm4ca/qtdn9ti\n",
              "75/6CqVzKagU0Z/nsdNsH08tnnH5BiazyPZI52v/iT0Z8ktt3q2pYN3W/z3O5edjgACUTVDtfqVF\n",
              "a53VGx4fXzWKdOYY91wQDj2aZCP0/lY6ebVkvbWxy/U/C0c+/6DNHkICk4DDYDFlFkb//kKJgpJ9\n",
              "z/oWiytOq070tAiQZhKFeY5ytDnO8y5k/wxAzy/WKVFdyK7JxwOAlhz3Hjo7p62NVnqYMrv1/S2f\n",
              "txoGdeyBdZDEWRvwxbdkbK0nR7Fmu0ZdXADdy660ZWbXUkE+nr6CqXu9+Dzojk7PMgp4baCiKwUr\n",
              "EpvZX+0ffnD6VI2kx6lM4EpdlZY9y1+hBJJgSlm9lfisLTR+7UIk5BJ4+4+2B/cbi7zIuBiqZzZn\n",
              "8l4I03GzOxYh/8JC77RgFx2ofPWBTMpbm3zevyWuyDNVHt8pGIxOSSP2NqPVpY1YVzTtL0QEWNBS\n",
              "2zOdtdImJ0W563EKw0nvcpZzV3siRrRwGFy4ws744GiEUm+Py1f28b2KhAuoN033/6ErvRNohjoR\n",
              "TnQlr170sSpt/uyabwshoqS8PbpYE0MSkCRWn3+Frgg6gvHr1906xKdqaq4ZjAoJXidsk9Os6SOt\n",
              "6a9lcI2ViWwzUoP5lajAONg5KVV4nK9L7tki0Cg2/xbbFEMsWw1fVLLV6UPnkTQm2JnsZ1ekOYEK\n",
              "CheSTH6FiKH5pZXM/8Zj2HGxRMlbP9ZL4FsjoxpYODXhjCHSrNKp6t38mWKvKtIj3Vo2v0cM3roK\n",
              "RLOWUCv1+6oWVzf+SkkrBurrY4TMhrSVvfx9jN3K7PLfXExKCh29A9SVYetit9iRhxq1GHTs2ARW\n",
              "PUWZMJ8COv7oiGf1TDVJ9OIz98gi0a1XAtqny3RpDQXDozz3Aw0IC0Qk8aHiduN3GLy6ccfA2jWc\n",
              "AlECAhIMUfgPAlo34W4ypW9zHaEcLVdB+tVgImlI/z4Knco+0mpXrZUdSZoTSMaBF2VcABIqB+ok\n",
              "1zYimqO1Ef94Xl6djV37a10NGurR3B6Am5CHQ+/PbulzezUwpH9acTYQy3t2zYDd46SWDm++e/Km\n",
              "/94kib3bisVXgZnCpY48a4juWHa5O27EwX1KV2v/lop/ORv0H1I29ZPrXSrryKBhSuimd8gyi70N\n",
              "yeHOvqrklspGEf/8hNZpGFj18aTaaKOmwuh9Ka/nK8wEm/esOHoq9tTzHhZENENOzX4z76ty1n0m\n",
              "lFaIpwoExQssGmzvWGpz67Nqmdro2xAl96u1drBfYE6PAhqDIr6HknXBr4EeAL+x8s9Qi6sTsY99\n",
              "dCxtg75OMCqD4d/zv8L8dFNHnzLJgC2aYfifynJTIfiGrIQ6hvQuWbDk6kyHxOh4Qz4uU3sc9ezd\n",
              "lRFhgfpGgA75MUPPL0PYCvbL5YZr15eNIrlL8y2Vdufv7+VMnEMUoEkHqmBFsl3cX90bu5Gf4iJP\n",
              "R3FaCa451gujvaaWnxruw8rJkVOOn50K5Ddcsm4GToCQFU0hmlzTmBKBiri6wEztC+cuuohTrDZm\n",
              "LCNdrBSVml8knIUR8JxJ82JsK/Ku9TWW7VIlzpjRt/0Sl3e1sjzljCAwuPhIueEY13BtJbzfxDZS\n",
              "uNbHCg57Id3+I3SKUVE7uDzXEQV2TGiWdfUtZtMSoSlHR+6lVORkMrXtYxycuenffzGWEzHd/fNZ\n",
              "7Fa1MF5rs+iMCsYgTzajkIKVZL0DRW8epONc5EKxpjTcYIe3KUzHcjCT2aEjWod28GtKjwA+UifA\n",
              "kSiEUeDl55ibEFNjD7NdnqcIpznmVukiPB0fXJtZh//oSc60LWeGLtyrzzaHj1FrY+0ZhCmaVa73\n",
              "G2QMqV4ZyyTX6I+wwQHM32xWKtC07mv6EdT81AEUz/POWOkigb4ZFuduj4DYRccI8riyXp78wXup\n",
              "4ZF3jPEan3T/m1DwaWuSOarnwpgJVec4REOyuAeJZtlYk9WdFcROt/K1sTUcUgXSzJP/A+TR0B2u\n",
              "aX5AOGMg62oFfd8F8FIbXK+l1LEWM8h8+HXOaFbEYjjWcO5lXFCtKFGDJ5BudmiEIxIoOfS7vi9E\n",
              "YUK1bJ2SKMhlNQoR0NRUAm60Yv5MUPKSUoF/oTp6GXmxq2wSU2mF9FiYmz5WcQUD9nk0CEQvIz43\n",
              "L6X5oAOW9W2SsuuvcOe+5PTOXM/P3/AD2Domr9Z/CxKA10FezVuKWgCfUHsarKnYfm9SR1zz2Ghz\n",
              "ojbUOCUwR6yRk2fvN1Yq9Q0tUyIslhDkNEdHe5xQdYbzwHDvKVuM0i6GT1MpLpABbgwyAq67MpXa\n",
              "Krf/i8H/If/jNg1zaml8bJGkTStpZKsY4ZdkmvKf1FzTE8VL51+z+K93bJqP/+QA8uV/5boR8tMb\n",
              "LJ6uQT7foxneeq7W1ay03ADHjghyCyFF97IdL+LJQxS0rWi0gNYCPDhR57MMSq0jGdmHJnd8Tx2r\n",
              "ogGdlVZrTYUu2OmIrku89jqZaA1nV7fbUEJc2VnHgay158vjUGKXYtuGWktv9gCAB9MNWVOTsTGu\n",
              "GjayFndB8m02A5kWpXTieHKbaBse0jQLExUbU5tQdKY+UDWngocbkuZ976RXlqT7tx0hdslWTYAy\n",
              "TSl7I3LhjgfUSYgMEY6PafGptnZTjM3Fm4friTsCKFKhuUP4htMNy/63iKx+n5jsur9c/Ug6HPzV\n",
              "q7zHhv7hj/4sQpwUB+ILz3gL6jQ3/ifXe2d481YH82psqzXCNYdnp8DgZAn2TmfmFrPR8lA0Gnap\n",
              "bFZvfofo/l8Ic0EVkio8DDQ/0/Bqjk01KuKUqbQLPwng8WjjYlQVjST/Fp9LWzgpswW9ceTItMpH\n",
              "oKXgbZUs7rCEPQ91A8jiRwkVLPW7crZ1kel5EDf9TYGxsCZrixniRCa07pUJEiFHLkIxurkN2zJA\n",
              "Cbqjr3fpcrMWaSX1qqBz7486lalWHIc4vk6atcZyEeX421VR56VAlDDCUDoIby66wEKQIzu5gkl1\n",
              "TTbioK0vrXIPd4GXKb7USyxhRqjPqpQEwoNhaTvv+Yf3TLA5JtfvCXRknxJhA6zowlV48lhaGJON\n",
              "9+YKv2gpzy1t0jcGwuhXADTgkx0SIC9unoz5AAoc7+zeG2qRKjmwEOpNQVDHW+bqdMeqxKiUdfsi\n",
              "ZTX0RL9CGCGHxOVIt2Bc6VeOg66yNAMsYfRRXqBZeNUDYQZtHW3GzYXK+bs3YFUzRGyMvLs6jDkE\n",
              "SnvTONcnV4maMHk5EE14tOMvOfU1KyLDL6dkwTOJrYHsRF3zJ/ioXvSfwhMFIFqdAILBPpsXXyWN\n",
              "IwDvd3fEIzgdG8wy8ej1wYiuWx+bKA3PoG3zWttFjDB0/FD5ksSZh5VYysv4C2RNWip+5l1nTBN2\n",
              "GAm8ErY4g0l3/42ddTsjiXgZvVvYMfGjBWXc63Qo71p0rZs1FU8UAn3qbtS55C5kryKfEYH14mle\n",
              "FI0UtnTjcZFPtJDpSH8QycnOXhI/Ei3BVvLn8Lc1wokuoJ9WOB0HmxWJs0jNNEU7/HideCFk0sJP\n",
              "6dxQKUwmMARS92g04VYoRihtHQZ57W+8yCCDkKmMUmhvNKtJ3ItbRWhWqrgnTVo3X4Ab2UcJ3R8C\n",
              "1Z22JnyT2/gi0gpkbtFTaIJJJ0wkTi2XoeOG8su6u9ixoXzsDLdqTDbapXbiiDcy3gzXuMcAPJwf\n",
              "aTa+Pw7ZTtwCgkV1mnFU1ZfihkuSODG3XNfD0fTkdGWcjFJNuL1DZVlntKKKKRgEK39yJ18AoXp2\n",
              "4RzctpQORX7N/LpdPZcncoQ8MtUbZRyP1pgjzk2w4IEKCYite28cU9m6G9EawNzwSsZkGONoETV5\n",
              "Q8KR21zuOqdj0DN+OfXH3yD8AGvoPjeZfYNNR2QzK9ZS6nPaYPjhjdrNOdmTb1bF2Irp6fOMHU/P\n",
              "gB/J+M4R4WIUem2RBcPW4+ulywK608f2PUY+J9gdcv+DdlIhiIf5T2+KT54S8s+4DjPzOMjdCIhJ\n",
              "3TK0K2T/60299mDHSaqHC9joda2eSuOgxdDTrKovih4PyDtToVqKWiq/C/+k9aUdsvYsAHIAisMa\n",
              "N8d9CQzbKp7NxVMhXNWT6PeKaylgtHrWQPPgQBQ53FIONrq8hPlHYPxdt+7QxeeVFlaUDQVjFJz7\n",
              "yiOTbBfy63HiJsuAtamipnckxZGSACSGHR/tbbUCSKUfOj60NceV9Uu+Uxk9YjBWrNFcG12ttIvJ\n",
              "OZR3o27UClITkDuqX/WkjG5pTTyaS04srIfL3o7J70YZd1SbnM4M6mLBE6+rtavA7gItk/A2xdBs\n",
              "yqFjxl0VTUl5e8j9QNjp68tqVnYtHmIUoHe6evhY27VbYeii0kO09Q7DeDm7Ya1wQm8/5R7nCtvE\n",
              "CyHghU/m/l2oEoliM3rvd7OQe0BS+aNbk9E+xyncHEByI/N6HP4Q5CsCJYai2bf0BqX5DHiH9ZX2\n",
              "+G0MURxf/48cfnqD1bu+4UmxjU7DmtzfvljBQqEiHPDSgMA7uLekqyFn7b1qER7ubIqA3tnlGUgS\n",
              "REsJ3ueWaxpMyn1D9b514ro+FTuPU92DTHoKZomL5nj8+oiWTAciDDdlAzaHDi2922SeO3Tw6RLE\n",
              "FA4YyIXoXf6/j7dN74/3f9FolKZECZNM/DJAd5Socfu2KiYNqCnwvw+WH5VMdgIp/WpS1J6cTJxr\n",
              "0jnJlY5z9l60JLKwqyXE7+UN4ZJ+vu0+fFCsvgRRfEdXg9CJhRagj/KgHtRN4Nh+cE2ArrFIp17O\n",
              "nwFKHexHtykBZFllPub2wRNojEnqVH4rkAUJ23jhFGozIQv25kMSRkPtaKIo4Sw0SvQTIHduyjst\n",
              "bOTDr9fuNvs/YAtXdcZpLZfcWwomDKRHAYbhjhLDkh6a/SuG5N9F35wp7C5c0A3pqRleyYtSrrQM\n",
              "Pej0xn2l6B8pXLOF4KCqTXyOzEda894LnW0JXkZdKOPx3UI1IAEer6EXS6/5GAdaGh4Gt89guMsQ\n",
              "85mUaFaaEob9kvxpZ/Us0O5D3TcmFoLPFz4Lkt09kTGI4LhIXWv8nKWiwNQW22GpFxelUTNWjTqh\n",
              "DM9mwaXD8RiokzEVUDXGAgXpziAOcBv6l/QCb8qX5nhxrNrhDEP7XX9ucQ/+1Atfz6UwFPeDQ3MG\n",
              "ZYpShj4QrPRPNHg/JsqwRD8ZmAHlBjsFRkmq/+n9S9cYPRgorzciCMnUu9fYHkyOJR6kZ/M7iQ+w\n",
              "EL63DAcR72MT/y//Fy0SWoHb22K7SBYEby37q9WJcGHVnTWHAGeyH5r2O0/DE5fEXbX/UaihXMSL\n",
              "MczDf7bTWz2mbbSNCxAwwYPQq0S1vx5PZWM+R5hbklsKLBJ6JoIQcZ4MezEaoy6iIn53cQjbysLX\n",
              "kd7MZWd8HR0mb3HrVmUhbGg2KNyvBPx3kQzHq2tRF/lG6c4SQooUJhOgAIapHrlR8nPzgpezj3TY\n",
              "DYi9QgtoxD1Z6Ov8xbQcxoJwKM3/MxdgE2Csj8f+Jw9OefcqyqtocqVfHMolAJKtbWzSAHbUawE9\n",
              "4aYToG2SkIzZdFw5G9LdZW5fPOOJdRndF/ax799ENhEAGqEaZjY/htC/X5sYUMGnk2XKZ3SQzIIw\n",
              "BYZ08tQgqlUQoPTR28ZV7ggJD0HRVDuU357c4JAuHEYqst6xSoojJMsADxdeh/DePoXhBjeB6IBT\n",
              "kelWP75gqnJR1vJkfatsSMmyTSaOfb2Lh7G/5hi0az0t2An89Dl5Z8N8P8HKyeXJ7QCfjwGCyklZ\n",
              "gZ9lhIopdmNJpmZEPdAjmMYNx4X6oCtnDDnKx8RiCJrXVyUw8wo4k9+93TYGi/buCHFasPAk00Hy\n",
              "eLSsBslIW9H2nusXjeU+/NbFJN7g+OoSfpm9Sk87gH7ywhG6fg/u7e6lVRSwTpCSfuCG+qe0+/Ft\n",
              "4Wa2vFOCtNrwYrO/5ZFyduI5R6WmM1Pq9kiWx+aHx8Rjz0kHmzqh/tcZHV/EyQ242pULq8QW7BNz\n",
              "51jV8KJjdiva8Y3CRuuSzYdryraK3wAvrop99zRPBrZ7jW17CdowmM71Dd499djMy6ELIsJ1zMKb\n",
              "EzxV2BdEr5ovtRF3QbowbhUMH7cRCRR2s3qFKyyzTJNX8NnlwRaQrD4Lfwa4AMFLr3HSW7xhhlPb\n",
              "IhU/kOeq2nL3tKwQK7UFHM59x7EhVsqgOIaQ9PTEGiouA2R+7GVtVd+dZ/OlYjuGSWmruJdIvA5v\n",
              "tjcVpRswWqoDLghX2clM1p2Dxgxq4g0RCPobVldACJKZiZDYW+sZYRzfvqNc3yXETBJzcIB9t4Vb\n",
              "T5osi4uZyZM9cdmglTsuVly0C15Ktq2aOXF7tS/KZxFozzXqd8jUfqVguiZBsnWppj68U6tQmlC2\n",
              "WVj+Y7PBOkYY9epBSABdl3Tu4iI7oSD6LlNrDnCSzYmYxSBXuXb9feyn3eWut4u6iiuR9d1zETM3\n",
              "9/NY3PebHoDD80+8vqZtXrBSxdVQhK8pzdrydVeIwozag76v9rRzDfti2QUiKrV01p5bBKw+kiLU\n",
              "6u/CsfMUUR8UXsiCkhHhlLaI9tCJTMeIRJj+nCK06OZ87zVuKhsok00GfBKSqGezPi5sgwL7MOw2\n",
              "Ks/z3iARMSRAy1yFCL3ngP6Dyc/YNmoZ5OhJzSxZfRD43CY9CdvjmdhC5jo9r930LFUEROtMNCIO\n",
              "NupkOlMqwMrTyac/4JK6qsG7vyShY0JFkuWDuFt8/IyOLTDB9bJG2woxznmA7/+1ZVxCKyn9Fj/+\n",
              "ZzWu8Em+Th7TnFIX+ueiROe79PdLzEPcOm1aRRbaEBvFpS3qdOsgtVAY3/UxKtmv3LhQAA3XEXv3\n",
              "aoKox0givAIvQS1b2hWdhk5lUXifpyLnTUPWjaHew+A9w/1B/XMHKLSY9fUwhgm6UVLqoLFOmDgK\n",
              "8ocRsKotFY0mkMEV51Q/5Ue4loT6uY3lno/QREjQHPYBkh9ryPO4Vrcx+2+MMXgv4G1CSmNILdAh\n",
              "/ZUlfaqkhGlmFdGwt5g08aWKZMkHqvDRSORcvi/G+8qadcniH2d0H6ifzinnh5uDcKZr4AEN+Cc8\n",
              "rQWcVagVfaE57S4s7XHsvq3I+8Fg9Jdpn8qEEWCcXsVQ5SCk8CcGWeaNDHXF8jT0cG7t+lzm+PJ1\n",
              "wLp+T0Y5Naz7jshBpT6P1cUnVl7KWtXWb9UJ3qRpqnk4wna5ygSwzjseFarNSeyt3JiDrJEVswQn\n",
              "3t4K/ADQTSNoT2oCry8tZv01SwZZ+bxtmUAkBT4582JWSnT8tsYYd9eQXZoOQ5Fd48x6ejXhWLSL\n",
              "R79SEHeRXG3hgZq1+NLXkyU/PVNgakJ92xpzjNhcnko69K3d7qcfW+lGLU1QN1LGayLh6FmDlS2W\n",
              "G+6BVAPc8A/OsekP728OUgcglgDSEZ08hUDnlCpOcSuVMK83cjsub9E2vU9GzfpNFW8HkpVcci+r\n",
              "xyvYIxEUQOGAjP3kDWi5sdHyP3H96rovpRChpDv7hp5IiZpLy1sCJxEsvumPwqCUiY9b99akbtWH\n",
              "SN2dF29YCo6iPL8o50G1JsnnjmYUZa1PcxlBxooIbkMDAZWIdBmXgBtfZOZtq7b3i6e4DuSs/5zH\n",
              "5XERfyLtmzcs5NCHCqkNnt7xU65UcDtyURrr3E7fwYo2OfWqvF+82fTIzp61PUqdDj0OzzP2VYsI\n",
              "IlR5AH2eKsBozGV6f5XzkLGUUY+uZ7bWk4U9yaI8cK75xTa1x5+bklPPlwPBbM6ghmlQRLBZIkqo\n",
              "hJ782641G+NSms7vQsYOFNOJQfr8hlhPwSq2XCzvoLxIVU//ibcRJrAOJIc/cIjKzEUGW101ti2g\n",
              "UZHEFGseoic78PYRrWT7PflLcX/hTvbeUPcZDfMXcyvkINJm+C9vSaB10HuXkPYXUfJBRhGR0oxu\n",
              "y8xO7WZ3uClKDd4KfaJYAuH6QcTFQqF+eIWHRg+o3gFT7cjrzal53dJuKoLTwhVKD1JMwS8HN0DU\n",
              "KliI6L3dQ5sdxpM4DDDRC5XY5jLTBULxCowuesUuC8LApHnW4fWAXsAiAigXc9SEB41Cjd1oz4cq\n",
              "B7LvWKZtj/zvd9otv1mB2bgusiYHIGyBVLeLP5KoYRKrNoA0+SV8xkCswX+k0ncQBb4aBmZE6ykR\n",
              "w6fw3EaR71qYv1/WFuWoKYJV6f8cvW3XcosyMwV3ctbgUjj/eu0j/G2s88u3DQTXj1sq+TwVvc0o\n",
              "XckYiSPBTv6HD2t45QdRjAyyZId+xZ9Idybxv+KsnvQFnX1L/ZxUW45EN0CAiRu7g06HjhCvrDvp\n",
              "Guvfl+SivPBQOwch77KTmEKJabPUzlD5usWmruyK1f5uhUymmP4/zhw4ElO8hGdkeD9hufmteQkB\n",
              "DWRzR22jebswS2vRCF7FglrVDLFUZsLKteitUB0a5Q99n32Ris6iCG6lmX9rt7r0H6l/KPChYtcA\n",
              "h3XaN4fUcH3qk6ha0lfcO9i6goiNdOgVhCxlztYfXWE+DLyTCfzdH148BejKqveIZJ+MZ0LTXwEg\n",
              "mulfScwhCCOH/7geDNdLclYdY3eTawPb8mdi1w1+oq4htDwDWKFJin6z5SHsI5C3/1NKgQjfsz6o\n",
              "W/GJeI6piSpwPUaTIq9ROeQcmvw2yPJ8z4c/lsGtHWVroAOM2ftBqkZt3nYt33j5+7/R8VXm9Nxr\n",
              "DVGvIetuTOvwekXLnnt60HVHSd6meWzCwMj2vpvpiN04Moo6+7L3+qT5O1fdPlcquizHes2F3+Xc\n",
              "S9siUCdH3l3VN4mhX3yEOtcynOvufDvxClBBBRDYcT8Cn0DWXky0L3BhGfHybztSBgiSoieUy2LE\n",
              "Trb93B8HWYUdG0VzIBVmx6kjo1h5gkjOBvc7cfgq2ORTrDCVgfzeldKiVokxOVG96MHTt0woKCRJ\n",
              "lj+ct3AMYR7855bd5A+P1+8qx3AENnJ+SXjczeVjba2uRVITEpcF4R1i1cAG9m5aOT9384FRpaCR\n",
              "OygRBI+gwmHb17CweeTsH8THNUx7Ovq4bNnoR1L/F8GWeaaZXm+bg0P6If/crKS5JtWv6N/nuPKN\n",
              "UAca0qnjFl8L9gs93nAx5OI3TFFsudw6hodD77r+FKd4D61qvlktK+XeCWlH0KzVn1nti35sBpsT\n",
              "NUWpWXZPtpkl7n0DHhgKktB6KLa/GWK7uuEDZq5cMQ4qEhOUgr1Ahef7FUFf+rIwJaWN6wes/1d7\n",
              "8eZ2eqZW4BeELlc6C6WTN5r/GOvwNgdsfwDmqrPBnND/stAlyyT3ILKGhcJqc2ISyjNQi2901+lJ\n",
              "OgFYuU836JhoUl39UsaDgdpnfc9dCzGJEQdao6iC6hdm8SS/oBHEfXPl0hXhphYraNmaANolORIr\n",
              "7zjz1s+TFUKOoqdcX/DeXbowPMQJuAgjzn+AKmlssmg+CMR4No48HlB1OirTLk4iTMsrU+DLL10Q\n",
              "tR8S1AxI7t6f4UpRRGx2ut9JswoHftCl/3qFKdk+5exxfTuM0yoy/W9Y3AreP/9bHBCiqOok3VIC\n",
              "k5pLx9tGW/Lt0hF/5RMFkCieGqL6ryPDtW5c4AN9kLEDFve2PuC+4NQ+pZtU/17A14WeDz7olO7u\n",
              "NM3PqyVe5yQ5XemUOcmLjNML3twuWFjxwfk9r+eUSzGPxsqVMAoG5kmZA1F3uQCNuYCXnOqX9RpM\n",
              "Veyl6qi7GlAjjJV5ySuJDASCNGYih+t1Ahri3+UPZHUxij/wra/jSvC5/uV8/15LS28NJgJXYszT\n",
              "7pKDthT/1nkMBd243C2s1ZCB9QWMRijd8ZkGpzhA/rGZk4y4HDaiJ/oT5PxAqtc34g+iIV1l4Wof\n",
              "IdjLxaje+5qQe13l8CjxSnQwWBySI9NMGih2E8eOetJKAOr9ojVuZfV01/AWLLhtb94YdzsQ1pXJ\n",
              "Jf7iH/VyJ9RZ5q+6dCiyNsHzDY5w7AMpPy7qA6tW1AgdINFAMlJQgEty65r0yycPVL4ZLyEm2eLq\n",
              "ueKlpuQikR3YvPgGALhjVTTqLp4C2rQZ/R2t89HFaGuG9Olrm0QRHEhgZAp/8FEO+5ZDSKYL/2ks\n",
              "x20zUW4l/jNg6D5XNK3vANs2f2YlAKOur2zwjQvJnApV24Wx0sOvylyerc9mQL0wkFaMBvLhIv3g\n",
              "Pp1h160rnPemgWZ5SInFaIuoi7Rl3YZ9EnCSjS3XPa//rJfs8JYQ9OIgQ6ce+Um5xX1fandmpXUJ\n",
              "zUvRv5uHsYZUkfPweoAX5vFAAqXKLO7bMX4c74Zp6VI6kn4qBYjz799Ny90sLkhm3JGHpp65If21\n",
              "tmhYA+tlRpmlZUu8FXez/xBIClil8lrEjzUCiZgvxPi6Y7L73wM6eX9d0ZqdQuVrzPNWR3XHjxx4\n",
              "OGYyvExYo0DVLuc03GbNrrwLjq2ZzgPFqnPXJM7A7lv60vCvRc7/mfLDwCTeOOsovyzpvkLIunZ7\n",
              "eUAKo6yW/2y6S0mwLSrvaSostdtFltwjR4OUv6/PFNcuuHtF/HsHcrU3PJxzdDhlQ56FqzMznZH1\n",
              "QdLH5/FmwvuDD5KRVHb8fbQYtOK3pw3xiINccwcyMtL2V32XJ8su4169inQ8Mvc3kwgTu8IgIr2T\n",
              "oTHQe4HVpJm2k5JTpxDo7yhQYJeXpwyoVoc9JVPYdzlnJm6cLfcYosZaVM7pr6rbH9VtcjQydY9n\n",
              "oUcwWHRx2tiTEpt++bb1/4+b5wQNXEgR/k3zLP+ukkAGEYrTXYKJmBqxZHAdkdZ5Qh014P5RreH+\n",
              "KKNXfhOQ+hkp0u/AQf9iXct5X9u37h9yVM575WPLYxCAKrBi+Y0FqVsMmsgvE8WKXMbLzjnu/w35\n",
              "l2gD0aWMHdcAMwLTORszPbYby5iARq6iakMN750dbWM+LLUf4s2dj8XZZhVk8zosoBrD2ScOSAjF\n",
              "7ZgwhuLjrnFunr921iIO9e0wVfzLfBZoLS5U0z+YUFRtWv53UeKJp3vFl06aZlMhU+lwPFGtBEHd\n",
              "WYeHL0P8eDL5koL59N1FPhH2Le7nl8WGhPY5Z+RjDCZJFGqQhhf+GMqvXCYoWMfV4V9G5G+midup\n",
              "vgFzJO7geTfFIW+8HT7PZj4FJAkUDNtkef4ssJcSpnnNuj9oGyGPAi4xrDU1HNfUtuFFCPtcqrYu\n",
              "rAHF6Stdm6uX5nxc5W9Jv5/hFHhG7mV3ZtBOJVc2B/ZxSbZy39IdowvCG6TWBI78vFS5Sb7YUnRD\n",
              "TYRIHdwZLNOLOqE1ddj1D/Ew4writK2LiucVf+hK/crx1KVBGvxvFI0Xr+IuiDapKI88YYellmyT\n",
              "s09gqgVDQbhwMxzrt1hYxWBZpjzL7oR2Ii+xqqdZNph9QdDfdIXZkG4wkKK82+v47anh5e+Rhh8j\n",
              "ln4tRXKCIfha5lTtyMgPmpvNvEyCCYzT8V9KJ1zs6j+zMG+iydu6bGz5o7MC9pCespR6xzEb2qrz\n",
              "1CWA+4BhjeNS9FQnbcbFud71wSOLyDbuAWbPaOK5WjQrIn5VO5NGGbgklLyFWNyRDu0w6qDXd9VD\n",
              "duLbkZw3luDEFuXxmSb7yxG1A1tK9x+vGyjenYl5VB5Oc/b6T86vGcO+IuiECx4FBa+AEhigcN3B\n",
              "+yNdEOTPYGlrSV07s1A6QYLeu6LS8xGErFlO5HWcy9XvIuJd3OJmKqvOX1KVYODBzvCPUTsfI93H\n",
              "R7+wYn0whXirJayHhzlV9Tdf3KeIn0Qdae0geNJD95FVxyvJbj+m8BK3ZA6pcoeE143zMNpof0lj\n",
              "KyWwhE3M6qlFOsvwJJATUDxFiLupWbG5QtdmVwJtr7t+QjDREzKLhU5yf7vKFZk9Xtl6ylauSUCQ\n",
              "/URPbT84F6/BrQT1H9tC1GhgZe+/XWKgRkq8Ge6UMXHsLlmV8XeVWqU741mcDTs19zAqzhEkJLw5\n",
              "PPoAALwoccEAAAXhQZoibEFP/taMsAueK8UAhKmROLPbg1/I2RtfSci33aOhkI9ABeIEjZKbL62B\n",
              "bC5aNHxifCjosrSuEz9jokRXtmyjNgTBByPBWlbvPVS8y9+yt5JXADskjfqal0mbX7nJFSHzQSoz\n",
              "N7SddMWHniRVWowQOb3N4Cck+tE8PmiujBisxSI3ZAMe8WjM75LrAVKmzhimLnfme0HzJcQi22PN\n",
              "PcTGm2l1096RejuBNCvh/t09v82n9i8QVv5bUt6aq+jV/GVygZ8By4ww5hbDAmfnt76ovcgQfgmn\n",
              "eUwFS/8zjSaW4nkxNF2Oztw4C/KdEgAKlwCKPGN09TcYcSN91bjBG1KNGZ0MHKMHbGHSSznVChcj\n",
              "y3W0AEPkpWyLaTh98d6+fyAC6r5qAdSlAZR2Hf3bSqJOB+9sLkZ9QUKy8f0Ql329krTgStI2xPKQ\n",
              "QtlXFiMEK2v7SM4Kmivq+VWv+UyeykgFl13BcYOtRVtkaATn2SyS/cubguqKlJ0/jlqxLnna1Hyn\n",
              "MEmBpanVJshKDDDIZWUi5m2bYXXt3x55AkGe/gp9ZrHYJHCcLAznpYn+9zvF/bCTp4/Y09PaGc/a\n",
              "yE2fVYxKd75kTN8Q3z5PsB+Wmf7VFkeDCEdc2gIKJOwIwA7ek/97V7SuTi8C0ZL8LvxjO9V36tOl\n",
              "MhGoRqLFyWMDctz6DT1TT2yXAlo+nQTomwtIBdtTiu8qcgn6AC/vNSexSIYl5AtzVFAOz+ysoDUO\n",
              "dSkDiLYjFe33uAfvUI9W0xxY3L/nmKbfY5O6SJFtDfgQ6gUHtV9NNxieP72VetmC1pBwGxjl7ODL\n",
              "1jnHFJ9qATILKkbGyK0DmmGX/vHdyL8RMJzq4UtPF5rGmZz16stQyOJ8TGy2Nn6FqmS6azpvQ+Vh\n",
              "FJ+E5uppuEXDI03LVzH3yyCaJuzgzmrRIhLzs5uXwt3xJIN7vwCynOnc02BWWLViUcgUaTX6telj\n",
              "dz5ebcp83w1ZuZ/LqAWzHEHbGTtB+Q6JeE9oR3OrgZEsJeAm7XuXZOXiKspojxVkIkzsTgxyk4kt\n",
              "12eUMleP9NNB6XwgJXMz0kQteduZaaXesJqA/oCDyOhqd+f8lYCCNn9+lOPwfKF0hb7v3kpKNxQo\n",
              "8QAOMYuIor6xnKzM477wzIHtZy3zuzhimhtWMJll1Jm5iovzapPorVPJdSf6v5APVUUYVzg9LxYn\n",
              "EBlJchxDtQGvDRHYoAIvZiQJBYOoV6KvPLoRgVlVMtQS06Yt47Xx99oCKqVPZjZJ5brL8BUl/Sae\n",
              "G18mWr+gLGy7K2S9I+q+C7b22pmhrArcpA0ErnbExJw6qqkhGQIWdZ5lwO+4Q4XSCIuwXmnAzOWa\n",
              "X5P7AUAGyBN3yhS+dfWJMzppI4QycgGP0V3Rf8igfG0wnKvEDtJ6XuY93xBE3XlHdvgEZqG40O4T\n",
              "pDelI6UiQX51QCtQNExBu7h1pP6dNJ6PgkxNtu0ggJ+hgbh9Vrgutg5GTBkihkY3IlcfTlX/ezVM\n",
              "AASzaOHiURNQt2E8SoKTrhkIqioQdO5C0gg9ocv4boGkGPImMdDjYuyOMqGR/r8j6z5OUfuPSTTp\n",
              "AoEMD/AIQ0SK7kIxyHQhcTiVtU0w+DFRoycqqvqjaj/Ddz8/fH37Ii6CK9NNOLmTgIchTPX1q2Or\n",
              "xRx524rsgQU5PaLbehtxlwM4h1PaZDSkoR9IaT/j1I5Dl24rRqu0gEYCpGez/uHiawdybugyXMDI\n",
              "jDqHX0N9JidLYXpdV4UM3Yd9mW524d7pjaQvhCkbB+nq+AMRbhA9fcJK0mu+QyWRIjtpqcPPy/Ck\n",
              "LsIgpQPtNBymellXeh+hkhMUun19FyGoSHrc0Me371X85NOnTPsd+wPYt7b17E2aCyxGTSnEFiU6\n",
              "TzIpNUyhiekO+WFoEhw7LuFuym0pRuCqgIgYG7hqOlVwpiSmivQjnXV7zko76y2HjaqNvmj6w4Ko\n",
              "J0i0aeo9d7EbT3BIHVfbdHb/GGv1JJacSXniw2cZwALKjWgAAAHgAZ5BeQ//AFfJ8PVboASyiJXX\n",
              "SwdqHLNrD90xf3oNaoBOnPJP88h/6HGm4CGOqjWm+MGBnW4nx9IVMfTVyP/geDbymhZOcZTjXUCi\n",
              "+9hd07RWz9edRUFcXfhBDjmcrsV+7znxeBztLPdnn7jefIKj6zTR5G7qTj321aBj1/urZtNKDB9b\n",
              "9suglRxSsp7k2tHfMU8jhUXdMkaIYOo7is5uu5L5g3vVo8QXJNAFBH1flLnm3ioB5tag87KFVtJk\n",
              "9DKTM2/Hb/jMrQkUHjMU5X8+wokFk/0zArlsX9YQquia1qStVsZWExa5+JCJmcNWvzZtb3D1n/JJ\n",
              "+xvWzQK/xRa2/BLhq11IAkzaTiuK11mN/uF4vypd3hl5BpjUSvkmLnDIrD8tFVg2Exm8jYHLriVk\n",
              "F3RgnEAVO54enjA6mff73b8GnamWvo+8/tEHkO6WkcTumIrF4Ww1H3ULx1hSnUEHQ78t+WVbCvMb\n",
              "7OTL3q+p54gr+6ggQ+HSRl4bbNCMilMdA30EFRsCYQm90fIXZaWDsfd2LrY9WR150s+gtjE5yG+X\n",
              "vCZVpdjE/Ru5FZ+YyKihdjv7C/6cOACcGtHoqpMEPXlAKN0xVHCgCiMIWzxeSJDBhYQtWmDAJ7vl\n",
              "HJPLhjNhAAADLEGaRjwhkymEFP/+1oywCj//NACKPBpUhHxSMmVBuXUPtpDize+alTiKsTb1X8G7\n",
              "HuOYR/1iXkIA5BFlqfWZxRjwl/ldYHu++u+CwvxXaRjAHLxLTN2XWX4yv/1FtksHbv7JAPAHO0xk\n",
              "CLXqF7A5W8DuHUI+odZyMe1lmEIgowhJin0RfNhHJQScgWs36Nhq9UTahO3volGhnzCXDK/7VQ4v\n",
              "e2I4yo4d4WUAvBJ0+h/XPYApbhNRK3C3m7DsaEMEhoNnY+j9GiSQqjYiyVn/9X6Rtx0qP3/kASN4\n",
              "jS0ELFImJhuke/LcEMTFL9jPLPLuSNYKVX/IdU9DH7sT8LhGpb1z8Lwu1Pdt5RMOvsnez+lSaSx9\n",
              "Xi3ajcbp0t72QgmnZt69U1jyNxWnmC69Y8yeVh/FtzwhJDPboICfACs8xbhW2nKZ2fxaToLIk6rs\n",
              "NOksQ1UMIjIkM+dZtvglcQaUD+/6RrB8jZCw+ZJ7KKnqznojomuPjLzyDvmq6K9IbXz0hvs4oMsk\n",
              "cWRhvcLawyznFn9Uk0gMw5o5gDL8uPgrQr87Rs+6Y4S8j51PGGu+ivbX9lTTJ4A7aUc8BlmtktZH\n",
              "7oG56eKHDj0/nAyHfLcwFV/CErUyKTIQqskgdgaQGGprU+yUKVi3oZDYAjuZae8aBOquU3JmIrK5\n",
              "jpAtpady8MGTD17SLCDYDyYZ4HFs4EYhYceCTOEJIVekat7+K/OgG/rlqhlHTyvU0t2Acelkk58i\n",
              "UiaZLoehqsYWorybEQHpcoYDMBjYAZIr/H6py6UVPj8NiCV7MLf0tBwyT2Lp9jmne0RrffzUHXc7\n",
              "X0ZuzYi8wNCfzIyV53Jgo8djISLCXu9Md4tuPffBSQb5uReZq0XS+DsgPxN2ax0+311D7NC9cWaf\n",
              "yOLT/sPYbGgn7YI+vO/85+Kb2mDWusHnev8Lzj/oHI8UwOCWZftRCEyRMc+m+N6rw+G2b4o7dP+R\n",
              "uQbk9Bxi5OQcRXwQst7v2XSe16cD1WMxlCPFfLKsiMocUhwEkTcwA0fGxZImR+q2kdctlc2z2RJ5\n",
              "IQYM3LrvVqsp9lXvLO2uD2px2yEbBikgAAAB9EGeZGpTwQ8AJYt4QABcdkx3TyzlS8AlsSStY7W/\n",
              "8JabQrrXkIAwPyk9QgfEX78GdDNE5VXIDoLlIepWgRJ/rvqecGkYvGafq983eqjntFZX97RL0GOI\n",
              "lANWwoH3g45KDWBjCMh2m36XoBIaF7xhmn6Z9H0PT+54HD50rOChYemF6FK6rMgP0ANrrwqc23Bf\n",
              "KEO1n/svaaJGrY9qrsWGcvfVAnbqFCQTp9Jcyc8wvzYhoknZU8p9wwOwZ0lfSC5Z66vi7AVvRCKD\n",
              "+QHDitodNOIHxdStpLoIip3nf8hEGSpQrmhJxS4QbeDAilJ7MwEtsAWkIzrZQv86aG6li7QtEl5g\n",
              "tkm24FE97+jYqJMbpa6Zj6J9CieZCDiJykH6Nklw9E4dWqh7B2UYxoU1Y5HVkm9nMCK07zXZvEze\n",
              "NkfZ6x/IsakmJS39GTWw3X90QGOZAN75q/zg5VS48kg4RMgspdJWcYZv4h/77+Xh0xGvItMq0tsT\n",
              "sV+Fxg97ok2/ylGcQoC4mM9lNPUV1NOYvKKTu3y40r2lqk6nXNyKckJmgD4gvETY/Z4YNclHyYwa\n",
              "Q5IZxZ0pBDSf2VaKjiqUvSsgwEKyVCquq9qg6VjxbRDVdLAXBsC6Q0XyGG57GcmRvQ/J6H10FK5t\n",
              "sswFUQM2eYRiafmoVRk9AAABkAGeg3RD/wBTCF0D4a4ALNfkvYMHifsdXo8fsfVbO9DD5hdm91lI\n",
              "K+PqEE/xE9Vh/qZ6uVGzALkhrHnCUKjO3ePAl5XqX8GeQsqBkq2P+46Q7pYxtUY0kysfIIKb2N6D\n",
              "CmX+orkcWqTgZ4tfzh6IyDCU1aOH+GWydQ4LtzdKRjC+I2z9A8DHVUHxX83JJfh6xstSmZyWIOAv\n",
              "CYCUDnbDHkIpQTI4P4cQ2fyfPexuW2JX2METjvoysAdsYsEXsJV0+diYz5uNDHoa/Ok2m//cgFEx\n",
              "+4KpjgqeewHuii1jyB7q2AEMN39D9y635xR0pcUKqRI7E3SfjajgAr7uFqbAtCPDE5ATs8rqgsrr\n",
              "5Xl4Vyp5zjBS0vIPhnWpKWh8VuaAHNbkM3cxZ8oeaC/rDCiVALdA/AjxymexP+naCfmAlU213FmJ\n",
              "+Za1bXJyeiJvXR9s3TsBsQycgRy2RlH1xWk9yYyeY7lGjGF2tIFX49U6bJE71sxdC2oqARlb370S\n",
              "3fHF6APGa8wnySzfVHngOIIApIEAAAESAZ6FakP/AFI+l08AEzJMHhxsW8XrCnCTfJ7NEmeYexqQ\n",
              "UysLyj157zsFCyBzBSszF0nVNMZ2hc8NKydv8VUYMRK7eR3hsImqkdZzzo8wvt/I2Q1wzkwq0tE6\n",
              "MLDFlM+hlOMGQae8/TkR32cmEq8NIDNGlvyMb+M+bJbzInBtQji5uRV0LT1uLUn/ju1QocS506du\n",
              "y6OacJk38aRnNZ5KjCzIWJ0DxAJClUykoYq1rIyPgavHAkaULes3F9w/tFK+6GNb7uDn6DJyoOW8\n",
              "/5vZ/M5Dyb7s5vnkuVw1sKeTPp8V4S8UdhCKj8o8rmisxqHoyAmH3R6yZX+8aMKLtQc625E73jiC\n",
              "0IClx4b4+z8ImfrgYQAAA69BmopJqEFomUwIKf/+1oywDHYZBe4X43RZ4xCBNpSABEMbhnzYdPVq\n",
              "6HsDw6xlmyedO7Q0n7VtxpdJZYHQ0g37h+iZ8UPZWVnqfx//uIrA6weSdgksNB58q+//yqN3y25n\n",
              "hboJ7dX4HbJmxnzdnuRI5M890dbKO/dO8ra/SJ/mE+pBqPJgP7mpExD7fHaQM9M4szx7CSYHGKH6\n",
              "CP2jVdIA6Vbah8ecaPfRpQXnQjI643/4PVGYg8ls9IPaF2C/cFocbX2+wyxiex6/edqKbEJkP3BX\n",
              "cfa7jM/bd1gO56hdTN0RTF7SuRtkXs/0LDf9sSlxRI5v8XgBNhtWv22J1dOsp9cOPlt5wizGMNxq\n",
              "Q+uOLbAsb0apqLbKge5GCfCZ9sz6tmQSclOHXIsaIpOiDy53s/EUdPVwBJn5oLxtxU2CVfUx2Eig\n",
              "+dCliDJTHPXPB3rTOG3F8xPbraLvRT5U4I54XezZwxMEjnIRPj221ImQkuSMR3fhRgX0pBirgwxZ\n",
              "7S562SwBbR0NOyFkwrfq85q+Z/qC8Mojs/A3Q2BQV+BDS6aAqpeeMmp5UUJEafUBLX0vT88wiF0X\n",
              "0kSxMLjDconeMDh+M2PyfnjvueqxH4lLaxamDWCA//UqlDkP2g1av048cYAWBt9S1bCWAKf4Dow6\n",
              "L/81ypT5xkYxWUfeUKbsC3rN5vuxYUEfGQ4CPGOXAj9zkwh1zFQsRcOMWl1FHF6cQnsQGKUVrB1K\n",
              "EnX2Ee0G9XVUFmJxbsmIJElk10gSFyEk7oL7b634eDzpiOouTQmYbEaDS0HQdu56d39MMUWw27hI\n",
              "Bu1wLMSrcPPe+lzEeY0LXp+cKtKcdUkyas13RSSEkoFmPs1gGBH8dBo4k4V+3uNIZrc+ksgS75Iy\n",
              "zJyOHYZaV8Lgxx8eeQVfmid6167h8QYonsEdHytOcD0V59b9J5mnmwWrZ0smDU1LElqb26hk8iUg\n",
              "4ct+pdXaZ3zfbN4nlEJJRHSjaNVkS77MTOz4t9lCvvVUlj+2XfXUyHaD7dzS5crBhX1jhpg4sB2A\n",
              "hF3kKipT+dwX5Iwm+4qP11mIabxChInXbMtOEN+3DejIrWRpwNJ1/cxPpEG3f1QpwKVtj9dflxz0\n",
              "WEQBB0EuppH5BGaUujoWiCJj+bsHEOsZ5o4dBJeSZwOiVnMEDi7CjJHZfmwpycyOTsVCoBwXA6t8\n",
              "Pf5e786JUENEU+TXQouo0snrCNG3uTLSoTuHkjOaKsTSqgVECvVfi1YpHNUNsvRhAAABj0GeqEUR\n",
              "LBD/ACi39Y0P0qMZBAAJVEIyjMDnkKh5+8ypg0H6q3kUbIn3RsC/Iy9mYz2V/XdX1DxJfWKUvuKV\n",
              "wLuUpz7XLjUMA2HBzK1Gi9BBQt3JCZNOYKfR//nM9TXW2rxelK5lKviZSCY24iRRtDshqOqh3ELy\n",
              "ZZlOuSCj1X/6h24VLHlEYNPMC+u8JFTbFcwGNeacxqIWcrEnYcmGjGzGjJ+mtzN7Yf60EyBf/3sS\n",
              "fXZqFAnruMmtFJUZyHHaF870epz4+SuobNx3P7j4k91YjoH2oG5Y//N3zhV/KdnkGcdTkt/Zomv7\n",
              "qOD5oSmAGU4wJe81ozRf48txjPs/rlVELjtrAG+QF5RK7YMEcQAhos2cKq4H0tEqtCMOkxqOXg0F\n",
              "WynDp/PiVDlQcQvdQPtxIeciSUxA3xe9i9RfzIMjOf4rKdkc4/a/FH1b+hExZqhWF0OIEahafjoQ\n",
              "0k8EJT1lUQrT6aHX6Qui1g9aBDObfjkXT73a9nNsj/wom7rawnvW8nqHfxrotuq8OdkdSAAAAVAB\n",
              "nsd0Q/8AUyZjQl0AH47S2iqaV8wljnRmgz4e/+hNoG7Pq366OYksYZbvBjDkC0pZTO44N4Z7UvGF\n",
              "dipgtK6Us1ksktIRU3SmQbcrbbx4kAU0lhzT1KssA+38chMOAlO0vRsij+VPtsNNUR0x6jLOUMU2\n",
              "SvXHh/ZrLrWXYgYAVj9SbOzXEKfjrPaumqLpP+kXazzbsumTnGL82iL/Yc53gGmmuTx05kaI51DP\n",
              "+Qza6F2pzfQquPb1heA/Rkn8Nx7QvAiBoGuQ++1bRTVWkul2kChKLyknGYy/oK727m3Zrb2QCV2S\n",
              "tJNzE/g3V3LCYtoM0xloxzLuCpju6wQiN6k3/OVR5tFDNexwXliVc9R5dJ0Dd8bbI7oGidFzth8P\n",
              "gSEKtiUpmAQ62MuIjFtRX7ub2UD7rnvt5Pg5LicdkHomO2nhBdyj1VAdc6WCe/9+tcoAAAE1AZ7J\n",
              "akP/AFoJz7EBYIB7tF/ACWNZZj8K28OBCztPctbxOuPFvjc06lCbxGK9AZQgwy/ZP36EN8nxHBF8\n",
              "i0Oi+LwcYv4GWKTD7NzgMd3rOcuoffH2CQG1CgiYWC/07dXC0M+RUIpD0ExIRTkm08f1ckO2syW0\n",
              "0l+Us38i8cKDVCR4IgTZTmXh7xyjAwWk/LG95xXOMM+fwkI0z/XnK5D1lc+3HSUeEH5hhicYJdnw\n",
              "PVShaf3ypxxqvVEpxPqn+nj2brqFdSpYHZIevgNKCS8BQLGZl2ik4b6WLlcQyvGXEiV98n8sv/gA\n",
              "Qp00gQUuvkeVWgUuLsjKKvY96QbpMjN8H5EcFwDAeuTLKnoswybSyOJwbgU3owC+MR04nHLLzBBn\n",
              "IhqlHTA5z+3nBhkP/Loew5TP+2EFAAADFUGazkmoQWyZTAgp//7WjLAJoKPVf+AAP0AAEZ3Rs62H\n",
              "Zd+zKHcboUeqPRJaDEq+U8yKX3Ah34L/dSs/JV7fowsqEmCyEuP/DLFxrNL9pBadcVu7kz/Sy2oq\n",
              "76UPU3CyWCTZj+bYhoDakaqhDIjMaA/3h0siCeLD4IQJTcWTUbCRSbjqOpAhE18EEhvx+ygiCiC1\n",
              "2lqwUTHLxfoagpzfj5B5coicvp+EIINvGjmRQSnkWgmWG6gR/GH3uNSvEPCsSFNBBl1XHqWG88dm\n",
              "x3R/BwzPeK2/cYKRQ3LNLyK+1L7wVv/WPNhQ7KeewkBV3uOZgPNsYrZEVPU7/EPTGB1KbsYtE28b\n",
              "uVERIpPBcPlr7ikn8SgTRT0AUzM/am8Z5r5cKt746q9iocdS1XxyAIaX5HKKGQJWCxpaEtIK2S9u\n",
              "RcxH3T4R9B1XLJx6nDeovqgmJt/mAnHo4wUMtEtVkdmYmM+XZK9grxglaLN1b2L3NrgN1H/qahrT\n",
              "/BkPpsQCqw2IwgS7kTznSxrYHaeDL/fsGZH+ZCuKc3NF4ZLL5JqD4FF1dU9q9BVqxDA7BfMpVwk5\n",
              "oDiPS3P4YbrkizklEMXLBHoPdhOrfJOzYiOpXrxJGtNjxrrjpsQGo8D6omOF8NBVP/odHCgF577S\n",
              "wVhNmM0vR5X+hXckTvMu3O6+CIsFA+R1J/LaBakLemplEiqJnIK/QkiEPOmjYk/h9ASwvOoUy8W3\n",
              "i13lb4hOYZoPFa7XiwkDhGZy+4BiVLbhp65P+IfzgqaHvdX0em2/sNb82DwkgWjvL88Ylu45MWPk\n",
              "h5JWfa2Gq9BIgQfjBToT9Yq5YL43148h5A9Twm2KuY83jJRAn8otCJQawaD8BFx/caAAIpu2WBGK\n",
              "O9esdqK2vzae1VoPcmmYG9CPfUG5DBTw9uA9vh7+yshSEI/6xS9IRCosKRjJ0b/AfMy52mCMHT41\n",
              "b/n/7QTixv/dOhjKErxyMLQJrv32Fy4tidX0pupm2hFj/vbEFmOBS6+AipwVFbr/DtrbpxjkUeUl\n",
              "/EzE4ubldjE43x8Sv4h6QAAAAZNBnuxFFSwQ/wAkogzABbNZNhm3S5b0yGQDc+GYCmlJ35hA39EU\n",
              "FA+sm12mhp5fPkaGdTyjoA6orYYTfX+4bPce2fGINTB+Y7YlW+sU4mlC8ZW2Nn/oktEQmOi7hBM1\n",
              "M8uTcCC3Q58A84eJNO3UedSZkxfKmGCtcoQVc8o90r3R79508EG6QDOLSRWTDrZFJZHL3/NawvGR\n",
              "W+WP0DPq3Wiqs50W5b1FXDKJUyWH6isWGyNVmAQrglIRhZbCWi1ydxmhBTIIVzb420WAKDSrhYs+\n",
              "c8FRu2Ge6b0lsk/Dc64PMq/3GA4yaXoyGmxTM5/JZiACb+vqvUSNwxoRaHGAkgLwOhWz+xehEMsC\n",
              "hfV3BpC11gkUn9svYCAIM9xMB3qe9nUvwvfB1QDUXGCeOFidAupRsoBaM+DqF6NMhzLuQl/BfNS0\n",
              "koND4dfoBeBZ+URXBdBeED4LpHQP0NgU72cU02e7GAxVqWc33qiB0m9CuvZS7e/H9CVhbsZOjTPe\n",
              "hXxhqfBxzuLYMKb5P1VREq6Ul+JP3wz4AAABHQGfC3RD/wBRB4wWgBI2Le425sp7QXMq/dpA4cJn\n",
              "mcgT6ajv+bleLoBfhkcl6CRnRmYCTTlYL7dCsLVD97o24Cp3GYZZXTk11Vq5LEh5Uvg23PYkIdK5\n",
              "K8UQ+eIX6KBv03JH6TZ/ilm29jtIUvnKf93dV7FfuLa8IjHkLlSZMztWdxMJS808foWMz8vqRv1f\n",
              "XzbWdrC4J7tqIezDNnyEHZQV1GDiI7hcgBrHixbe6XOLZSJnR/IQe6e+pRJy9k0Lo1O0S5wY8sed\n",
              "WYMQLh6nKwemXnXa2mDYNus9Ue07BmPMywHQe9/8hVUEHn11pnT+f1aOV9XZq+2s4AhjeZxay/BC\n",
              "WqhEzY+5DFhkehd4oaYLpL4DeWzgmG5YnUav9QAAAQABnw1qQ/8AURb/scPgBIzGu8GGkIiRX28b\n",
              "3aBrn5c07yrpMKN1Cm/dRPwhZn3PF9SEMp1XBGloYkxLcFt9wZH1EH3lgy3esEKXygseGVyUxpnS\n",
              "EsHx5CQlckMEZokV/DAgiTifUp9wux6x9bZeTR8EnY3QQgmpTZ4XSZq6YPC//Z9Qpd9+84dV2Diw\n",
              "9AsvBjahWeQXRMn/xQnRzDqjCn4TAzorhR5yX2U1wYFNlKLHbYrefbSnrqxMf0KHKpYjehayLmkM\n",
              "7R/tnWZ6OV1HPIDJjzwB2ZYsFWJ00ZdypCahzNhQYLQGGuli00Neg/KnprcFqNGj+r1GE1uSko/4\n",
              "VSKJAAADAUGbEkmoQWyZTAgp//7WjLAJoAQzFABrB0ID7ChpxJ+cDRInjhP6pzraK59PyFkFVckC\n",
              "mokCIv8Sv75esyIMyZSTuLLDDKdvCiLVCitERgCikFECFpHpP9YTXyOE1ijZ3zQIH9dANlqgCvMC\n",
              "+8lD4EAGeTzA9Ru1auEb1v3TdlcrPDdIQ+5fgOFhpWyIXVeC/2FrueNrGpSrMM2p2Aa3yf1/BhFQ\n",
              "p6yJPRXgpjpSrpd2FZB4lVlY8cx+y1Q8ADntNqbR55lMRPnw8xYFzOLtuRdGpyFpJqtU3o0zDkQk\n",
              "iHmvH0129/bUTF+9K2Qw+nG4Dn3/CAT5GxNf8pW+/Y2ww+GWe8wNbizb0AKdYXtNFh6G5peL6fdc\n",
              "0IAgwDBJU/GTL4StGsSrtegACA6niZ4GiBXoDz123Qa9QtiqoQR50Fkf3JoBICt0+gvCt/nccoJc\n",
              "P+0l38Ow65l7/VHm9Ypn/qXv0B1BVmDVQ6aPsKxkPwYun/N2ODLuBZqxWzvmf6g9gp5J6ciSWx8k\n",
              "2qn7tOUyGRMIi60IBo6aHwqnLVJpVf/W/9wPg+Kn77u+8WrsEDXUHgWTJvovlKlmkwWfddlKdEG+\n",
              "syPV9w800NH3t+jhSgTn3nd0RTEyTieuUZorofY3glfp5/nsjfCDQMMi9HqUGA9Nz68OlzCiH6ia\n",
              "18NBKUh3RIqMrmEGVXW9uvu+yh/TPYpFPuDcTtkld1o/DmY5VaBNtuBG0BACZYUtPDfVQuYmLEWv\n",
              "mcC5dBW/7QA2hkwAdxWa0XXIgchJScjUrAxacTQ1dHlXf25mSQ88BoxZ+DApHmF26HYNgy49qixy\n",
              "v3Puwh+FbouYAZ6h/rcoOKFKI4YWS/2JKpDBsW/uvw2YPnB8wRR9YnpBSkle+BgRk5XFOQe687Wi\n",
              "nERCtFCk1RA9hS/aSyvmfBC+owrZVqoeuzscwOTtE7zle0A0eqCTCFlFdJEUvhqxGiIBDMTiP4tO\n",
              "D/WYrE+Ffk1kKo3s+ZPnCTKUOuPOCdSKgbNDlfIyU42AyWkAAAFRQZ8wRRUsEP8AJKIMwATRtfHj\n",
              "5Z06aK/XY6C1NqDHGMKnexSwxeTPQjH5u1UU+syB0QnFvKG2pvlEDWvhXytYhNJEQ5fcuzy1oQeu\n",
              "Q8mq702vdiEQ6q4wdcY/abeVrrK+ASxqn6TjxROKdIshqbeJg1WC6MHNPLtQDLe3Bucl/0ghWUBd\n",
              "Aal1RHOGPTY1sQzx8ntMUhZRUn8EBD3IzLjw3GUuX5i4KKxbKphu3yploib4/ycRYKEh8vrJahes\n",
              "yAma35XUTQpokuIoQ+h6vtQ93VNUujPlcHtbwluSUZLHI0Z4vwo66B4ZM6BffirBK/2tYNe1WEPb\n",
              "ADvBbzDHuxG0sSq7ei0TERrlnTwYCl3xu9taZpTsHVBfjJ5wRq9/qycfKQkleUImnJdyWggf9HlA\n",
              "wGC79oXUmz3fvJHk4zo4wJeVOasTmnJA56TPuK9TDxCDgAAAASABn090Q/8AURQRofAB8YqY1pav\n",
              "B+3OHnWHgrpiv7Xh+UoBlBqSlBDz8kviWvDYxeLAGuRkpa2Ti7QjeP6JFMV6DEahHLYt08aERKDZ\n",
              "yFJRYk7icuXMEHVyP4nX68TiE0/IrwcVTYzWPrbbf3rBpiNToPjwC63EuYNid4zqdfxu+IyM5Nkk\n",
              "WJkFgMib+6ODiLyyl6ITzxmXb3WlwohIp4fQDQAvIYo4SVmg282EEt/r3baTfS/3pyEg4hNuRzCu\n",
              "CH/tFB9245Vs3D/X476M056zjuJtN4NB1vQAe4o++nS3wLkbDmkyuvcvxIxJYYtWQfwGybyvzy1k\n",
              "oOTpC03/56RPsU0Sl8eA0nRmPXVFgnfwYlnm4INQwNloEG56nk1bDpgAAAEPAZ9RakP/AFEBks52\n",
              "OACUBC1/5xAndtjjGDYJ9yUqLnJ5dHE6A9B4VtIjBtygWYYXuqUXaute6EAP88rfcbGh/faNmI9v\n",
              "biCvQaq5FDH6gZhXXgT5xNrrPfRKLWhA79OvaNLSRa2xzGiQCiCydn1jaKkjA9npR1liz6SQKhfW\n",
              "0TFUcRH4zfLUuE3ebom81InTeNFlAixZtfQTPsrjoaXs5OMDFJBZ5pM0V5mJREsianCnUFBwjMBJ\n",
              "vM2kSDg8RaAVqSzQmp8jaJa4RJANlqCN10Jx2Xkz0AO9vbzMGfokNK/VxdzvM8samtnMiraDuSdv\n",
              "qLPsBs2M9CafINzEKgEOEaSzhK819OpewYMtfYikgQAAA11Bm1ZJqEFsmUwIKf/+1oywClPC5J8g\n",
              "CPP/33qCQbgh2cr7ax2OxTuj8PjBYM+QPw1pbTyQ9E6Xf2g+LLQWqORUg/8ugHKEAM5+oEb6CPcS\n",
              "exUVFRngd21L+3Jb4aWMlnLFPkXwP8u4SPZYTO8KGpLXz1lWKjw8Q2fCfaaGCdHNEj/QxRWzEaeK\n",
              "6tU7+WQoR0Oa3ltcXJObe9W5IJFYM5wqiu9bYDA9zcQ4jsygq5/btsLDY3/3W3m+JlWVQiPqQ5E/\n",
              "/0OYYSbsXAtOlegSYwyPsGVwn6Y6Wbwkb0+6WPyTny42VisFPF9LTYRYGd60Qn9vMP6SlB+3UPte\n",
              "ThoMc6lAgneOAaMGiJiJCJjI166GsvtB1GQ2D+LPwh+yGM4P1LBOqqQW8W6b9212oTRNUbeWqdvy\n",
              "3ATvgoUjaZ+61zk5kAKiIaelibJTMLyVLPHWGr/khVV5SCY81Grc1LL5PIa7OKe7NuF7xSP0KHRE\n",
              "udL5GihojnD0rx10WzV5ZRpfK3zM7Ku0cVT7e6APBPjCPlY1Q4FVHc1JdgjoUwo0XehghsvbiFaS\n",
              "D1Sw3ASc1E9QELYsWvigwWbsTlFIuf77CS/AvaG9CTbdr1IxSmsTFLZWbwosmZXk1k/ednFbhuLr\n",
              "IaYZOP7n8MlBqgfEspq0dDuwaAG3ej05EFbHNLQ9Dk0cLDQeHh1GLC+P35Y9APS2AId65cNgLls7\n",
              "af6NM3nx3KIDIXnhGH7GKh4r3FwlDQYzx/YrDvk+AXlv4EeosyNUenuHSL5bbhSIvqD70vxYasBX\n",
              "s67jeAKDY1hlpBGGZTMfwZTW4JdFC1QmzoZZkuqqGulcstmlcOX/lEov4L6tYeYVc6VZk/DNipb2\n",
              "7LWTPiubvKhaziXBQ2fM55Ed2yBZ9k0E5RhJxu/kqYv/V60n9OuvcvY3jDFPZ+O+al1Pck5DD4hk\n",
              "GKrJ5piiDoz4Xe9weSsUYgre33QDT6+A3IbJ/pfWhEhy5wqHz++jogrEZH7WFNwpAzo4iNIvpR4R\n",
              "nOS8s0G9fOENPhVcuIP3zNacHLGN7RNazjJQh3ZEVnOOzl497Hh4mlmdXnUDN7y0cPqYh7wsOL1m\n",
              "v0N5nGhuskSs+NFPkb/qIKO7gm+LEOepbYK9Ya8Pg3hiCWnGZV0wk4AAAAEGQZ90RRUsEP8AJYhr\n",
              "NX6qH9P4gBZa5KgZpKmIURbVO1UhO0Wh62Aj0uwMhaWNb6531cnMrpDahFng5/83Z4YpWhiMINtv\n",
              "KcVmpB8+nd5qX8JGiO5FeoXH/OtI5XRDnaxj+Ovd+NXjQDkoejVYN9KZIpLi9aCT68aln+yTq419\n",
              "Dl0Aolw/upmLfV9yLz8d28PFHkJOUG+bNFO2rDjpCly9C+5oDW7XmK2hriIv1wuov+ZRwliojJHH\n",
              "LBTF3rgiHCi+gKwbd1cZaau0zLPOALKz3oTfKvxRr7TR4iLG1H/IEGzOTEAfzj52Md/kwLmYjbtW\n",
              "KG/g14tCz8VEkUdRe1kOGr/SWMIHTAAAAOUBn5N0Q/8AU0W58voAJZQ8xtAZTYECa+10UcXQjrlV\n",
              "YQv6OePQse/gwEgGzwi4qVdhp/c1wk8v+wJzbJ+U4r7LBRM2r1v3lu9iU4lyyutorCIMeJSTqy8+\n",
              "vWXSBCVgVJkfh2lPqbLgomz2uj7z1j44BTdzXXb4kBhAGnc0GSM7jNir6ntARVByz/fHKO3zE6o1\n",
              "3JdkIWqmcz8hr0/dHBI+2l3fISKHZS7g7LlWOEtwNbdgh2XcfKoLxkwJn5L25EufNu0WrnPTb7wO\n",
              "GlacgAPNuiZi7w2idUmB0925RlFNyKqLJcXFAAAAyAGflWpD/wBQd4j4PQAWlBx/qCEtNmt4/CZM\n",
              "2tWaTrC6BJW9eh/K5lxlRtudx4pMCqCe3tzPuJus3a+MmLrO9NmwGGehZ3KR/ahnar3jeEQ/6lIP\n",
              "Fje1mwxUEht6GmtFlbvMdZVhDtBFhEZgbuzeAd7pcJ51ZhMtCRk3KlU9tWf6Iwt4ps787lHSvXxd\n",
              "M8Nrg40uip0d6Mj9P3P5d3qwnYLAFy/3axKUDt3C1ychysz3VjFwhVmjk8WpFoZ4xYS2yzXW3hO7\n",
              "OhnwAAAC8UGbmkmoQWyZTAgp//7WjLAJofEX8AAb0Can8L9NwNTOnbroGoTk775izS9qroZDUfWj\n",
              "FWpPRYsFN8mK0GpxvzsoT3HAiLt3JUeIgCkgeKXx3SlW7KqRQXqvx0NFonxEr4TWkNGcBtb6FVQZ\n",
              "2aMLydEU7jVqw7FqoO0tWE8Nhg4To7kP0YPaBOzs1LJfhbDYEBDxuKYy8NMmeVSb+kcVli5RRX/X\n",
              "2esQD/VLGMMWM37CmljHMhBx5INm2uTaEpjrCid8WPIFL05v90knHarlI4Y154f27XhmSJjvNa6h\n",
              "/wH/1Z+dlVcn/qde87khH3aqXH0aK6P8T5+NYXwPfJFqa5o5rzuwEUo2Wn4FSjXW2wlc8pqB++b5\n",
              "4Ma83H1L1SiYaXBFe4EJhjWbusSRGkBCcV0vWcP2HNVo0TgSIOvEb2JJGDYtbHoWDsvzcygdmSlt\n",
              "xs8oHiOQCHKLSfRdfF8e7EGW6FiPwiebGXkbMoTOG4RJz4WS2WUV0aNJ90DUudMJfRM8WbRUQMJX\n",
              "tiiyrC6ICqIhkEnxc3d0Y/9JArIfeGkxH/tvsmDrNOG9sxaYFnvI/ONsanI1L2hCaz7umWHDZCLc\n",
              "n+3QGMZHjawr8uPGfn/2Ugh1WCkLnKRA+NWhTqV1ZX/thGnGCTMmLFIZwbDPjwyZI+v8XBcgxDnS\n",
              "tZWVW9eng/TXUYsYoLveJXGfdKlr1sZNthKFpHFzlc2WX70Wmy013LMUa8TCYh08plR2M5+9Nu8O\n",
              "YjQ+bg2dwk/bdBk+BY7Sqj1V8bsX5pG2bUiG8ggymv9gFhuynfauBse89IFjCOvv0OArMWjtLO4d\n",
              "F0wniE75dZftqDIwQSEv6dbv6jQCw/K2/m7eXwGdYoAd7x/ASAocz1QYCr2nQfrAq5Vm5+PBQw4S\n",
              "nvtkcvUYFsE0giHkeYJt5xP8I+DU1V41cAn1SAu0IGMhkZQF8+4KCs1CGCS25PNV6zmf/324wEz+\n",
              "cPKy4X7pD9Q+bZJ4KP/3v/xL8wAAAQ5Bn7hFFSwQ/wAkogzABYffT/nLM289vvB2+wC23FzyU4x+\n",
              "fhqmjOeclo+W2awmfhE4qTUgNKljQibdM9aUoYJx0zrJWd5WXedcNXRGyRI8izqHfiqIGb0euSZ9\n",
              "4vjYIB8M6HxygV2M6rXiCdvu/Heazs0FVrv1a5hK7wgO7fSHE5Y5w7oYc6VoWBmHcI4m19iAwels\n",
              "L1L/r9h5AJ3pmilw49Jy3+6+4FI1dqYHet8E91HSWoGWdKhtifyjjDRsmSI34Vv5yXE2My89d22r\n",
              "WJGy4kWivV/l2Di3kipYOvAmWLPhZZY5JziT+cTa83TIgkxFNUiQ3TPDoAVq8goV6+ONi6+uAVqd\n",
              "diWFUfyQu4EAAADlAZ/XdEP/AFA+59iAt6eoASURK7wrklWv4e2c8NKlyMVFBNeQywkX8jTYdMxT\n",
              "wNSZyQhlOdAOa9DR7PBULXfE1eZes/tUvYhD086q7qa9vGzNCphi2w1m3XYA1QkmRfefz/KbQwIw\n",
              "yAikCx80akcxmBLN8tXKrPm4xX0JpVdVn6v+sSuzarzio/1IhMHlyTQ4XdLnZppk6+FpxREMwLKY\n",
              "BVby+ID0qu2mHPPjI2ibeq7hM8y+AcS4mudCQGWE4mnuIIGwA3Jb7ycecM7t6+pNtNgih1mRVoQ7\n",
              "WgfvnU+QyUI38rxUwAAAAOIBn9lqQ/8AURA4r0AE0YSup9sfknrnEI3eWvVi6/Hm7jzbpc/6v51l\n",
              "XcM0xE9laaU38Vrs9xz9eyDRu0Z+Qd+dxjD3+ZVj3TQiHuSfPxb/nai7iiU9BDXnbGXcHP0abpmO\n",
              "AnM+LdME9Mw5obi/UEZVgL99rDN0fo4mbn/7gZpoAVvuDcASZe76oolb924sQINOiC22/GJqLaK9\n",
              "yO8wHbjMfMQKaDoQBo8dnjWSqEYSqFobzLIddTLqGsW0l7lTf8MZ8uaT0029gAH7Hv4TKa4nFPBA\n",
              "BgENSwOZZKTBahGKmnELAAAC5kGb3kmoQWyZTAgp//7WjLAKVVJcgBwpWwGQgEU73LUnN5kgJzI6\n",
              "ZCxDR0X5mTrFFoksuvV7ewNUZm2FJxArAYXZt2New0Ur2h6n/cRVz3Be+ckMbn2h87ftnReGaGYr\n",
              "cLxZfScTvCs3H7YLoYxQv1g7PaElGdiDgZPcQ9fEVY4o2qaImwwjzUc3fX/mv2ylzgAYJOtlUA/8\n",
              "PDUPjzkPUIbBTTjtfUd0jMaWXexjnzWI8aF3jGScPnNyk1YGKVV5KzByYO/aKh4u6h2bconH3YpI\n",
              "fblX/aKywiGZtHOEmaq26jvuWnAylcTXFEYn3Y5kzHdmbyafUkE626aRMmtXT4h9f/2Z9WUxZG/H\n",
              "QY9yeA+gN8RfPg8H3uhWtuOS0bsnFKSECCjskzV1QYzpBGIYdgE4b3sfm5wNhAl1FPMe5xXdesuV\n",
              "lnuj03SyUYVdzy/8/Rku1sU1G1FPSekzAHbRdJp89PxwGZ4cGF32Enxyn4rhcWt55M9ErAEd3npc\n",
              "augjGe3SQChfTIcXFlO/U8V7Ji1aOkMwUsd5sU7nMvBwveQ6Yb69hMcj6mV0M00BDOTMpwtoAaPX\n",
              "Q2NG+2kifrRkDQTHfz7GzN648XjxhDHrz0X6CW6RrPZr4m83IKr4Y8jQ6mrRHy1hJzqxiWfhpym4\n",
              "sEwYBtwMuJddqzgZRgRxxmQ+nbXBp85HBTmTSTWSXN2uZmklYjF8a6RHCTXyRjd6377gEyHTogNs\n",
              "Af+3fCBtKOAe3HtiaesL+UVRSeoU7XZlU5T6y6EgngKdnwZO1kIQCVL2sNTiax1e01PpCm1GJ0RB\n",
              "xs9NWLb1piR8uyKDEx3cGJ9oJ+lqtkxyr6bFVB1zKs06X46bVi6WV6YyqioHzUDFzLiaY47OMwk2\n",
              "yZPs+59IHFlFoUXf11I8jwgmH2AIvJ/J6e6ANZKlVDbh746vyA6i7nxN0VexpFfyhbLKcpkJokf4\n",
              "Vgs9FDtMcxZ/fCt9YLYgG8agooAAAADaQZ/8RRUsEP8AJYtrwlnEwA15GCO8oE3J5EdLPMtG7P00\n",
              "5Ib1xpR6itUR98PaK2A+39OLfmReCAcb8utpBW2oyBtz43BNyZUAUFsAEA60tBikB4B7TQ2o1gM+\n",
              "jx2uDECEM0Mzju9yvYGnSyEcKCBFL45T93YKt1oblmirTm+NIfvYOhmcuOu5BJcusLnkGX5i9pnB\n",
              "0EhWB/eRwBijeoGUyXOdpiSnZn9yivM4N2nZ+upaXl35LEvQH+5jvOWsgdRhoOVtQIblEhfJKcW2\n",
              "cEuhvgadeNOyDc+oBL0AAADoAZ4bdEP/AFDUR4K/AAJPQhHO/rLH5sH1g2uB24NCnxQzA9WJTzBD\n",
              "2L66XlRPmYWfGK86d6/LRKDW6gzyBHRgSJqzqAgl5ec0IeJly1+i2XsfXN3bOrnGQuTPnLp6fCWI\n",
              "a0B7zyVH0JBBnhKyj41L+mbj39enTluiEwS+yNxq51jSC+EwWSniAo7HT2BOnrIkIrhPcGzsvhOR\n",
              "51DsJbQntlwU7m5DOHfXqNkuU+6WXHPx49RKAoE5ZHz/T8gsHO9XSln8E2p1p+Yhn6LM6XhUiCE8\n",
              "0nFPotlrJa7NmUuJdLHejH4l4nympQAAANUBnh1qQ/8AU0nSkvoAJFhnWQb8Msty31OvsmWd/44R\n",
              "abyh9tuh2TYnaoSG11RQ4ezht8DKMpfE5Vf2RigDDtR6v7P5+TPJ2so6l7pYrFwWPA/35MozRtqZ\n",
              "r9lPXauEQMqdsBErtDLaZC8KaXvNM1xNgY08wfpedJmy1tz1VlorWgOnU+57D/H2U/sqJFvDl1nM\n",
              "j4yNcfoZTfjA4mvqs/z5jh6lQR/K2GEiXfga8KYaUflqIXKo+kVLgSGxD+wqLnczcSWB/LeAmPg1\n",
              "uM8qCmd/2Fq4P8AAAAIpQZoCSahBbJlMCCf//rUqgCSAMhf8AAkwADe2kpAXWEUPQQMZ6nqCygik\n",
              "XpvAMndo5BuAbj5bFQFUBHEFLS23L/3sxWrY2MKbsnsOmvX2rko6IqLDxwqK20aZ2zlrx6m6yklN\n",
              "H2ajiM1iDMZRm8MYxWFk3fBnwBe+QFV8UC/X9QxmSHrPT3M0K6qRHMe+PJRTsHQWXx6DZ4kQ4dP0\n",
              "rGBDzz1Ab/VMW9DBcU+05cfDkBAjCVLdgC0LrdxU+R7EIXJNiHrcnEETLbbBZZNGb8lXv2mZo1Di\n",
              "/FPtP/GMyiSCXgrIel2em9Hw/kKLgtogYoTqVH05YXcmjpThXnsyEPcUPKBPYXGB7iobvTtiRYz1\n",
              "pEmeWyAf5vhNSxH3YcW5pnfNRxW6Oo1C67N7H6HCdin9/Pd+Qb/utS+RLa4ZvV2Jigyt0V6Kitxj\n",
              "VoC9rel6nBZ9sO8VW2b+SMpdTGjE61m6tfTf/ZrCyO8CZSNBv34oOgc5CLn5LEPmQR5DTCXcUk6R\n",
              "+h8eT2GDCFczEgtRiw+dopvtrorhxwKtXsDuW3jsXLCfqP87tPakerqRGLXrzkqIpy6MruCCstgi\n",
              "9Jm5xTaRkKTRU4EP1ACJemplN+dfvJpNcTsDpWK2WMW1DpkJF1OhL79cYx65al5g2w3MfMq+xK4D\n",
              "Mfjrgo74xzPXbhOy5ClLk57WWcndUhAsSNljAQ9oQXojDf6HMByYDaFAsxUXCnChNDnemwBgQAAA\n",
              "AQFBniBFFSwQ/wAkogzABbNZPoMesNSB2PlKuGEDbsn10oSLrATlmsBS4Rahv7mX58jQz2PEiCbB\n",
              "wAC7qr/+3to0vpQ/cAVyRY4Itmr0nyTCntLLMm/aHzTg897QREDlOMlvn+Sfiq24eZOj4BrlCRFi\n",
              "JPJGMwnAEtUaLDSwip3idn02PcFqcigf3wo1QJkUucgZf4uA3iVcssKrwaVKhE+Ez+9Ko+4hKKHX\n",
              "ZP8VI9BJNxYJFvRB6Lgq2OQdmM7+vUdBCINHkAAKC52VL0sPmPCFYsnSdgKd/sKgBcrYujAVwXAo\n",
              "v1UJAGGmyzreumRp9/kWa5/yfGd1eNlKV7shDCjegQAAANEBnl90Q/8AUQeMFoASNi3uNubKe+Ro\n",
              "gPe5YtNgzzOQhgw/owB4/EKAXQD8AtOjVB3pPebJLPU7yEYEIBsRZ3RRrQLQD9ZR+WcMowUFiDuj\n",
              "WtMPhXVgw44pUloHGl5KyE1qwBAdyucUQ7JeJSXfztSA9AYJYtrwsPMNH4Y3dG/vrlqQiwhxNBRZ\n",
              "25CiSytdhp4XybPQ4VSECehf1G7BiYJniag6Ai3BbtI5B+vk6Uj/g8Rrtm4oZPfl4v0ytICdwYlN\n",
              "GZvTC2fLFdhFPj396J7TUgAAANUBnkFqQ/8AUOkcsxaAElESu8I+gAG7o637xVXyjd1JVBoAyIDB\n",
              "TXaeHNUm+0lezSWhyt0IzJUEBpZvCYQQVZl9P1bVbaRFjLnzQk5ZTaSTznkF8zzQ+WcqcpB0pYid\n",
              "bSfWo5SMjwkF/Nb6lZQpBGBcuAiP7pKWLUIZUvzONAaYRLT0XWDhOczM+SrckWkfX29H9gXLJWfA\n",
              "tvCdPgoCQZmzSHZesw/FCgqzi9VfXVDB8ixnuNKZJQFRQxeG8AACQgVY8905D8mAkAR5vfiBVUfB\n",
              "ava7DmkAAAIlQZpGSahBbJlMCCf//rUqgCR9LMtwAfI4Qi4mHjAgK1HogafhfLEWOoMKZ6rTFNrh\n",
              "7opGoQpnvODnAeFeioirKngLTf8ADpYJBSy95zbCUYRhHHxBMDCOGb9ZlOcJrPyTGa/UliVaxoK3\n",
              "gzjTjsGa9scVIz+Mt8Exx4HTppw/yXFqt4Etm1BP51ZKvJ8HF9FIj98/uIXOAH5KvZddMnwAhAB0\n",
              "GCY/62r6JZLTy1DbiAF8gcihqhOOkPHjbp5B/oNfposAu8cSJV9nObVDf3Jn0jJaj+VoHbZdu80M\n",
              "h75ELSxQkWPRlKQ1MluAx+LcjekYKbg+JJ4SllvGpOkay/Dzo06OnWoxZIu8Ve/7UI4whmxTc/Za\n",
              "BJ5NERZFxK/Kxg0uQ643wJleZmExhHOAG0eEVkxSK5sYH2/Bz+rnHAiAGlbm8uBimzXUAupTnShB\n",
              "vGHsieV69qFcYCrNo+Hh1QOTykgvmhp7oH7UP/STwUAMS+iKflY8l0JktA3bebY+9yNsGrS/nxQO\n",
              "Z5YBsOE2Zmb8wtNavpzm3fv8zOMPODDy0tScjaYLnR9LqvYCNJPfPv9W+9p+tXjMiAy4/AjUAicT\n",
              "yE+UOJeWeUTix7EoVCqckXFd+5+GyS4kMcsWuX97rJeQYxP0aDQU11EbAlco2DoLjvi0x/upPvYT\n",
              "dY/t+pjHeOHSw0dRux9TmRviSCEn/zxvPQLbojul0Ba/tEzR2ZvLCYSWAG9AAAABGEGeZEUVLBD/\n",
              "ACSiDMAE0bXvSUR8QcV+ux1HzbD/bBjCp3sUXd8KS4uJTt4gwZC2GiFHROa8CVN8oga26cYgfL/D\n",
              "mSuJWatZhogmqaF+gi4o3plvbRUEbsDNW29QchMTChc9I/3YGkPaIUSA+nELB4iIgn/dseIKWBHw\n",
              "X++rhQAcSpWR+EaHZ6aOP2mD1jndnadTZSLR92IYierEOQ/WFhUFcOsimlioabk0oFP/v8OjwvPh\n",
              "STUwnASGh67Wa0GhZkn5/aEecExZu1w8u80cR+3KFDrpVigUPTApM05zQAYE+7B0BIIW+LzUlzl+\n",
              "IWesOz7wdh1SRR20dFgJOAuuE7ZJLFpogd6rpSYtxZ0pv+UFHR3aTTIdVxEAAADRAZ6DdEP/AFEU\n",
              "EaHwAfGKmNaWrwftzh51h4K6Yr+14flS4PksEoi37xEviWyQ2qJTOx4FKSiF/GumoHfmMzeM6vCA\n",
              "bMhoO63+RtsC5Q2Ut2QtySO6DN79mdkMClggPRG+V64CenhgK6+1LrzswQ6j0sibnZnY6bQX82H2\n",
              "rdNTgu/bs6nZmOWREc2Cdo7mWH2M9kAKs4bgg3v6I1HjMMPvWFXQpaatIwEnykKfxqr1aEIRTDcP\n",
              "ag5Z7tw0TSzGvn8jaJa/ZVf0dc1NRrWs/X3yxcEAAADdAZ6FakP/AFEB/twC0AHmkm3TkHcnlzv5\n",
              "mAj/cMRhtWHSmV5lw0jnn7gdPucd+sfimWkHLF6wywt5niMx9l7uoQ/uiDxWbk/wnlpWY4U4wX0S\n",
              "KevNWOhs89w3wL43AZGrV4X3SM27NVHPQE8zWFT2LMFbd5jyULJ90O1y/ywPvqvLj50wOGoTcSk6\n",
              "LYjCrKmRiE00E3fMb6ynRwazekzzEMxtLQI+m37UGkBusukrrX+dAjJnof88FOwAx0f2TftOVz9W\n",
              "h8A8A6k8kAd/ou4/uelEbjT9GF5/g8IXooMAAAJcQZqKSahBbJlMCCf//rUqgCb4n/zeXLeQAIuy\n",
              "gYOW3DgNlS/0+mT3dWIKoUguRuTg9RcuhElQSZ5Bf9FmKbvV/yzFGppBCzL1bKvOPJyF875Ztk2j\n",
              "DvPP1K8wOT7gEogV7tloIAMwKa/7U60+Cfobq24AHWwnyIBlWWQUjEJjNl3suqoONlth5rsZ2gc6\n",
              "IKvZh98rKQPMQjv8RXQdnwfDcgSdBrDM+yPRMtj9RyxCalGmEN7rYMT4+Jh6b6JkgkoasHwlBg//\n",
              "/u5S8AsfTwIFO9/i1cZCTUoRahvJ6wBckLrEh3ssKieOEq8xe1fjJ4rZBDzNtH11lEKQvHzkdS63\n",
              "lzoqJKwBns51tmPvDWaBi4IATeirC9uedAOQNMXDLWNJs9xpNUMU4nwvWANtbxFGYVj0T4lsFWoU\n",
              "HCEYlu+lsUluhWzkExlwNED7to40u3yGyNwQ9KHuMnEtsDAbqC+ZvLJwEkLz8fF3wSgRcwF6Ajd5\n",
              "aVSwOIm2ZDR4CsOggSLLrzFqcvA0e21hpLepoYFMqgRFfFi16XtvzYxwAo5GL/xr5VSb8aRKWJN9\n",
              "lVss4QwHdHWX1BJe8DzpP/75JctbG1pzI0uumSSkdehzfcWCqURcLBqM/tBKUNLJvvJ3DeqAlDDp\n",
              "tcb1lHMY1YC2MFbI6t90+MbTqrdAMb73gvJQI/QP9VaYppj6jh2lgO2HUoka0QeRsKt5Xr1n5CAG\n",
              "7zFmefJnnMPM7mJLwrTM6Nu8B9yXJfYe46ntqJByk9vyqKMTvrUl1kuD8x78cUUZTCGk2KIZ3dHG\n",
              "RZ9dzO6tgQAAAPRBnqhFFSwQ/wAliHW66cS09gAElHyVPuPtu7TL8OdCF2YB88vCRQOI+vco0zmw\n",
              "F9pZC11P+OKkzDcd0Zdf08ucYqaNcWfE0Bw69Uume7/Fr2ZZLVgoVfQbHBJ3TqK0Zf2Gr05288Ob\n",
              "C1PMehDtR4XF1Vqz/Lq+IC5SQQnRD+CpgarhVCXVEE1uFDbAMRyFBp3atQfEEG8Jj2nCcXC4wTGj\n",
              "I9Xf8DfzW77yj5If5IUIpaHAmOk9PIT1oLZ2ao+eTDxcdsx/Xn4lLHBhZarCT/eIOG93/Jib078X\n",
              "kjLxBe41ACRyrrGKGOpy94IMlTAiW/Vu2gj/AAAAzwGex3RD/wBTRbQ3H9ABJQOJyuG2nAGtxPCj\n",
              "WMIf5sov7Wcuf++AAGxEnHmjNCzz7heBExAjMj0MS/TJ4Bck3Ag3rKiyMmTvtsFLdFyfO6BQRyvy\n",
              "xS07Rw+PxIuL+hiJGyc8RlI30BjpS81G7oPWihWiDZnTkt+Rpp8m4v+7DqJD9wVkHnGqPDDCd4RD\n",
              "HEwyYCyhN4dTOokTywaOX4THffq/PzDwBfSQFbMB1gujIqWiJkk8NzQk2bH2c9W6mIXxjiVLmfJq\n",
              "4wxRWiX6nVJD1gAAANkBnslqQ/8AUMMMlmOACxoOP5LcWMXiG21rTV7sTT711H7WhfsRUmVcargY\n",
              "3NMoQ5CGE8eeGI0Af6UiAwaKCJahUO2Jl90RZ9zMoAjkutmqZ4N2RzPeAvsuD/JxgSPiU6ydY1YP\n",
              "hYrCyZKH78OuDP5NUDd4EAmPrXaUbHaDq6Gzjz5YL/YYRRVadK+tOcZOwAI0xhpq0v6PJjzBsHX7\n",
              "Dn3NqAWUnWqK0EXi2hnarW32kl+kLNvLyjVHNEInzhMHmKHk5z4t7wNwHpVTC8UQXym1XDHqM6wN\n",
              "7MnZAAABk0GazkmoQWyZTAgl//61KoAkhGjNwAXIIG58HteWZWTlZezP6kUWcA7BM9xZNT3VFeMU\n",
              "UIOWKbSWXkpcQ1kCqzCRpTCmHU282+o3YaJT3FkXOpolxfrDrPprVqAh3XbRUgCiEu89lqPonG80\n",
              "2pn9QZ0sPnPmurDZcLNxjkVWdFGjp7I3OIGbscFutmnYl+Bx70JOrC8R3WoA3IEQMCWJJR7LyUtx\n",
              "2u61Y4z0qIrHS9D1/Nte1tm4IigCLsu4WzgAUN0QxKp/ZRiZfQBHJjlN1VIs8kJzKKyNrsmlUDcs\n",
              "G4ZQPIBBMR1XItw0c7AcXY7kGKAl1QM46jpcCKn3bLG4irmWPe4hQW/zPDAAlzHcBuaoMKjbUDCX\n",
              "SBUrDt6w4Qn0phQ/2gBt47F71VfTBK1xlfbPfQjUFI13ejLfnovHxyUYSpQRawsRbYGwNSTR57tm\n",
              "6iY5KK/Y0jXOwvruuZ9yMXyST4P5WyrgXFR2m8JmrCBxqNmb1uGd/xTYeC1M7gzb69gwl4exh9yo\n",
              "AetWdj4GGAS4H+AAAACzQZ7sRRUsEP8AJIUQUlQzABXMZ1FqHEWPUf2GvaHpAhWbp9kw3cNP+ZWA\n",
              "3TYhM1P/HsooenxpfCqQYIDhzH4dR5xYkOpsH6GAmp8JckahB6s4YGCE0pPiYclt7zuCJfCx02tY\n",
              "AwG2qmSu2sH+KQFTmfqVECv91yrJpKvDAazb9DM6xU/Me1h4Cb1pkXjTqb20lW4wspXnUKfH1a++\n",
              "DN9xK2SsORoDDbeSPXzLSr5d2OqK0QQAAADlAZ8LdEP/AFA+57SAt6eoASURK7wrklWfndHS4fib\n",
              "MtQKTfkMsaL+W9Lag9Z6EqvCkIZTomIaC0GWu7LeXgtHEcDAq4rontmp9scLNsBD/7rICzcXbcEu\n",
              "b34O02bCJLfGGxyfHGj3DwYag5CuRF4m4Uvi+ILPZC3OHrBdNrEVp8l7WicWJIBomDAFG/PQ4OH9\n",
              "sMUMXytxXmxV58kVn4MFIuxYxx8tFuEnTflK4cNyJ3ez3D++QV5VfHSR5D7NwwgCIby+seLK2h2a\n",
              "SH5rFm5W6RIylDmWqBjzDY05exUW1CQpn0w7oQAAAO8Bnw1qQ/8AURA4r0AE0YSup/0RC80cqd4s\n",
              "EAfBjDYUzBmaOTZGwf3iGelS/E1Dow+nHLqVUHSQa9QhoIPK4W6vOCUoKYyMuh9vbYNt0k+W6Ra5\n",
              "dtJJaAZ8jU5tUw3u7xnitomWq8urNawKfZj9jvZJug2yYyCuyVTXuPnqpkZclUzXZPxxf77MbOMR\n",
              "6VPecDK1d8J/zgyO479xgw8RO91zvaGTrhBvh1bg7KKJfe1Rxd4RSfMUa3fZ3V7f9lKpOTnm7zmU\n",
              "vLoguu+lyvTQj81GJ4GnJd2gbLvZhDjYa6ZKZexrAkQ4T/xnc8N76enpDwAAATlBmxFJqEFsmUwI\n",
              "f//+qZYBJ8LfyCvgjIwAJyUJXTcy/TiEgItG/c6cB3JNKp87VO43+SvBvpd6gllDEQ9mSCrRwaT7\n",
              "Udf2jHNQMTmC3HDTmv9+E0gHFIW8NsYC9UUdRv8S8dPkxthCBVGOK59YpJ7WYQCV6NmJp2Ihn2lw\n",
              "PdwnFSLRH+QADp1iebpe7ZXs/9TFAf3xAkFRluCJ8Ftf43JBtx+pl67x9rTB7auro+jsaeY8dA08\n",
              "1vjkFOSbTL5yb6mAEe4CZTi3JTy6JFhHCn8vb3sXDSdRITikF1vuK9+cDTnRkVDHCJpvgAJU9v2c\n",
              "KTNVzuj+yXqklqUZ9TkQNm0Kzc5+k/scmfA0P7SYPQsCsO3H6cXW4JMvIJugYNhHiWviWFkORAzz\n",
              "zshliR90aaTsAiESZbfuwJOBAAAAnkGfL0UVLBD/ACWLavnsGSAA+MBDFjFBp7GXuQDFbz06RzW/\n",
              "aV2+e4n9sidjPNXfLz21UETbdK5uCq9Z+cubiuHhRDUdNnV8IB1SBY20Dqy79k/21H+nKyYRTedf\n",
              "ur45oNu7BV99bv7tai1DCRPMT/5WkVkLC90IbUUl+6l2OCS5S3r7OtiwzQroFhU2alSj+cA51/4S\n",
              "+6Zb8VCZ0Sl4AAAApAGfUGpD/wBTUfJdegAe7QEDEdy2a20/+10dZT33FslrNMRhHC4PLAbEczjQ\n",
              "13bB+YKLTw1KWfQknecU2xXascPMm3/mf05eQ/4gY5qUSFaldYEme/BUNJMj7XoChMVQ3YsBdUzm\n",
              "aX3CsrRqgLzTgGcRAXwtmQV9mKaW2Tj2SiOoeG2voC/k2O3dyLd4J9v944M4895AYeS7Q5qXTJwn\n",
              "0qc0lExYAAAFf21vb3YAAABsbXZoZAAAAAAAAAAAAAAAAAAAA+gAACcQAAEAAAEAAAAAAAAAAAAA\n",
              "AAABAAAAAAAAAAAAAAAAAAAAAQAAAAAAAAAAAAAAAAAAQAAAAAAAAAAAAAAAAAAAAAAAAAAAAAAA\n",
              "AAAAAAAAAAIAAASpdHJhawAAAFx0a2hkAAAAAwAAAAAAAAAAAAAAAQAAAAAAACcQAAAAAAAAAAAA\n",
              "AAAAAAAAAAABAAAAAAAAAAAAAAAAAAAAAQAAAAAAAAAAAAAAAAAAQAAAAAJAAAABaAAAAAAAJGVk\n",
              "dHMAAAAcZWxzdAAAAAAAAAABAAAnEAAAEAAAAQAAAAAEIW1kaWEAAAAgbWRoZAAAAAAAAAAAAAAA\n",
              "AAAAKAAAAZAAVcQAAAAAAC1oZGxyAAAAAAAAAAB2aWRlAAAAAAAAAAAAAAAAVmlkZW9IYW5kbGVy\n",
              "AAAAA8xtaW5mAAAAFHZtaGQAAAABAAAAAAAAAAAAAAAkZGluZgAAABxkcmVmAAAAAAAAAAEAAAAM\n",
              "dXJsIAAAAAEAAAOMc3RibAAAALRzdHNkAAAAAAAAAAEAAACkYXZjMQAAAAAAAAABAAAAAAAAAAAA\n",
              "AAAAAAAAAAJAAWgASAAAAEgAAAAAAAAAAQAAAAAAAAAAAAAAAAAAAAAAAAAAAAAAAAAAAAAAAAAA\n",
              "ABj//wAAADJhdmNDAWQAFv/hABlnZAAWrNlAkC/5YQAAAwABAAADAAoPFi2WAQAGaOvjyyLAAAAA\n",
              "HHV1aWRraEDyXyRPxbo5pRvPAyPzAAAAAAAAABhzdHRzAAAAAAAAAAEAAAAyAAAIAAAAABRzdHNz\n",
              "AAAAAAAAAAEAAAABAAABmGN0dHMAAAAAAAAAMQAAAAEAABAAAAAAAQAAGAAAAAABAAAIAAAAAAEA\n",
              "ACgAAAAAAQAAEAAAAAABAAAAAAAAAAEAAAgAAAAAAQAAKAAAAAABAAAQAAAAAAEAAAAAAAAAAQAA\n",
              "CAAAAAABAAAoAAAAAAEAABAAAAAAAQAAAAAAAAABAAAIAAAAAAEAACgAAAAAAQAAEAAAAAABAAAA\n",
              "AAAAAAEAAAgAAAAAAQAAKAAAAAABAAAQAAAAAAEAAAAAAAAAAQAACAAAAAABAAAoAAAAAAEAABAA\n",
              "AAAAAQAAAAAAAAABAAAIAAAAAAEAACgAAAAAAQAAEAAAAAABAAAAAAAAAAEAAAgAAAAAAQAAKAAA\n",
              "AAABAAAQAAAAAAEAAAAAAAAAAQAACAAAAAABAAAoAAAAAAEAABAAAAAAAQAAAAAAAAABAAAIAAAA\n",
              "AAEAACgAAAAAAQAAEAAAAAABAAAAAAAAAAEAAAgAAAAAAQAAKAAAAAABAAAQAAAAAAEAAAAAAAAA\n",
              "AQAACAAAAAABAAAgAAAAAAIAAAgAAAAAHHN0c2MAAAAAAAAAAQAAAAEAAAAyAAAAAQAAANxzdHN6\n",
              "AAAAAAAAAAAAAAAyAAA6pAAABeUAAAHkAAADMAAAAfgAAAGUAAABFgAAA7MAAAGTAAABVAAAATkA\n",
              "AAMZAAABlwAAASEAAAEEAAADBQAAAVUAAAEkAAABEwAAA2EAAAEKAAAA6QAAAMwAAAL1AAABEgAA\n",
              "AOkAAADmAAAC6gAAAN4AAADsAAAA2QAAAi0AAAEFAAAA1QAAANkAAAIpAAABHAAAANUAAADhAAAC\n",
              "YAAAAPgAAADTAAAA3QAAAZcAAAC3AAAA6QAAAPMAAAE9AAAAogAAAKgAAAAUc3RjbwAAAAAAAAAB\n",
              "AAAALAAAAGJ1ZHRhAAAAWm1ldGEAAAAAAAAAIWhkbHIAAAAAAAAAAG1kaXJhcHBsAAAAAAAAAAAA\n",
              "AAAALWlsc3QAAAAlqXRvbwAAAB1kYXRhAAAAAQAAAABMYXZmNTcuODMuMTAw\n",
              "\">\n",
              "  Your browser does not support the video tag.\n",
              "</video>"
            ]
          },
          "metadata": {},
          "execution_count": 72
        }
      ],
      "source": [
        "from matplotlib import animation, rc\n",
        "from matplotlib.colors import ListedColormap\n",
        "\n",
        "custom_cmap = ListedColormap(['#9898ff', '#fafab0'])\n",
        "rc('animation', html='html5')\n",
        "\n",
        "fig = plt.figure(figsize=(8, 5))\n",
        "ax = fig.add_subplot(111, autoscale_on=False)\n",
        "def plot(i, axes = [0.5, 5, 0, 2], label=\"Iris Setosa\"):\n",
        "    ax.clear()\n",
        "    w = model.ws[i]\n",
        "    tit = ax.set_title(f\"Epoch {i+1}\", fontsize=14)\n",
        "    x0, x1 = np.meshgrid(\n",
        "            np.linspace(axes[0], axes[1], 500).reshape(-1, 1),\n",
        "            np.linspace(axes[2], axes[3], 200).reshape(-1, 1),\n",
        "        )\n",
        "    X_new = np.c_[x0.ravel(), x1.ravel()]\n",
        "    X_new = (X_new - X_mean) / X_std \n",
        "    y_predict = model.predict(w, X_new)\n",
        "    zz = y_predict.reshape(x0.shape)\n",
        "    ax.plot(X[y==0, 0], X[y==0, 1], \"bs\", label=f\"No {label}\")\n",
        "    ax.plot(X[y==1, 0], X[y==1, 1], \"yo\", label=label)\n",
        "    ax.contourf(x0, x1, zz, cmap=custom_cmap)\n",
        "    ax.set_xlabel(\"Petal length\", fontsize=14)\n",
        "    ax.set_ylabel(\"Petal width\", fontsize=14)\n",
        "    ax.legend(loc=\"lower right\", fontsize=14)\n",
        "    ax.axis(axes)\n",
        "    return ax\n",
        "\n",
        "anim = animation.FuncAnimation(fig, plot, frames=epochs, interval=200)\n",
        "plt.close()\n",
        "anim"
      ]
    },
    {
      "cell_type": "markdown",
      "metadata": {
        "id": "kn4niJ8lgZWd"
      },
      "source": [
        "Nuestro MLP es capaz de separar las clases sin problema. Si recuerdas, en el caso del `Perceptrón`, el modelo no era capaz de separar las flores de tipo *Iris Versicolor* del resto, ya que esta clase no es linealmente separable."
      ]
    },
    {
      "cell_type": "code",
      "execution_count": 73,
      "metadata": {
        "ExecuteTime": {
          "end_time": "2020-08-05T17:02:38.558460Z",
          "start_time": "2020-08-05T17:02:38.370464Z"
        },
        "id": "rdDbrq4LgZWd",
        "outputId": "292f6e85-af07-4ffb-80c0-5e7d31478396",
        "colab": {
          "base_uri": "https://localhost:8080/",
          "height": 372
        }
      },
      "outputs": [
        {
          "output_type": "stream",
          "name": "stderr",
          "text": [
            "<ipython-input-73-9df572ef30ca>:2: DeprecationWarning: `np.int` is a deprecated alias for the builtin `int`. To silence this warning, use `int` by itself. Doing this will not modify any behavior and is safe. When replacing `np.int`, you may wish to use e.g. `np.int64` or `np.int32` to specify the precision. If you wish to review your current use, check the release note link for additional information.\n",
            "Deprecated in NumPy 1.20; for more details and guidance: https://numpy.org/devdocs/release/1.20.0-notes.html#deprecations\n",
            "  y = (iris.target == 1).astype(np.int)\n"
          ]
        },
        {
          "output_type": "display_data",
          "data": {
            "text/plain": [
              "<Figure size 432x288 with 1 Axes>"
            ],
            "image/png": "[encoded data removed]"
          },
          "metadata": {
            "needs_background": "light"
          }
        }
      ],
      "source": [
        "X = iris.data[:, (2, 3)]  # petal length, petal width\n",
        "y = (iris.target == 1).astype(np.int)\n",
        "\n",
        "X_mean, X_std = X.mean(axis=0), X.std(axis=0)\n",
        "X_norm = (X - X_mean) / X_std\n",
        "\n",
        "plt.plot(X[y==0, 0], X[y==0, 1], 's', label=\"No Iris Versicolor\")\n",
        "plt.plot(X[y==1, 0], X[y==1, 1], 'x', label=\"Iris Versicolor\")\n",
        "plt.grid()\n",
        "plt.legend()\n",
        "plt.xlabel('petal length', fontsize=14)\n",
        "plt.ylabel('petal width', fontsize=14)\n",
        "plt.title(\"Iris dataset\", fontsize=14)\n",
        "plt.show()"
      ]
    },
    {
      "cell_type": "markdown",
      "metadata": {
        "id": "u9xkNpuHgZWd"
      },
      "source": [
        "Sin embargo, nuestro nuevo modelo, el MLP, es capaz de solventar este problema."
      ]
    },
    {
      "cell_type": "code",
      "execution_count": 74,
      "metadata": {
        "ExecuteTime": {
          "end_time": "2020-08-05T17:02:40.283777Z",
          "start_time": "2020-08-05T17:02:39.887775Z"
        },
        "id": "tiXnBi7ogZWe",
        "outputId": "ace45bd9-593a-4784-e76f-00b56d52d1c3",
        "colab": {
          "base_uri": "https://localhost:8080/"
        }
      },
      "outputs": [
        {
          "output_type": "stream",
          "name": "stdout",
          "text": [
            "Epoch: 10/50, Loss: 0.01859\n",
            "Epoch: 20/50, Loss: 0.00663\n",
            "Epoch: 30/50, Loss: 0.00158\n",
            "Epoch: 40/50, Loss: -0.00129\n",
            "Epoch: 50/50, Loss: -0.00315\n"
          ]
        }
      ],
      "source": [
        "model = MLPBinaryClassification(D_in=2, H=10, D_out=1)\n",
        "epochs, lr = 50, 0.1\n",
        "model.fit(X_norm, y, epochs, lr, batch_size=1, log_each=10)"
      ]
    },
    {
      "cell_type": "code",
      "execution_count": 75,
      "metadata": {
        "ExecuteTime": {
          "end_time": "2020-08-05T17:02:47.491668Z",
          "start_time": "2020-08-05T17:02:42.849519Z"
        },
        "code_folding": [
          2
        ],
        "id": "-Zts4pFLgZWe",
        "outputId": "81a32489-5888-4d92-e23b-33d7161de8fa",
        "colab": {
          "base_uri": "https://localhost:8080/",
          "height": 382
        }
      },
      "outputs": [
        {
          "output_type": "execute_result",
          "data": {
            "text/plain": [
              "<matplotlib.animation.FuncAnimation at 0x7f172906a700>"
            ],
            "text/html": [
              "<video width=\"576\" height=\"360\" controls autoplay loop>\n",
              "  <source type=\"video/mp4\" src=\"data:video/mp4;base64,AAAAHGZ0eXBNNFYgAAACAGlzb21pc28yYXZjMQAAAAhmcmVlAACwnm1kYXQAAAKtBgX//6ncRem9\n",
              "5tlIt5Ys2CDZI+7veDI2NCAtIGNvcmUgMTUyIHIyODU0IGU5YTU5MDMgLSBILjI2NC9NUEVHLTQg\n",
              "QVZDIGNvZGVjIC0gQ29weWxlZnQgMjAwMy0yMDE3IC0gaHR0cDovL3d3dy52aWRlb2xhbi5vcmcv\n",
              "eDI2NC5odG1sIC0gb3B0aW9uczogY2FiYWM9MSByZWY9MyBkZWJsb2NrPTE6MDowIGFuYWx5c2U9\n",
              "MHgzOjB4MTEzIG1lPWhleCBzdWJtZT03IHBzeT0xIHBzeV9yZD0xLjAwOjAuMDAgbWl4ZWRfcmVm\n",
              "PTEgbWVfcmFuZ2U9MTYgY2hyb21hX21lPTEgdHJlbGxpcz0xIDh4OGRjdD0xIGNxbT0wIGRlYWR6\n",
              "b25lPTIxLDExIGZhc3RfcHNraXA9MSBjaHJvbWFfcXBfb2Zmc2V0PS0yIHRocmVhZHM9MyBsb29r\n",
              "YWhlYWRfdGhyZWFkcz0xIHNsaWNlZF90aHJlYWRzPTAgbnI9MCBkZWNpbWF0ZT0xIGludGVybGFj\n",
              "ZWQ9MCBibHVyYXlfY29tcGF0PTAgY29uc3RyYWluZWRfaW50cmE9MCBiZnJhbWVzPTMgYl9weXJh\n",
              "bWlkPTIgYl9hZGFwdD0xIGJfYmlhcz0wIGRpcmVjdD0xIHdlaWdodGI9MSBvcGVuX2dvcD0wIHdl\n",
              "aWdodHA9MiBrZXlpbnQ9MjUwIGtleWludF9taW49NSBzY2VuZWN1dD00MCBpbnRyYV9yZWZyZXNo\n",
              "PTAgcmNfbG9va2FoZWFkPTQwIHJjPWNyZiBtYnRyZWU9MSBjcmY9MjMuMCBxY29tcD0wLjYwIHFw\n",
              "bWluPTAgcXBtYXg9NjkgcXBzdGVwPTQgaXBfcmF0aW89MS40MCBhcT0xOjEuMDAAgAAANtpliIQA\n",
              "FP/+98dPwKbo+WbLnUU9ITCK2PpIKL1Y7NAydQAAAwAAAwAAJwtU8iffrloEmcf+EVP4AEvdvwEP\n",
              "KhWgmcPZBAJqVCQyG/bwwg8EuOc06oGKo2PnUeFIC1mLV1h33Sm2o5K4CfJU3vzh1ja0ZASIlLzY\n",
              "CPVPIhh0k7PGQJbUo8scj6G0iaB+WaWwBToLJkWYypODv5YTTWBk36oTku1xW1GbVL2INrTT0ZQX\n",
              "6B76v5UwilOh8lgnGHMcBskSUQShd0xJNK4FbYlDW65p/8C9sQNvKFLs8dn0y4Dx+1yEzr4uLxFg\n",
              "n9JtoQE96sSV/xhuWYSqBZR3K9ZCo3lLfyn9mQif9A9bPRKuKESoi3RMn8zogAAABqk1lGBWAxXu\n",
              "G8LkNHVE8y3nV9k9vihWKpDY0H69o3Rs34H4rnyKiD9Vx936YjiTF0AxxFA8nV5zWK6/+DgiKs76\n",
              "prwP54+9d8BgeWoxfriZFiNDoOmLBUIam4w3LfOR2MVE/uOfSdKuuwCZ/E7C8R7MDGYGmtM4en5g\n",
              "53IA3XzWNuMrC+fMVT6LlBRXhKI4vhKqCXLOESSiFNayAifHjkufQuXAuHZDrvoSPfLh6J4GT5BF\n",
              "oEr+Mly9k1RGyPHz+7vH+cJ6X1orpRvfR11Gz0tO/7hwl2NMp+4u2rjNvZeVXazOVYMT8Eq47PCa\n",
              "UgIX3ZiO23O/LyBixj+9GxF53yMOXLZB32uoQdDai8ctanHhxjkDUX0FNBlyzgbAs9n4TjpvoTSx\n",
              "bsS/yfmz11nl4AKWYsNNLEfHCof/w3mV4u4xRqK8q+7eWaxyMq8HZmfrGxujiFzXI1mEl5+ihJnn\n",
              "BJXAY4y2IfEHtsBwsb6hjv/4ANMt83q4eMadkLMSx7a5d4/ONxvIEEAt7gMAnC79vcoi94sr4LtM\n",
              "DSTpwEgfSP7OVyPD/Cyw8rrTPm+pOjgpExX9XOqb+ZUjmcP3kXXiSad7mbD0kphD15x47qNfJL/N\n",
              "4ahoCxIk24kcJOZH4wug8/bg+KN9YIwbiB9b2UaH1pHofGTO7WO+UPJCrMxCOcYfqazAomFV2gDu\n",
              "pwXHfWEntDsPv5yJFiYimAAPmgGMieRUuI97VYFBBdWZ7Xkc/t2EB4ZQU3AgeN8SxUkhqAJlN7LL\n",
              "bfX+8SzLwyJI8DtTtJL8JDAl7QHkM2WDPAuk13f2Ec75Pdr2IXJAF0IMWdB7VlenzVxKIHIIaIPi\n",
              "QSaaOIMxZG9vMHWuapyzkryX7mLZ1KcIPVm+K/9H/XNcWvNQwkOZN7pP44n9pT/UEv/Qmq3rS6Qa\n",
              "//If5duKlVOXtu1Yns1ZtAEFo9cj4XzReahRUspbUXt+/ulYFweg7DHupZQc/W7wLWzHJXoFxfSB\n",
              "KAm7ifV6bRqdPNxGU9E7+qnM9h6TN/rF9iGH12g0ZSnLwBB8M2j9mcWGEkkbwotY3J3ENaseDdZx\n",
              "hWnwM1dgTP5E/AoAEm9Z2l6ABKywsQh2b+rDpntahwiCod7zuc/ipczSvYIkpqE4zc+GopbZyYvo\n",
              "2tl4HEGqG0+hUrTaXKOx1u7UyKZ17dYOkqxRTlh7zHK8a6JgwKqKj+QEQZiCOof+sWpHXKdJC3FP\n",
              "NDRQ+mxg97zoEsdwQeN1OBnTz0F26D/7+O01t73qixVE+vfcmH8YnP+tSHx2ERqVUnjSuBz6YxBU\n",
              "96UDd/9B3H8k3uR3CxzFna83Cgr96cm3zWM3MHQqOFzcpFgkbk++w7tP/XWrrAbvkePlJCiTkfQq\n",
              "DF1oJRS/f77C173kDdJtAKbOmVCBpHNfq8WS0WFT42aejdSDFjdXs7/0EXQr4PSz9XT9nO2mq+eN\n",
              "4N0go8XL6piZgak1RDLvbRhV0jZ2tBecudMVQAov+6ZDmeoHP6zZUy3ZXm3Q8csL7TdixGAsABQE\n",
              "Q9e5YwD5C6LUqScjZJKE77Mch+3e3v4yGzW8ZKiLqxXgl9PmE1sDSzBOV4czs9hAEUtiWHWpVG6u\n",
              "qolWVFsauJt5W++qt9PszhlKxoe9cdrWB4hqi2nC42bZlhEWXfamWtUMHnSuVC13LepM5CwPQIqA\n",
              "ujjOiKizVgNtQDXQrMF+QfT8Q1nb/ZlExiLCErQi+KoQW6snP0TaGWP0hNKw77Hdyii9Z7EEe4nm\n",
              "O66ntegEcWILzcvv0PtNZ9AeRgXarQAB8JVJ6Rduyitra6iqptCgvs8twsy48kA5vEnRPYtqUTQk\n",
              "1p2xsY6+FH+3rR6NCy3GvF3OCYPACV9ndzmdFGGsy1oPLJPKPfyfDaYmED0qKtzjKdjJWDPteu2k\n",
              "8WcP0Y60X1szGY/uJfNgECWBIM4zaXV+H0JyrcjJ++2KidhsCP4T1w4EuFgAOja35w7h6YgojfNI\n",
              "l0DSj/DPJC4uCgq/JNAnQNUMaCCrZ+kIHudOwc4w7aCp6WjXe7EDyZtn53kQNNNJn9DZaPSvwoTC\n",
              "aZy8ePBfT65eF5InJQ/M6ZHpXY7ulosNd0K9uDA9ozPhEDzNvIYV0Aw4M1MCP4BXkCVcVBIoguZq\n",
              "1tyMJdeI4plYp0KFu2kJhjLEv2UwHop5yMfYrtqa5hogi+k5bz12t+BGps/AYTq4RTkPaLyLx2K3\n",
              "bhfl8d0ZczajiTbgd19PqVZMT0LVSQ5aW0daT6pXAoiCAk8U6RLm2U6/BTZb4Nx0Q79HpON+w73C\n",
              "SoS5Vxdwg7EqHUbmv7ChftzpAlmA4iISz/slDwBR0TEbjGudiC/AzHIBYdo1NxBFvYJLELk89SkY\n",
              "ERtQj2nH+J0GvJ8oWWMlNwrD5LWdIY6hbY8fZT6TU0F9I4KKSpd8Np2107/yKgdpknwZ64D919Fx\n",
              "6svo/eMa+GPbS3aRUVdBVijOq7+6ZYII4hu1MEFaUhyDLC4Hem0KYqCeok2jBTNwCHDHaOMrK1y+\n",
              "vlT7DPKuIDVwCB1v2C58k25jQ39tFcoP6DxOacX4Lz9a1Yyc6AD+Ml3otVdagHBRmyhT/RhBbiM9\n",
              "xQ2rC8SmdJ9lh29yHrW6B5uXULtvqW228WIygVOLCEfSJT3dGCwE6aZsweK4B1blXFQqPQLtvMoO\n",
              "IxyeWppQbLiewxbwZD/aII28T+RbN4fGgbW0mzyO2tSpv57yoP2FJ8FuIiBAPxEYWrDJWKcAV9mc\n",
              "ypN36eooCV6jDe7u438INsfxLaFb/By1evLkRBOs1rf0/89BavvQCD86YcLJGZknwsigI8D3KnOc\n",
              "QBZW43D4jmL/Bx5muCvM2/UNYFsPlzugLcNYmsYhsCgF/Gb+ouK+1J64VcBG80g52ho5o157gNRq\n",
              "oYlKTECeLvmw4w9MXWQ8FNWV+xYM0k9H5r1Ev96YevfRyGBlSctNnX+UmS3Tc7zZVzMqkSG0yAHE\n",
              "kDlXIjCtGktBrpYn1Sy3HSU7qmLH1hD/VTXeOOjpxs8oL4xGy7wLsmN4/6o9iZnMz+zsBuOAZodi\n",
              "XIKcMol2ypjjSykApm9TTwmeQ0GBQG7rJjVLvfDp+Oczl7ZM25L8k1f/8D9QX1c6R9oeOvjrd94/\n",
              "ss5J6db3pItWOktrTaGUsyDVIP0ts4OwVNgw96/kGr+evHMzExDbA+UZ/JHDw+UP16etZrCvwoWL\n",
              "pg0/bfsOnQd9f6Fs3Di5vgrwXXpuxXtd33LwheR4lBDjqKMuoMn6FApou0gmen592A7c7Xb1eh7y\n",
              "EAkuaKpVNUr6z6ZlsBwpWAGiyRlPw6zdhFJ54zi3BaLoICmWMNWg23lONgiCFOKhujYYir6OCykB\n",
              "YosybmFEV9PPe3WEIgjdph/ynypma151BzwXofXq4o/VXXjpLtCSVWrfGWEZch7J/IKBre1+HFsm\n",
              "CQOkrVRCmW+0K6qI3r1/vUgduSAfq/JioT9Zr87/1t1zC69PnTZJMf+rZK5F5uZF6fmZVL2tj0Bu\n",
              "JLF+AUMTxaMKXpLJomsJpArjDIEwTjmXmGQ8/3owK4ToBU0D8OHF5zE+bz8abIMRRvW84TZC9fiL\n",
              "B5XdNuD93gbBL7WxHMkdb2OcDHqmGrXED2x/RQITLeaJgtP6M4kl8ItbAfiDRgKBup3jML+apuqj\n",
              "ZucKk1E75MxNnb88ZBPByIDmCs6WkNiYuorYzjQuD8fuW1oXpRv0Zhkokr7Rj4ocUXajSfh/JBMF\n",
              "+XKV6RG4PL8xEbNNMBybuRr1dGXy36YZ/9Uns11pnLM7moNyWfpJ/ynx+0d/m2spSvKnKtkBzOYn\n",
              "XOmctAVEFHCa8W410bhUCdwSFE6EyxFMW4knQ78q0/nEUur6M9NJEpMT0OBKXmT/GAUJLJyStGbl\n",
              "qAcfLmE0KGJhhiNrtTQcE5g7EKcFRH1oJuNXEZq31iNd+CAebV3rJIDZwqFz62l1JrEu1XehyGuA\n",
              "EZliRYwgZbdu7hPTRubEvScRf/kple8Uj4NJFvsqZW/XEaT6sWYWD2c9EMYaAM+sXTLvM8vJUEAC\n",
              "dIm90xy0qlEVzY/GJztl4KSBCaphcJVUvd6drtZDNDHpyLflyiNsQ++Zq/Q12K1DUZNF4JqvN/x0\n",
              "/wgNEk3DjcQGWSDoSpDYiwtvJgoVxVstDK0B2NDoLlRCxoG27GgC0L0CPMXvCPWWY3h83apzBi4T\n",
              "p7GWUesFIetBmIVzkEKqV0mBBENKbsMlyRb/PCkGvBx6tWlAkDG/fe6MxZVHWtIpFfEoYh1gaPs7\n",
              "rV6QyJqGfILNwD2oCpuAX5SWsFdmXyY7+dY/IrlgQJAedJyxlsJ6U0mO1ura/qkDADunHUiQ8pwr\n",
              "kDtpmWA4MSu4HFMdHflJr+67cOmKpeE/FTLTuOgB5xDjSuWzRSECtjz949kd49KdK15EvGgRoj5Z\n",
              "1gYf2Jb1ucqpgb0Wq2xzQ+/+F4srZkPRIFvB7dODVYLQ3/qyFKprPHTppWElow0pYmQMyBKkHsHj\n",
              "127k9xMV1QBTWpt/rhHsr4zZD/89e2UvAZx6iDQ2SDGcTIfM+fxInQZNvcA6DhKsf2tfJUu6m6o5\n",
              "tteLtHzN+1YCBx5aCwXN5UL0KAqCkfyzFnSFEphMt2CnjKg2plTANECBj1Pr/W7krF4ZEuxkOu+N\n",
              "uUjL4Di6lfAwkOp0RU9YsGdoYYYbpyu192A8wAhg66XbqXlA4uly+Nsj2s8VXpYqSRYO2qM5hOG3\n",
              "ZAwKvZBWMRaECijSCmwWRtjmXvvDW5qUpmqrv6chDo4C0le4qTNwOylPNAf1tBTR0VdNXKZcpgUW\n",
              "0U+MhN8UxnmXGHT930vM25Za0C0pUPN7AGWZIECD47AlD3n4+Fgo5K3X8AE7l8ZtYgY9Fe5H8rLk\n",
              "JwjOPzSFpyDCSX5PpybxAauR+6JLxtWrkK4SAOHL8evuv+gQEF0sXrxb+Gv20rHC8+9xZMeRtqU6\n",
              "CzZqPjFvzqupMzBir9TJgYO/eYAWz6g/A8UvgnFd5OeMAqs9NLjkkMX6fFMWNPJFokzI+S78k5rh\n",
              "6RLRMgSCgQn20dYxK+izFvMWLiAdAW7oiuz/RYZWYZwxGSjjxThVHxVO74LbE1AJWTgwlQNP20NO\n",
              "wLhfUxdX2CVu03bdYwt/zCO4E6TMV+mWJXDwA9QcrACuss0oURNHp7J8CQjyOyOtgC1X/6d3u2No\n",
              "uWpQ/gUjDDuPx7kH9a//GWNn25EnwX+emdvmL6Ibcjxp7Wq0Bw100fq83MyndtM+EhsEUZZs2f0v\n",
              "svnEffyMGnGRQMfYsC+z5zeIKmNMuXZRxpMPVSnrMWWRzz1DN5yW5EGUUeXwERjSZ5hpZaNjnXsX\n",
              "oblzcQ9dwgZOlY2Fw6/4G7fC7xOINn6pijxo2lNjVjpKjHFbMihrLnH1I43cS5AkkJzqgzmXRP7S\n",
              "pl8l9Rxmt3TNLkxdheeUYLBl5s57qYJsiGkrNz/AuO1zhQ9+7f42STl//jU8QaLLmu8fU7+zjGZ+\n",
              "1jHueiRM6F1r5BoMZeZmkLuKjveSB0XaHK3Nsht8CIB/p7BTUaa5lYAbkIMYvW9YB22Uq1PM3eDI\n",
              "6vMjg9vSC79E6t8zWBzlyRnrcngRemxyHqDOVqXirXKNw0r6eAE2nxSjDqA8GL9YIBEGVa01a+D5\n",
              "aWoXESp/qFr4C5MhwD8Uk7OnJv4eGkY/pZ8F7MvwHk/guW3tUfozxNyz62ZOqYwvd6gxT/I+Lk52\n",
              "kn9GqBhkoSmJ/X3pLSpzdZmn31tpOYtSZvmivcyNFTRfu6Gp4mAGzha6nUcPH6RbwpCZy+gsoTWR\n",
              "MFI5xryIjwZB9n6gTXEKKz5wgynhg+fx2rijGQ4acARY9s+lrDSxs3Rj6yxatAv9ryfSmgJjgv4k\n",
              "41Z3frIrOaaDBrWBfYaPRYAImdTo+qsANLDbdHYE6PvOOaPYniStXhHtVyCfSkCYNsW3V1+tiBXY\n",
              "g82nqErwaOQ+bSLewbDIoJZUniIshaOfBmofAN3O27szxqoiTt6TZiB+AXzsP4y+CAfJwa5Rg7z6\n",
              "vVY96qfLDUUjd4slkV3HdHC0LIzJ6Svd6M78bigKFaTEednRv3nZ3uuY4PXaNj/PVlhrwWg8Exyd\n",
              "chjG9BfMcLG7KfQ17kTkzmSrvHePPk/a4CHEWE1a7AJPN+RsWIcnZM2JaXsnhXccWxlSJgMOBOHm\n",
              "9W0GLl3//mAQgWc7fHUwTaHc51hAP/mghfrf12x8YKZjlMP9omZzMdxAbuQiqxHOHoiHCvQsr0Uf\n",
              "TNNBcUY2jPynRE8e+Hk98B/cvZvtCJ9ONCLAmOs+p7meAoAvuDBgwQGrGv7wWLml+nrQmzbANMVB\n",
              "CrLpHTE3X6HdydQR7pb8R0TgnzOmmIqNdA9QiHMKYW27p8WgDmbFVm8671qhFIn3cKxdyz5m2+TE\n",
              "LUsI9rwQ2D92aA+24a/LRjzd6Ac/rJ1xLgZH2oAfvRGrFRyOJQ/imhyHVcZ9CcwEjUbzgorz+GNq\n",
              "R0WvNfAjAiuSGWdS9kEAKD8oTzCbN4ywdnDwdm86Lc/7p/bOVbf7HyVHnjjrjguxI6eimvdRYpRv\n",
              "+Ph3nHwtXge7ZWE3Odasuh+ND5HyEN1Y6MhnEbSdlUfAuGQ3zmSQPdSz6JXm5IpsNL0lpEIneNkX\n",
              "wntDNAjmNHAhei0k+jg/bj4cUz/4IUYe+88EhjpEK7DnITcIzlsrDB3yQefNC9xZM0Zp3ieo2+Ok\n",
              "q5I1Bkme0DZAEcVIwiUi52QdfZdXgayRXcVaHvcPiXWtfBWUq7vL/dVb33xbpmuLA7yBCBovmUX1\n",
              "g90D9uMkAbkLKv+53aQMaDrR0s0ANZFrzsukBxT53fYrQUgDFoP+isjFdPXRbw+78jygT/1GmtOh\n",
              "de4SltKSXUQ85dwWCP2dtV2KQCnaiD2BBk9zelMoLY7lT/qf+lMIO3A17dmhc2Vh7eOnB0c6MbyL\n",
              "gq3+Xlgb5pzti082uFQwQ8W/P2O/hBs0BQRVVX4rcEQQjiPWDobj4HsSkpnAocxSXEWHF4KjBoqG\n",
              "sCY3lhBAHKJy5vN5eGAjd5kwcG93qzIKqoED8l5e0Pj9veV9aRLf1sQcO6o7er6YKmW3XC+SvcG7\n",
              "WQ/vdzFyNigFvo3wwj+JQAmu8dHYu9nUQHleHvLub9B7RlPq18no2cXuy+AhQ9pIp7xEaKEObahc\n",
              "3iTy58s+lWiwDJpJwZZojrk/+/ARDq3vUZLpVci+z6w11397Tg1LWCQVObbpMgYrr6rWA3VDzpmn\n",
              "/FUFrgdQbqrmKQZ1gqFlDpmL1sAYGlfuwJSdzHBX8eD1XqOwRv9ZpBt5W8PP5W7Ey3vAyxFy4JZL\n",
              "mabKFdIB9YZoDCEIOODNd1KQFbZ3Mijlx8jiJE7+UGYNuGHGIi71xdccX2yUFNapsL49d7pi10ME\n",
              "4wjPK8OKQem/+MVd8v1IG6+iPur5z9FNSgmTfFqIaWqfk6ONovpuacSoMsOqjmGxvFx2/kEbDC+k\n",
              "Wm0wTfGX82AcckRfTmrxA4kQVhezTQRedvmEhgZv1Z9JpOihvbGx5X18zEjGwDupwf7bqFAQ2Ebm\n",
              "oyjikhetTEtVV6qW+zl9KlAm8jGw36t+zSS2d9smEvW0nxtL1osWTOXalZiljGk9+B4fHKzwSZCF\n",
              "QiEqNTG69+6oFy88JIzqwj5BMHTVPdqHuM2wDbvpJx/5H8RujDvrMpvnhnqtKUYyT6g57X77Ddwb\n",
              "srRvs1oDWiObjN132XdJh11SQshK3dhFUlPXrjo/hk/ld4WTd5M8eyiF2+C1LQQBIu7XWFyx02kX\n",
              "HS9IlSp1tEW1ItoNNhHo8l4gwZ7/wJxKXmNjTdu94X7ePvzTDm2Gr350Xdj5hVzOqdtHzQt7PbnR\n",
              "tJJAMJUpmBmPG7I3ol3P5Lf9lkRl9CvwWJ8XDbjR6ofPwUBj1iucnFJysN/7cPI8HaWfgR//QyXL\n",
              "eTT+6WPl6N5Uh4OzehbCQMKz/PiDFPFhrIWWXvDKKMfeCEDFO4KfC4UHX0PZlkr4N8PtMMUmeIxh\n",
              "zywabvv1MJ3xvXVFdL9lM9dgwYTBU30gg1J9A1ZWRh2X36HEPysRWfyIztCD/8l4GEjazuPQ5NtR\n",
              "D5U7JEEzk0KSRu3hWtk0bt4wYaHYEqkPC+Xg9rN0gmJ8kf5GA+GtFU49wzd49yf/b6iAOYG2+ktz\n",
              "ghNJXpvThXkQPSC+vgBKA+w3tZQ8gkBS1B/FIrUenP6I3GPm1trKvoI+R9NOpthM0boU2BcRf5Mi\n",
              "08L2946VX5NoEbnS0row8n0zvw9PcDyQN8TZPGwsiUZ0lN5x+DFoIdm0bf6CHhMuXaoZX4mYWYjh\n",
              "hTrHlZja9pLYIqeapqr3gQ7K7UxyxWhhcS6CPVnLtzGkwMeSfvJOiYd385HgPVojgmErxJ7nNpGC\n",
              "WQQJveyJEK0sHxtidi5DhWkMDNW+nqn2OTMUv1s22Ev7XzkA6XsGWjrYWGTQ+ybw+JzENDyUhNkz\n",
              "+LETSBSps9yqOTG+3sSK7cRns6pSzb3P//w0qIXf1Pt3oP/xLkKe+w2q2BKAIMQP+UztZrGRAGFD\n",
              "ODy9TEjNFbgMxesOdwKhGMkdLh60fEMULXugVal50/B7jF2xLy6NSdNV3k8Nd55Rrkledmc4UsIF\n",
              "9EJusiHgmcMIukv0akyvhbP0BQfuRUBD/M05z3h61WVGKU1kHQtDz47BvxHCWzR+dNRqRowJMXkQ\n",
              "N6536iNnobiFfUE5bxjabia5hu3VkH/SFmhGJEfEIpwGRwpTqXoBEGV9uuK65phTrSoO4xubgQvI\n",
              "PSI2fHM2WgUPG7SByuU+91rrOQ9uL78peEn5R6PfRljuZho+fkUsgmIbxXV+TBkMrB2FcIYvLad/\n",
              "H4anCE/U3ZfwOQofeeQ9eZLz+0WYIXgsBPZ7laR28cjSTvMdqGWSJqLbrqsmevobqqjC8q4s1Mok\n",
              "O2MzylkarErXPgWFvL837UplMQR98amPT8aErLCRgJ5pI7xF4+t1pl0DdfBO4MgKP/PCUcrHuNHf\n",
              "cTxHAgauoP5hCABdUrWXLxuSzdmN7Zu/GBkHdfgSYypA8MuJJyzQ8JUwIv6UX1YZmcedxecbQirQ\n",
              "9PnmAfqWEeuW3Hw1vxeV2ZqQZJFcb0aSPObOifomHGI5z5R1HO19Nth8VX4HTZnAMHnXZ3jD6Vy3\n",
              "9xt0WZ3evudF/TeCh4weRZoXiigSeN/4JnyHsmgQ1aNsR1Gwc9vi0x9NCVUyddW9hnkPmNddKh+t\n",
              "SqZRotiNbM7AB27gMhryMKkD0wXbdNJ3k2K5F+dYTkWQccDya3fpjQVa62vNc/4ZwhSMuXTEjUar\n",
              "e1w8LGik91xN/F3WiL52T0YlkzUpfrQsC2IOFTGlGq6YJtKIMJ211alvoouUwkQwD0qQdHELUtKu\n",
              "kxP/+DSLokO4+h74WHlrS9j6AK36yymVFdTBqZFmRG/m3UIckTTiCjg3Cr++6KTw/O8irdWPYJlp\n",
              "j8kXc7B7g+A+f+phU8G6dp+gbSuWZYoZKIfexuyqSuVtNw6031h+P5/WydfWrlalA1vTRi/bIyLN\n",
              "JDiPBgJ4O4VpSndo/4IsZWaHfjNy30C9u+Z12aY+nidZ0reZQ0cFcAwEtPOecKV8gfXAQtTX9zdq\n",
              "oqJDOX8KtPPtmfxuwlB1UzKkav3n43eIwsYt7P0qDoacDdH8G2MXGBvOa6LhpGKon2Gjhks7sQyq\n",
              "Z4EybDsTwNSoh6nFvWTJ5MhQ/zSTDjsAb+5ClYld1yABtOXZ0stNyc9gUYBOvUSbrUVKCbBXuwxO\n",
              "1yyBaP4WnQZZ4N+VEE78EimhOWl+GTkp/dz5PHG0ekpy0jWEssxMlw6LHt6MalYDMQ2Y/PazGhsk\n",
              "Ag3FJv6DBaGumhpSpSFkayW9EU/dhSx9eaCEvSnCPMGTV/qDvV/69ToSA3XFaWDi2B5NX41B1of1\n",
              "kCWL3OMIMkOLzPXzbnKo5fLzDKEBz4OSnNQUuujGVhhCcYOuAjSVqTfaqlVmXfclJE/L5zBkdmbA\n",
              "Xi/2SPwzwChmw8Tz6Onup++baJmxK6RJRKaWuFnQNIY9J/OlmQqqqINwOQXsyoRs6+bNtn0ctjt5\n",
              "4tdepGQFsP6/t11yLqf2qYXHX64ZQf8+//8bRbtnbOMuOFLePHkqxXdfVQ+z1fnyWOOXau2amDRx\n",
              "nDBezk1inYdnSE6eO827NamGUOaTaBaijkg3hmi4NaOJmTahakJG5Ii886Dfk0YBqhX69ymuaqc+\n",
              "s8jD1t/arEU7Brl9UqRtwgA8/wA6nXZWXN2UWKGGNwFBumCGm+ZhSo6TSVbIrmKzdEcHMy/9Jkcr\n",
              "2h2lK5D3PjIFwFSI8gd4Lq1bg8Ij8eDbh8qM3azBGjow9HpI1Dqimejs2x8bT+m/BAfO4eJOJYES\n",
              "VeGiNfYRkZaBLElMZevnLRCfjv35//9QIf/1yy/2M3Wj8k5xW7nesebzq9GvadFVNX0QIxBLMIaR\n",
              "+e5Ck1b2fxSD0IetZcF8JYYsHoSk+3x3IySd9pp2w9JurfwjQR8MO6CLxcUGBTwyiF0RjAX1sYyE\n",
              "0GisWeCUQddj0p9UcS6DcEz4SWF1WbPAJrZtN9ll705I5JBhIf5dTSLQ9qZqKky4/eTC3BqVjhf+\n",
              "bBNlSQLfMU65Lw0emPAAO8HrSNkBdwABfCCZW2FZuVE8lo8FyxCsU5HB/EIiHPMoHho3pDgJ4hwx\n",
              "TdXmw1Y/HS8gBUovNYHmj4ZZARYIp/D/VfkmZIqCpC0Yd3/1cyCLTpG7OsvK7dmn+YEjQFly2dSi\n",
              "Ap4KBQLmSlF+yQT9ZKuQ/3mwfeXNmmHIYcHks8+8WUYwJ9RqbfqJMRDYGIopsgS5apA+uQJnNMan\n",
              "gBjYmwNSq27Gftdyehkd+5oC9bb1DG4fX9Eug9iFLXKhorcjxmfzv/25rEf7OHl9lCaZEB2GjCUE\n",
              "s2R43sbGh2FX/VGtGSXgCBy7B2lRnkw/1DGh4PEB6MlyrlN/jkEnssyz+YTWVIAk1DYo0IPIQhs6\n",
              "zIsPoExKj20tWva10nwJ+vxKpDntqvlI2aU7WO30t1XthuRFsegANt3B4NBhKjuCZstWVoBjWmw3\n",
              "XbIPyP/davVo5zxdDKYb9Pqsbg3yAIFjDXjZick85PhAm19NjvMrdJPu9AjFn3Nul761vfNhR3cm\n",
              "q2D68E3pn8bP9DYJLrPxBaqpcEZOssHkfjHBXHNyXmqeg0YXEp28NZDFKNiQu9v0TZCXUaJIGj8Z\n",
              "ah8KQpDHQ40wGIPigc50jILrXboo+4TtdQ2MTCJYeN938tmLrvTcczeM3jdUWN90NpQ5dERhSHKa\n",
              "f6PFSPHzCVzNXmg/7FKdhGokEBmKct3UAOigLan/Bsh1Kg8QBfJcyMcpCINhHrHsLx00S3XOpDd7\n",
              "IbWEPtXVqKZyMq2nmYuQmRK+rMqvZX34kYlJscxOEof2bbh2nOcgpdgayGLYGyz2VE88tMTyWX/U\n",
              "MeTmt4Z2LXNvRmTapeNH7ZortQ78/4v5sK2ZX8L8JXnj/kpiDxIk51RKTtfKPe80lNk5ni4PbucI\n",
              "cwtTajelTDS2QgHIIcpoapgJ8uTFlnWHBccr9Hq/z7KEZ41IgHpvi8cGBVwbe2P7OAoty/wC+uU6\n",
              "XQGwvSFse0ykOpaf48wE9qLeJUiIUJPbYlNNLSyotON4/jyBdTuqbdS/Mq0ZSt5BNpo7KvtZ6iSg\n",
              "1hoJUNEwAu85FGYthlC/VZytJHtxfhuoERZIvigbu//amXYcOwFvnDFGQ02uetllC9M1IQ4qeLI7\n",
              "rvhzxRTzIbJZXqcSIse7eWeVNxtAH5xeIH62//nNStcDqwVj+/G/jdQ/ZYUp28t6FVlu/S78L5we\n",
              "7SKE89ziTJBvuSmGje5wB7p/4ceaV3zZeM6rKCaoXltauWbzaAVO/xI48CUqqCyv8jIg4107+Jle\n",
              "uBsIObQBD3ws90d/LLNtOR0leT7YHfaT+H5CIef3dQgTyFfUG51g86DEs9Rj7Zsu45Jbr+L7A15U\n",
              "HBbXAHwJjK7VrOEpaPS9BchamsaiPTUa/jGRhe83bt3UfoSa9sULNGg263JqkRrlIwJQPQZVqtdu\n",
              "Ao+uptYAEZ7MccAccFxtAqPrHuU65tN4zHnFoUdgh8OwWW5At/WW3W8BYhpMEHinwFVKCzryg7cZ\n",
              "Y/91EtZ+a359utjv2ns/Uo1gI/1Z7UtzrGJPa/pu9YsitzGy8NySWjn5FdVcuruRZliQszyW3ZKj\n",
              "JcrX+mSmKXgPK3eWakdhImBxnGdZ4jtUdHXX+pvqDPT7wfucCS7NjDSFZ7VbefsI4WPQvUc+WwQF\n",
              "plqkedbuolV7zmk2BwnGdKzEfPzNxeWpuDCaCK8G9UL5xj2alpGeg+ccAWYbbN4T8OVdeGfJtWpO\n",
              "DST7TPKYIvesFjO96v3hVGfLZ4MAPBo/GtWEuLcYOgkf2+FK9L+j8y0c8nBTuaEC5jzW6nZc6uGY\n",
              "CiclfLmg+Zd/XeNKc2dPukMAHQKTq2gZfrBnump9m3C4puN1977g5/PjPV7wMaWFj6gA9Bv2TlIJ\n",
              "O5ZCHpuNMyjoMOzk1KP78VaPJb7CSqiJ/2CooDKMqZGD7rFx6CRHNQDCPjR602Q9S+Wu8P4cy8KG\n",
              "nYGdfxoHR/uDPted1HkYQw27Z1l7Lf/JvZNq5FP+iQPEndQKu4zlfKR6cgsq8TCzs2U2CNnlxN24\n",
              "Z1dr7hQDIs8B1ubOtlgQ5Q2xdpWna8od6oDAe2mAfqtj8M8E9szMCWpFVnB78npxq0Nvl9qjJACR\n",
              "I3Bg4gPNlIsXO/9/4z0t9Xa8Mmp9VR4L2bTqvtx1tei2G+KzOStBGrEnDdYAmT/MTQiuHhQ7HDjl\n",
              "UQBxRbzalpR/umJdeDBTxSgLcOuMHDJfEbLQrL/b6bOoYkc/6FOJmH0EfVnDeb+2HKzGy2pEKQ8M\n",
              "2fXEyB7LT9PHzccIG9G8Vi1ZsYHXt37aRkl8zKcAaKe0gnwMvHbwWQczybjI81Tv5iaRhlnuFAee\n",
              "obQA4VIIGrXGf3pjJouTez54HuwJVlOxoKNn6YCSwIfodckwHd7UgiJycGily8ovMIY7LzShvECx\n",
              "lU/RSmxqiQ4X5RgZssKlLByAHYRdFsZOSAjyR2zGe18XoJLGoFgobhMO+4FBHz/L8G6iXRnw9hEv\n",
              "grMqKpl3jMvIWqV1PtWUlX5oTkYMSwt2kUl8H1IoEfWNs4xyHLU3XmE8aDjJpUGg1Oz/zL/8HYt1\n",
              "R6YWsye+gO+8JlWJqx+bAy8796CR34+mZ8xAJZRvGb+KFqY4xtTndlJaZrGkhMO0NyYItpmF06WQ\n",
              "V99As79cJrueLZcnRiPv0ofb6Y8fHvNfZsc+uBAE7KzaYH/B9SWcJxuZ2GvC90xzhEY//7j+6MyS\n",
              "lgC7Ntm7mufLp7McXVwdKV6N8Pziy5ArMgAPTyBdOwQ9j41SvZXwWjfhgBW82CYMUShwI0pOaD/l\n",
              "q2dnbW41PE1/9n17yJPpEQooTa61x8ZhwdmSUawT9Cpfmv+nI+nmWNBohJzV9pPeOqx5DIKJZ5TZ\n",
              "bP097uCX3aU51vauLfNfG5Vj9sSp8nuZwu+Crsv5mwlJEs38iu7OgTQcdp4hoPekWo4mFlXF59cr\n",
              "bp21z97CkUEuSFCTXtD4lJJGaGL1AxaF8VFssMxFgOtX7Gg+DBzY+Y8GAGO4s3JdiXU5l1g3os05\n",
              "s14Y1PiingkQCyZtDpXWkGHFc1FKgQSUzpFSFfD0G7WdKV8T2a0rJDzc0aOi5nz5ldhcG9BO66+S\n",
              "y20oDjTsb14kFXXOwlQ4usAr2M/vbfcPi1Hz/vB8PUfEGEDeyjEK2e0W99GWmaRw4wrZqk7lllZB\n",
              "JFF615fa5KVJGEiSBk+dmo2LATxIScUyQzTtZ330z1RW/Q/uxNsVI1M04c8TJ1YryGnVmi9NHOss\n",
              "89MOHt62U7XRJ/UiZ6f+fHfoJuM98Buo4N1z7aCjUGXOBOxU6966uncezDctUGSkaHm5jlVIhiPi\n",
              "jl596E4nVvGxo++3+gamPrstjBzb7f/f/L9OMPZkapqpMf7BQF6o8a6tMxVw6xxLeDZITWTPZNYA\n",
              "td84snqQ3W+8AvMD3RjkL8g96r+TTJUsTVL19kKPg4HkaYfRXbtQz+sV3nR8eFDwK9/2nQYdgX1v\n",
              "gFZQ3ZMH5QTDkRgft33nAe3CW++q8/kHXds029jP2pY+i7IW0pDjgKuIJMYVW0n2tY1fyPGskkfO\n",
              "UkVe2NNbljBJEljpsFTNGgN3DlyiPQDuLjB3oGWpA36H/wYE+nxal1M3CQ2s6xXNgfXMzGxngZSs\n",
              "7kU0pDlYIQk+rGSiQaau483OVdYLRXUCIPb8SOPUNLbG2y4YQw2pS8mljFt3w5V5WuI1H5o+zH9Y\n",
              "N90MrS75Q8KZo0z/NA6VTsconGvMonGeswildc+AKr1LnbWvKGk9wrVcB1xfqeDeZjTBHJNK3ElF\n",
              "LHrkOSUhIpOACJO2+YIzhtmpYBiE1MidIEE9faBeYnmXbjAPtwawEHsrcC76jEnau4O79TQsR3tb\n",
              "1OAiehc60CVVaxsdOr/mH6wt87efDTZOGp+eY/gCH5teK6SdecAYxODYRODbDlPy3Bsy4MVAT9VD\n",
              "nbjRf5R39UqsXeFoML78OVlLEoHtfcxVmrcPHP7Xl7FyDKOGG0gFxXBXh1A9WhhubS/BICo7le5H\n",
              "px68LZoZqTE1+859LwAY8mL3SaBoBJnvjG+aB/M5OCRZ+OVWky8lEYXm/4+c4j8cbjMT3e6OAbq/\n",
              "O8CVh/2gsfGwEETj99kZrrl9GacUJEK2V4H0vF8334ij9Y1zHpqNM2O42tVxdbO+afd4O345Zvy+\n",
              "j6qypgCGP3vrZo6xOCOpzY8cQYa2XzN+3kaTCW4mY6MqcExpYU8PtIuiFf3ogEzWw/sxnoGDzd3G\n",
              "fFsP/+vUh7n+fimSEWae/mNoR0rnY6fGvVdbJuxfoSbWxTgt/E3Sa/dr+svBD5t0FSXnjHnp/7L/\n",
              "c4ycwviXChsKAOZqzUvuUkfAvdMoSomP16KxlwXqpIeYKk6mD+U6eZWWhcqq7QuFcocg/oxyxuW9\n",
              "auE5HOk6/NDmjxO1RQEWQlH4keYGPWcrOYPaS8oFfPjGyWmhYQe77ezRDb98hZ5srrKS2WyjWqal\n",
              "iCwJ6/s841G/27tltr1r5l0khNrpQUt1ZduGph37jzV+R1rxiS8mNIl/gvS8TLhFlBbif2XtLaQ1\n",
              "8//ggxG/IWJ3fxucbSUw8xpBN8B+6+63QUrvHPZr1ktrQeUbvEhFK1pE3NUX9zn7316yLbbjDd6c\n",
              "vW2FwQxL0Hqf7P4unU+7aOwlVO6QxpGQK2M3voJ99aKrE+6hei0r0LNVA/RY0oo4AeMql3t0mIJa\n",
              "bPQsRuo9CtBdLlUdTakgiEhMqvHeb6UnhFHDCttRQYNtnh+FX9VzA7N/5O5bMR9R58LGZ4YTmsBS\n",
              "uNJQc142s2KlEo1PM/gzwTFbBoCm/ptZskZDIxAYEj6sM+0IJDlsksXbSkT8Hgx34ZQvIpwpPCC8\n",
              "6FWWcGgoX+m91mea1CJIq5m007CW5jyBCLySOLLEKt+I3dgq45XYm2P+7ak36r0IAbk0Lc1Ki4sC\n",
              "5uBPHbZdO9nb2X+b+0jTI/1eLaDqTtYudqOsx+oIjYKMasaQlB28K1yC/Lk/2gXRIT/eSCzLbMQ+\n",
              "PVypcBnFUgavmphy6Ig+5pkbpgHXiBUu3IsliE7iFyqtm+tkvsHA1Fs/h+EinxYH42WfXbwu3GWu\n",
              "rmQjWehlc4RjaXQTEFdxsw6vQWwREmBfSfVf/m03T8EZ8BJHZu+PDn9qpHhwUFGpNVOQpqPNw8II\n",
              "2Y4kRKb3Pg+oWVhyh/dnX2kZgq6ZgzT4KRyk+PFKWobTiN9e3ZRfWs/H4ZvsndekzTzbG2dQKcTZ\n",
              "A8zDpReFYrzkWtV09DZXX/8eAfFVuKRFi8m9SbuVop1KuiXm7b4xHlF3z+Stf1MVu5uo0BKyPIw9\n",
              "VBen10zrKc1bT2NjUEMPxrJR5f52qRgnW/bnyg6P/VaY5R7YhSUjbS6Sv8wR2dTLs/W/PxqIFotV\n",
              "GyGqM48+DY1djTtKdAm5Fm8TPHOMtJxKu9/0KpTIasvk4COQtFykOFsplJYB2hClnwvMZTO0BhY9\n",
              "QhJqnPIf7SxZmuRsxb5cL/PrQHsiX8fpzlViDN7PgxkxW5h6JLFkB9KFIZIWVumRX4WHP903BDJp\n",
              "OzSfULmdppRjw01x606wXHMgMo7rUyO6Zm+CTV7i49lPRtCbPkEAepM2Qm5OvJt4CpsLLrxVb3Ub\n",
              "wL5hhHxRUvHkfVBKama+Xf6wl/VIeAtMGVZKOIuZ4P//1Fdh3ChQLG0EA71MM5iuJlXHDCSPdm93\n",
              "icu4dDfhjpB07zf//gfq55H7Oycd+njW8aNxBbqLtoYIhwBY1yt9Q/+BgCUQajKiCu23jdCsFs0q\n",
              "NXgoUFrwRrgIidqkIZGO7qyynyN7/3WASljdsRaoYnBhhFFm+EuDufTWRgQAH1oIvwQn+USiyisS\n",
              "xarcLEmWgR96X9gpH86OzavHdd+LLxc0VgO0i0aVAPjQeEejA/IbJuvKZTw49fmXutK1BnyFROlp\n",
              "67AhatCasHnGhDppONFZApoYVF+PR/PNzyV7K/kwaYlgpYutZ1IehFxvpb7UezqFLLehiGeElqGz\n",
              "HzmeFLj2EPbLyznF8px+fSe+wa55KNYJZw/CVpf9UW//+mthHIeEz7rWOkT6BMpblHZwCJlFoHyv\n",
              "xFYkYI/C9lPFQdhwY3PTh5xnUNeop21HRX7cM/HHOy9F4VgCG9+0cz+UiufXfB/nK0mWBy8KDup8\n",
              "wPB9L1auW+4Nk/iluSunbGe2rV6ZH+WpHbydONZq0nY3q5eufM6/Mp1HMGGC1859LTdl30cQves/\n",
              "9YLLSi1t4Hb1zBWxAFMXViDPLsEL3ACbH73bpbWvMflcXYKAAPDCWyC9bgBBr1T/q2tDgquTdLKB\n",
              "MsJMrrU8lRVRnRb+/7TDj1SCsa9JOFtuoHVHfD9a5QymHJKHuWQiocMU7hHrOtXNL+scUu3IB4N6\n",
              "5GzLm4y59UMNmdqTdw7QZT1lesSYOMTvHq6c9af8euO47J5pTMziN5w40XkP0ibozEtqxFGJdoe+\n",
              "6jXqrrcnTmnQEYNgiN1hdTwhWqAUALqmvDL9NG6Tb8IFjFHYf5l2vZq9kJwjSCCkPf9n36+I69Uj\n",
              "JPHzJpK+gSg5F4AXgCDnCjuTJHw9h0gr6jDyEohuR+gvmzruRI31jHGVAZFv4HFQYZqww4vzpld2\n",
              "fuuPNc2BgmMu/HgxVSWcf8SYpVuPHV4Wkxvz+ZeFB2278udqR97cRLvxZBYEvEGc828nMS6AwZPr\n",
              "duxVxzHBKYK9TDfnEeGZPirTAC2xAckWV+/WuRi+vbe8Jz5X0jdCOMJhwOQdCl7SA+E6E7DnaWMb\n",
              "cGbIDBAx0c0DWqmAb6QApx8lJlasOLMS9G/ZW5sVLU/6Ck/+cvzxAEgiMnMFA/Di0h9e6V3wQurQ\n",
              "gAAA8LAyCm4QrfgvPw08nUyiuKNOXKVtBshIg3RHWVhxa0sSR5dS88nm6fWeBo33K2jE98Z164TF\n",
              "Cxj6vCvo+MgNDJ26m+AXMkx9FM2wX217wdPs9l3MQqRIoGbbI8/xZYYsfQzql01IM299DwELanhq\n",
              "ajmvqW3Cidc3+xjISegCFRrM0+nFXH9GAuYal1+PLyJV3wm2G3FONaShnjCrbnp1zFv3ljapyw4O\n",
              "HoYcU9eKYtTC2rY6S4COv5jxaHjVMhz7sUVlybVBku8bD5T2l2ki8+NPtWhrc1MpSoI1+N4pGi9F\n",
              "KWmAiHv8WHsBjzXnV8poM5QjV7M2uJw2vOq+VqKXgCmtoDpfitrK2dCx8Ajc0EMvB4FrpE+NBuIU\n",
              "V5t9fx2zcA+z89duiL1XKccMtKVmcfLsp6fB8Rvf0uWl50CiMnByK6nTFrLctmYN9Fk7MJ5j+wRH\n",
              "OK5/J6ylHrHMRvVlvPUJYD7gGGN41NyU2EVygZrlS8NzcUJZQlvWHe5Zq5WjQnBK5RoHNGGbgkjh\n",
              "43uTkSpOvqeVtblxgUoziwtrx3sRBiC3L4zJNoWdpk8aL7yuvleB7DdES8qg8nOft6/NyvGcI/EX\n",
              "RCBY8CgtfACO1COG7g/ZGuiHJnjRmipK6d2agdIMFrzmlpeYjCViyncjsOZer3kXEu7nEBnrBl1c\n",
              "xychY8Sauje1VRyPdx0e/sGJ87zzx/j3zGaq5u5U3X9yniJ9EHWibl5GVo+HAAKfDNUWYhkRCmo3\n",
              "j3fP9STXjfMw2enwZmMrJbCETVS3qMo/KMGGASPIPEWIu6lZsblC1hVdaCRpNCJ/xDltRNFOxPnB\n",
              "vE8Laj9VCSa1bE3K0hbw3KcWPt24fAMLdB4DZmJ6hVY5flP7LrQ+B0LvaC3rc6G+te2mCdMFAX/i\n",
              "N7A07NfcwJimgMAAAwya2wAAEaxBmiRsQU/+1oywC54rxQCEqZE4s9uDX8jZG19JyLPbZjn+NFsY\n",
              "RJgqm/Fbz9eVyv7dKSlKbuD6SRKwmhOnFIG+OYo3X34UBBnya5gOjLfTmwzRbYkfHACx/bbHatlx\n",
              "idDhpetrlHbkFYtMaJnzd6lVa9Khm2jMVop+CPwNzMJJoNR1+sqCCkBltNnUhvCshywNBKAuan5v\n",
              "3muR+BgVGAbB38tTOhLQlCNejP2A8tEethXMbzZHcwcaz+KC0+72+/9gwqktyNnpSJ0D9qYgj65C\n",
              "qMMx0SL8p007vQBXa1FtXhfjtDsmM1rATe6U69XUbORjoEtXP6CV5PrbyWEoKSJwX//mDSSFuoNU\n",
              "VoaUj4qYl136v9kbubjd4KUPSO5/8cJi+awCfVDGJa8kVuyG2rP6pLUsDoUzqgPDvtHVPmyI7qEN\n",
              "s+jSfw1DMV/hj2xPpoglnbepa4akDzwx/FsxuNvyAmBiYNSVqG8a11Jq5F+NPE4wggapoR0axOF4\n",
              "lrbpYadeHQGeYGTbylZXgaymWnr0WbEtcuFJR+KAj7n0XfT8j+dg5ClQvWOGTjaKAiyJ2p/fFaNR\n",
              "MGiMcpMWnyRE2V3SqfZvW0VbdeUUrkmjwLF5ht3Q47UY9fhb0HXoUBoerANQ94QMoZAymg6k/ph9\n",
              "JnoqAlYMZKZ7YSAOcmufrDHyukqUCEcJi5wPz+MCOfwOq7Akwj9qK+dlAKUGcjwfP8bZZEhpMUs9\n",
              "O5BdTKrKrhzFicZss6Xb1MHkeWwXJxcmXQDFxAArKTda62EV51ouTIWPrbIzt55U0JwKo+HV3z4V\n",
              "0VI0VtL+NtQrDuuDJdVf+n+9m3/G264SuCpP56EZtprsSBYbB7yp7pv5NIx+wmOPzDzz+TeAhY7o\n",
              "MixTWB4+iI9UTy/xHTBkqabpScX8T+9mzWicFAXGEzNC+jnQypfWbHgHJWzyUTX6XeTBc+Adlu+N\n",
              "srgOJcrrnRuF2I5BaKJF5uXKQ+aAlO9YPETsoQY3v94V6IuAsbmnCromQehRJqmGf7QDRz2QWZgC\n",
              "tvyCVOFuh94NJurARGlNjf0KpmGjHsyfvOmeT/aQoaUEj4eExmGkVXdxRIV9d6OtxJrA8FcL46TZ\n",
              "42urkAmCp73hAy1Lfw6mLPv9BZxLyvAKJPuRGrZzV7oTJVc+Ez1ruOnnQj3W1WyEchkvhBIFR9ZZ\n",
              "859lWhsaJtzkxk9VcSMFk8u6f+jZEsklU3cFCWjeQEnX6ZFWp7ZZhXaDzU8m3t2hA22cMzfII3dm\n",
              "lHVlLyyJBKigHLu4gd/YyxlNr0xpY9ghRBMfQogSAI84JyyPVFwvs2TkJyqI76iJHIFWkTJgYhVV\n",
              "327T++QPq5rKfNBMAYqxLID2Jybf0KYXev/dhQk0hwkSfXcbjx2I/7nT7B9cO4zp7PZEE0SAxTso\n",
              "5A/fyd4OmOn8hVIDIzqD9esOAI44XVVSQRRR19jfWAPyxhJfgiNHO873Dyua8YnP9sx2yx7JYYnq\n",
              "nGopjH5srH2pXM/KknZCvXP3KJysElWpr5c08xGb0PxNUkAjWCNTGt6QlLc3gP9VVtfTFHlO3XE2\n",
              "IHYXYE0MtgonpuKMnfr1/uusHhTnrWG6tkoTL6hlXwzddCTQoA2o0yEVeTXSz8snGHEbhI8En7qc\n",
              "6dZrep3RKjQynKSAP65hsnVdoG/txUX3sRdpfpiP4fINlCF/MtYcqksG116N8nbadB4OIBCM05JT\n",
              "RQNSw/VJ9iWTi4PjD6dM85JNpiIamb+8AOh8lHqr9319T7ZTsf+MvFyuMGrplMt8r4vCltXUosGi\n",
              "d67nMtx8/G4wPhF1lcVnI/E5bsTnLHtJehwjbcXP4W3YZmz9Z0ut9rLc5pep6waRRo9Z+DEYREBC\n",
              "duwyN5lPqm1yLroQYOYJkG0AKtuT9lQrXlcjXt6HOBYVEpQhI30lrOTiJ+6/t7oV2K1aw2Czm75I\n",
              "LM1ne7g2npk/u1sQvdyBd5Y+7CHHuqQ3OEjZvsGNv21f39JlPZhZDiTLbyPSpT/Exiqtc+2rqiJE\n",
              "/6Hy0L3fG//xWpVzKlVJZc1XhvvvyoQBpDiyFtWbwrP5azhpQMQpcdn66dViEFyrCKY+2lFPCGHh\n",
              "PImx5zcb5WUzFd1srtMSa73198AOgRvA5SDb5oRjXkpeHUB+Xd2Es9tq9eu2wt3IICe78e7B1PxH\n",
              "aZ7F2CSiQT5/PbMW2qve7j+bT0t70YcJuh5HBFaENIUQjKXvkpq9ZIPml70pG2yucDdvg59zhsEO\n",
              "lmdi8leB1Rof1wru3tb0zhX7NSfZwomnPRvA6MniJQrFR6ItrY8+SnozVh1LG39UnTFLy+Ee8Rd2\n",
              "G8n4Us74Tq73olxbb0VVTILSoQAzSsyZ5r6YNsR8lQU8OTaTaMMNDicYEkLd6g2TiqRpQJwPMBix\n",
              "kea/yYVSznKz17vf7pSzpnA+ZBhHv3KQ9vllqf0RtpSlB/mZS+ELklKx3Tz5tYYKeLpZLAeEseDM\n",
              "4hoGW3cl5eXdPuOt2uhlw0xNTwcA/rER3Cy1NckKRj7J2Xg1Inb4Dl0G/jSYhZO9IyCfXa7CUiBt\n",
              "0ArRf7S6JV/I0Kw+SgPYYo/+DVSJkE4IN1gBPUXf4TEhgkfKK4wLJo/xUdiq1SjesXuGS98Ltv2G\n",
              "A1KWISXkxoIYJHAPU3H4KsLA333t9KZnxCKvoxsyIx+p79G+gBQs/479V50z6RdBFkStylXBvSRu\n",
              "Y//J100woBb7Xw8ibzy/4nbULWn5jeD2nn3j0LuqxPqxBKYswYTYxlYcoLgWczk0JcphkVa8AFI7\n",
              "KQ+VpfeAr2Z5OFGqabmboCM66ZLfEeDbWeeG4yiWoqQrxNsBRS/SoeCTrl7owX4t+358PJJoaGLY\n",
              "gCzp8PYPj8WhfwqEp23OIU8QImEi+hM4MNcFLol4b5dqWIvrdlft7mBfaYnYTTrkbP47Fqo2NVUf\n",
              "yB9bwOSuNNUoyeJwFEnRiv5Ywhe/zprCLkFBTTdSCFQUXV7uu/HsWUzn7lQliQIGjbvooRw8QCAr\n",
              "+rZJe+c8VyiduFZG9Db7FyaW7JsgincG7bLo49kkQiKf28xlfFLlsn3zoRrWs+D5J6R6pQXfavWB\n",
              "8gU0IKHNJIYTmYMcq4PH8y63ejWKLXNLiPGUv8oyFaYYgQ59iKr5/dm70Pm7ro5O1guRTGXs6ups\n",
              "Q9exYc6vctuZW3iKt7+MPHnV6R19vjWIEcZPY1LSmqNBVra0rrxFOa1I43yvnrnqHNfbl8UfhGAV\n",
              "MPuHKGrCp0Tc54lO+EN/PQLMZVlBUFzobnJ7axLS0pWbaFCSjmc9bxIpq/SW/C44avU+KCfpV/8N\n",
              "9bBABqLXhSlW/LOIVjo+DBWZfp9xzsabVLyiGA09C2BHtB16OLe7leAZi0MYjejT/71Zy0LEts5y\n",
              "8OcoNCjf8c7jagbr6zT3592cg33gAQG5ghEHoxGTW4gfIe2Kv6FED2A0OZ7PcI+nnlTIXO+S/5YB\n",
              "4/F1Py0RITmNaLGp7DGCPuG9vrZBllhoVmBOncOVm8vlM3hbLuRC2qz9Xq2dwKg5ti9pcEMO4M9H\n",
              "G9U8pnva8+5LoOgaWiCzHkse8i6+Z6zjsJBSbzc/N5EnnN0vlDEivUQll3lH50qwEiomWYuCAcLS\n",
              "zWVaKu3UrQe/S8Bf//2dfLn+qubpIJha22vuxOGrU0v/n7GUUZ3RD29ZgAcnBg1nnjxcWo5R8r0I\n",
              "jEWE9QTLuVUwtbfEwcbPSkI4X2g67svUrmO+nZrNfUMLHjKxKmJLjsbD5uFIKhEb1YQb8sIjqi/p\n",
              "m13qH18nCDMoSiGmZO1KE6ugtXwjsHH96t87iD6mIZAZHNPWmOqbEXYLZwEER57GBPB+4onWceit\n",
              "RaQLUg9zN7EOxhFZPE7rxyTdIVMV8J2mdRTLqJfGnRHQvkDh7Mf3Xlt/pogCGHXH/C5UY/a1GVWE\n",
              "liCJOjSp0YlAPxSY3ixejHYWH5B06L2xiHhI+RyUeq6amqmfgJZzeJvfrK4nphRj0W5jcc9HkJLt\n",
              "J3KEfKDg0wHHESEWL9U5S9562kouTszL2KQjSVOX8vItHlHj7z1VfzNEZS4sDtT993C6t0jG6idR\n",
              "Eb7fH8MkmEmRZNprjuBsyuM6m98dRoxJfith1dRN3Pcp+/Lw6tUWtQ1PfTSZZmBUkgQIu2RtIk3c\n",
              "SseX37pjX/uq4vYPH7Jqtfn8YlV9WRcPoBdKfp5irFibKl/5Vutvb4KESUPI9WgoLQOzfwW9Yt+/\n",
              "8WxVRAfYwT/pPuA+m1XqHQhpFmsDleNGrudFClxUBRjgoYN3ldizglz7EC/gwd3ZDgMOwAjQgKeK\n",
              "uwYU0/C6/p04o+T/y/DK4syfxigVXT8xi0jATpi6ckZusXyAwq0mU+gVo8S+JGlZvIF6cPid8sY9\n",
              "JKHsMXV0QucGNsX+gSqQiZPO4biT4AMF/fAazJkX+5NRcA20SByq0h4dB8p6sy6lSZbea3VTF4Ou\n",
              "URIFrZ4Fr3e2y8nUg7+1qra+706bbdVf+kzp+XTswLiCacWx2RN1Ejp5PkElfAORb20vLp7i8uzh\n",
              "56RICc9GE8fYGtDMY69ZoxqySDAtApluermvalq9EIEEinjehZ1hSgaUS3FzBjTThUfD0GJ+swHe\n",
              "ahodFR/7w2L8tDei4Taaheqsa/iAYPzKAGnpjaRBKWmPucBTf3YKLCN+htfZ2Y1cs+cZXHLsZJhG\n",
              "Ov7ksdeh+WaMr2pzKVhZMYxEW/HfRAKe3406Bkx9pMLk6AtnDDyh1AIgIvhhazuYfz/sQCrMgpFU\n",
              "cYQ0iwms+EFoApO6LhiT0Zzj3TiFgf4q0kf2Kzve75iFq+FLJWZOpyk3P3/gobsVN43oBTZfwTnG\n",
              "FCUMJoU/ivv5KI5aHzHT3pyhW6JT6wdHZQs4GlLYc4E5Z39Fgxeo/te35gNEvNf4kW+bPNyLTrwW\n",
              "nevgJZ1hXUY26/1BjlfSgEHKHtdbfOoqTFwLzLYbEMLYqRRHGG6nHoYg5DFMnWsxaJ8pFny8tAob\n",
              "mmETiGBYJXilYd48MQI2GztFmzAGwlKfzUEHzpltqXlyB8ahi+E1LnMEYpU/gjIqKJVKIowD3Dkk\n",
              "fa761khNLe0gOGmDLMjwUvVuWF9yhgflciZuycSDXq3r3goDM1CmlxKl+iIaKcsgYwNnvNisiPtF\n",
              "5a85kyVb4/30j5pRCUzRExZm6S/vMLQAD1F4TZFuwjOGdWIfjuPQYZFyb/KkOs0B8b8f99/6T+vI\n",
              "gfBQ1Hodr5NkwvQKo8IKvnCMckWdgdyrPObM9P7cH++cHVoB9htfeXxmeNVjKSKYy7Troo8eZCUJ\n",
              "aUsyASPLKMJydcZfBWzko7AOFdv6i2hdgt0N+O6mMHz7zJJkms10sfPmo79yb3+ad4PguLly8wSz\n",
              "ZCjMsoT1xrhLRsQmTbEmD8aV8cvpEUybuLyo5PE0gNhZIx0L5q29kWMg0hQ1VRs3d9Irk+MxEgbv\n",
              "px6IFzzONtnxcz+F3QB8QBaYdvK1I9j48ilZG/W5pXlKdmvPSbJ/VknO/rkXzXo2eHenW3C1FQUI\n",
              "vOMNWZ6RtHMDQu66P8c1bCL/qZziKUWYXTv7dQ7yN1S/jAdu5zxhqH2rtxwAyERAjp3b8qnqsRAP\n",
              "cbpyVXl4C8ndmxprSfODmOc7EMdcNmURRLIHGY6cRAOcKaffz6ms0Kc2BkGEvLPAcXAKh7KN/xer\n",
              "RZ7JErR4cjuztiei+FU/tFJys1oZKoXYXo9JWL4/CG/Cs23yvfgL9tWDf/d2+s08ZOjJKh2bkv5o\n",
              "oqUSZlWN0aFP2ZUtxw5drvxg0yPQlh7dMZwvAwfUBDrmDP8Cmj5a4nr/AN0MUwxUQBnxlFtHDhwt\n",
              "pZSP/OviqM/c2LUbiqAxmZhkxa3uOec+QSveejDorkXjRSJZlinbb/oHCnJUQ6qO68FKFu6npVqK\n",
              "q0URK/D2w1Q9SWtwl1qaR+PpchRzR8ID/TrTx+18qZn58CRR9yBWO61IyLbE5kXTAH3awnMw+I9S\n",
              "V7hIT2c9X+3V8JE85QNMraFBQmn3qqZsXl7A6jwQmHEKKIpY0hfOV3MAAAQ6QZ5CeIIfACeIf0mB\n",
              "gBuhLEOC50eF7BY/T8gFpSXumAX0SYyxh/7kT5MTQM1tOuTLW5qnNsM7UN9fEjJVFEaqmnv45txN\n",
              "22wmDI2R+kH//GglMFb83za61vjgvlD7032KFwxd9EHbC3vtXTtduF7UWwLmGKpKcEW6DmxhK5ru\n",
              "1PbIwTxtZ0kmgHk9XWx0y5i1iUfBLfs0w/bPj3zcBA34HhsG88DDHYUWOPrVuNjW4UxrwP5XB4oy\n",
              "ywyYUDcRvGMcXrv62V+Fb/zt8DvYWPPKEh0ZM7Sxs6Gmn29CsGOZYu+gr7KruUICn+rFxbibYDuR\n",
              "PXveQMKlbh8hBQ5aFOutDs4EYOJutAQitHITW/os0P/qQ93m9ooE/mvjTNZ662MlENZsOzFd2YXS\n",
              "brdwYGQLN5YDuz7+80RUmCiFuuulVTn7RUB9rsqZCqh/Z5u3zSUt6Dp0/Nb9TUFqTmJarws0oVdL\n",
              "D1uaXAxfUMVZxB4k9s2AQliTmjxs17kgKCGihlgiVakyMw95ibILOT6BMrudYbifNyiEGbMFLF+j\n",
              "KBhXgFnnvWviylo0Mddg39LFpMRNyhnoF6bMjfxNWxYfX86bBYgGbB4UmoN1pfZZIh60ecwdwUsi\n",
              "ijVEKh8bYAaaW3YkGc/ffE4S5bumbPBe6J//32f03K70zOVLJxU0pgBgLFx2sk0VfDi0em4VpN2n\n",
              "ZpBsOhyyWMyQ8eZVoGhKzVsqT6rth9wjabQ8y/upD+xnjPgDDeA+CI8O4r7NJN2R9gRHUeINJ0Z+\n",
              "KYRPyJ/cnABNgVo/gxm1UsPXsbgtsm2S+NmzesgGLWNnf4djrVjFQQFymQ0kCmWxhYyCJXC7VwHY\n",
              "YehALf/+NX58YRTjwYJT7iz4VfZlrIzOdEohd8LMDmQUnkyBw6cCBZP21sUae9/nyeWhmYBEysMw\n",
              "lRGfoX29E1plnC2rTYRfmy0bnlMZy664W/r1z6Tqx4uUNjL9CdoqvBDuEOiZyuGcc+SuJ3FNTPfa\n",
              "IMmKC9LqgnVERRbZiftdd/zpevZdjLOOAOOUm0BynT8f11qYolPWHhqqHqA0Q4wffUHbH5taTVPo\n",
              "div+yXx4amNNlMgFzoKHLaoWkH3dSa6gNylighmXtI8mHKS5w5KoTHNY3gf7kHj1Qv1iGANxIBQy\n",
              "57r4jqMJhCXD12i5RvS9aHGJOcMsQkGTbwa8kbzDoCtCY3/EimjToVi0OnTojaUq/J1VNvbNxL34\n",
              "FSeYjenJ6/2B7FG8AW9KjBy4icp3TIvA+hx9Yp7zxCp3RlFIp6SMsb8S80eGIsrUIkB/9ESmgTtl\n",
              "DNrcdDFMgecrDR4NH97FU8IvhjWxjuKfIAyEzDHfnAAJW6lTxdL/hp7K26aQ6bVsUNpG3JjSRCcs\n",
              "KepraWAs7aT814L3Puxv9X4j5vyV5L8WbA1jz+nI2z16UFBfns32U1wzCW0AAAOYAZ5hdEP/AFfF\n",
              "yHg26AEfYUv81ZSdqBHIy47LibmPNkSfJVNVU/PWfQ/FmRiN1yuNu+y4ZbQcPE6kRP2MigrJ8UCi\n",
              "A8kXeawowgCRpKr1lruFomBK6OTXaTHZpToak3/hPNaAbVfwSKxR01B7YzGxXk1cL1l3NR5MO3gO\n",
              "dUHxoggTmZTrxrTJXzUs7yxLw2aqu/XRSOzRnAa1aULNTnRkENGpneLAkM4Vf1F7CsYiR1Y9INCR\n",
              "o+3+nXgX1yz2shNedJWeYiItwIaEif5dfYgeIqxkFGRQ3Za1A/pIF0Ju3nxgd5w0jwoAD98US7DL\n",
              "e8CjNmrrDsgO9MEnW0dMT4e97rIsaKoYDytYwo9koLq4to4QFcXcCDlXvNALqBbEd9eYYZVMa/qT\n",
              "bfXseTB4q+j8nI8PBBCacjaOzdAkqy0Xr3YbnM5PaRJPYo40f7Hb9gZlVDwl+fvcncr/AhzUxRn+\n",
              "ZgdxcG/equRr3oUJiP3/TAeFB1o/p8QvG84lgIKGqtkqzpa8Zkz86SpVnHOriVsH2lPnLhcpOLjI\n",
              "thyEGyUvywbERzdvOg2mm6aVVYDh1bdWDiN5i4849wMj0VoH51e7ALv/xr48sGyZa7TohO7NYF3E\n",
              "xAb+rQ1ygpb33mt6knAl4318fxeYfvBrDGh6NNL3cIcyrd1bP/As1Pj1GIFdejVSu05oeWNvWTYT\n",
              "fsRsNRAs9aHV4BQPUr/UGmjY00Mqx9S9SPZLfnze73NyaXLeA7Hvv/i3jtBsUeZvVV/PHv6joivW\n",
              "iHyQFitAPXQhI+RD661Y9AfFThAkAp+r3oVDKE3MpC1GtHmRMHR8wpALGlsD1QEft+Q1+eH+nbY6\n",
              "jVEIqShE0Txw7AMmkVzNzTk66BbRykt27QDQv3j83AQAOUF94zv7eIp2MAjwgZ6ONThVn+p7cvAM\n",
              "xtD4AVY1hxuO1oX/7h+/IOBw8tH+GEYuxmaQg6ozzjQ5m7sZvMBQcXDFs6o3JchunAzqvkq2NE2q\n",
              "Mj7QpbEh1FqEuNMXZZnt3W3AtoaBSGjJ/4vTivQa/sMyDdvBy5UdaB0qQHBidvO+6UJIUqCdz2vy\n",
              "ohdUNhKsq4VvZbvkCWNH4IJhbTUBCC7ZDDXjL+JMilwsGIDgcAJ//ZU+z9KYXZaizd5ZpQDIaDt7\n",
              "lMQqKLK5X7Y9GJeWAhPLbVWySxM44z5NBDZVbWn7esCLVxcMhzWefImotiHtDaDzVQvaAG46AmIA\n",
              "AALyAZ5jakP/AFLp4V2cmgAulESif263FyDJ+5Zy/FVwmkWqrJqlMX6Vw0NMA3kDsB3fb0rLAo+6\n",
              "kyVo9O9xMtF0466HqCIIdhrAS04lg9FCdpUoiyTEz0J5N2dVhoMOqsPoiXRJXlIKY7BsvGERxRe8\n",
              "Na0J8j9gPthodUb2XaRiDqI0yBaKTVcvdpRAHWYK7CxYGhj9s0OYIDqYf27giOyHPvnQgGHcOB+4\n",
              "NdDfrAYFPbD4ATloYT2cRcjGbmXgmSAyxE7w69ZITW2sliWdDYM1//d7tP8V3YU+sH77uQiJ+jOx\n",
              "qJZpJkSw2O2UenNoh6MaAAwQynbtYpHQvWpDas4A4PSVzVMU1erXJYetrz2Ns4h3PfXZjVDbelVA\n",
              "AGuVRE1O7QujxSat6/XUZq/WLdHZaMSeTfTN/qTPbmbUJfOfKfxcyYTrEkOKfIbcFFetN1aUpS1h\n",
              "1HaposSOTcf/3EK8OTCcoo99BchGaVrUpRRmnZhshihsVkMls0Q0CfHP6d0/6p0dhUwmgt7z1D5n\n",
              "74wt0RWhsF8g9gWkeCVLjNen4C2bGWgZ9kt+jXIs26B1PyAbo/VH7TC6Oi1EBmGIYpnJxZiTRoxk\n",
              "6zJkeN307BcqYuilNmtpuAp68VMy5qqtqCJCZpIYZ45q9jj5rVfGXDD1Q2i3QPNDpRzuDrke5upF\n",
              "mHkR3HIJwotGEzzk+RSpMIheMIGP3oy+HA8vNZ/fFyS2vGsIoElSlsmPNMQpIyoXhycdjMwKr9x4\n",
              "Wu4ulXiJ0Y0NUf6HWDSI2eqKMsipucFzHiU9OQig7EbEiXGSZuAZbNDerWMoMUqPWQeg3MG3YlMI\n",
              "9WTCDsxw/ZfPyql+XTeB66r3ZC45uaNwd6KH/m81xh8c1C1IyMhdV/c6PYHNLQ5rD+DabGlZ623v\n",
              "gkrNhruWjlb2K/CGLSEns1erkqXNiMINoReRTfD4Ut/R58tl9zwEuMZB7MCCuJHqXLWZhDUirTCI\n",
              "QAlXekV4IKYgU0BmISsibwAABllBmmhJqEFomUwIKf/+1oywCjz85oANwiJwAN6UQQCuWBo+Zvqc\n",
              "+MVH4ZOBzWPgFA368/ILW/AEBT2QRKGVrocnXq0i4reWHdgf0VhoMArb3U0D34Oz0u4ep7RTnini\n",
              "jOz+gmdC790JfCRcBt1tpXIG8tdFb1SB0CKc/y1Nq+kpCHrNQjn//4F60ZsoW4Mqxx46fKJVLyrM\n",
              "iQGfN9iUQE2qGtZBHhbsSrJxuufFdXV6OzxZHNDn0+JfzTogUj8bzvys+iYPgIoA8WGUmGQsgqPx\n",
              "tD77Ok7UWGb9xMMbQ2vGIN7Lc0q6EmXtLcJIGqCaSxfMH0Xt+5ez1b6UbqikemNW8pEAPqWen3xC\n",
              "mo3tnN4vADpf9yJQRK1CSqp5ZPSxjWQHGzS4zHRvru0mW+a8M5Kq4DRUNsGXI5r63DgiHF+b0EL0\n",
              "v0jIAInubcK49ZlC1vqou3YFNHxEmIsJBu5IQGK3b83Xl4WzbIseuk6TFSddP4uCbBz0Q4zfDVEq\n",
              "2WCN6RZLoTOWmR3/UDNUHboMk4ZFFtbJfRLWdpo3KlqhNBIrFTetww6CzTXml70gJw3vfe1L9loq\n",
              "wC97HGckMyGzdYjB9L5wGc2IcjErvBMt0DbXVfDAmIcTdOL9vMzYiuI37uEqPxoCcbPTNpx9s+3P\n",
              "dPbe2+Fjp30pfQwVu/btNltuKH9LXLwlhfOsW5ZiBXRqiNTMmD4UruUIljzNb2s6sTE/P6Drj1so\n",
              "l8hD4MUBbOUINrDEUi9B6eXpmNa7RmZGOI3ZGpWG/aeCLrZ4yEzuq9N6cW8f9vNdfABbVwXpCKWJ\n",
              "KaQH5pLWpK2pHYnWX0z9I7OgR5gWgae4RaywKKk2Dm522dQNXd4bQ5v3Ph2C0QoihdXEkuSgHYvr\n",
              "ri0KK4LTOf5XoFuXZ66DTBrxuQRWazCoItIoH3q6dWVnGrGp3iK03+E6GY4CMKaaXtTOelyvlKNp\n",
              "3WCGEc9H33k/3AXEQZtN3R2M0Ibkj0ORJbdGXbDgWcgAsMuePIIkZXLQuS3rCAzSgnolnkh7MwCW\n",
              "5gwK3Ed9eSjOgvY90gVgIQNr4q2wy6j2WReHLTHw5Vgeto021t46TcfL80sg36FXQ3X8Ka/cwj6V\n",
              "/Zz8w1L2GBB9SMdPgJIn4B9AX2IwWzyn5i2u2+8y7Y+n62agO12zj35k/LepFdbYidXZc1tbxH30\n",
              "VkQPV3P3EB9saBiQCY0FiTRt9gLmftwQgZ1FB7wDHkLW40okI3o9rsltrJs8oGszWxcaKAH7EJC8\n",
              "ziKSYVQkSBw0QF0vlOyq3tmKgji1CZcSQQTPYxG684DMujXn5KHAVPUMy3t3A6naKi7tyf2dJ5k+\n",
              "8FBNHCL9gikAAIMgon5W8UVf7pferMh3z4yvPhCs6Ow7cmnqVW0ouyrNLflDhyniEXRIq2Ylo+Qa\n",
              "K/+BAMRGdi5tA1ZTD3u6sNtUoAOCcWfntCe88Lg8khQ8m5AYIRUx58yPNIXiTFOlNrmLOaT2Z8Ze\n",
              "DM0DW04rorS+n/kJz9fH/riWc2X3joAKfdG6Qu8uE255iLrGu7rxDvxiqRtjECim/ce4gE3yUERt\n",
              "CUNqWzyHXIGtLma3arXvYggT7iAyoaw4VDwJsQeNLo4LNBf0MRu06iVc1RZCWEkdrU/U5z2CfvG6\n",
              "JAA4o6+LEGim+aHmQoVba7KOjwWVqdrAuRYrikElG79+Vx2/m80gFdrfv4YrlMckprPax791ZOV+\n",
              "1uqJ81i/1XSwhhXab/xtCgLsKrxQBkJTPPdLnFnuHhxqpMs2gKxfNEHAfvtW0Rp3rNtwgnpcXKri\n",
              "SYXjxWXys+ec+xxOiCwXhE6numkKtgDYawoHsF0CJO8srrhkUqZnuxcTQG9bYkt5EiiLHMguAvYn\n",
              "E7cvOe98OaoC8me6p0TmaaENX3Mw0uyNLbq7zCqwHttdugN93/I/l7SvGIAjZvRleHNHup1sC5X9\n",
              "++/pMtT7qDSDXnReCmUNOLgTEOBtsmdxU/gCik1SYs7Z3e9w5s6ba9tVED0dpuRLAa5suY+T+RRn\n",
              "Du7eipDHAhEyjnbZuieKwYeHVeoaLWqTSAAQqYQwjyw6lqbvVu7BoECWPM3vQU+UjqzsitT/Ol4Y\n",
              "jYdDvcNspjim9G/c5DjN8X+c8QwdL5Qxumaxrl45f+bBY0dKbXEujj+kx9lG7gwDuwAAAhtBnoZF\n",
              "ESwQ/wAljbfAACaN5Kkbh2eHWTg6LkEL0O0Yjl3VY0gwdPpOYIU7zIMSx7e7ebuGkIK52Mm+qSg9\n",
              "U+gd/VbP++hgbGh6kmwwNcJd0go0mtl7NPWPEUjKR3jkdrgfiWZDBJcolDesf95kDDO3KjLiIYQx\n",
              "f57cHBr1+VY5bRdLlkdJWLzK9jknYR2g64EeeZM0HbNAVSAwlwlqfwsC+VjzR7LXnXQ8cZd11oo8\n",
              "sPrJk7Qc9AtjwGWO27tkI8hZR2NIWaIyg37C+f56b0LuIDnbzCKzZUEpLx+i4hUc+R/hfV6SPcKX\n",
              "o+ynBiAAM0VUOUY0rPm5NcYf4iPwkVbdsNSvauNGJfnPOyObx5RL4WE2Baz/qWsDAA2Ngnyd1wNk\n",
              "xCrwrQr3z7yx6k7QyKdegWArcVPMS/8v/+PjLBQS1e4Hooh/9KsPEurhSXmIvgfnLwhpVUOFBtDJ\n",
              "QvNbUzBWfuEJQKAVwJ8iYke6gmUppGUjPtJIvbtw8X5fKfHiPZ+ceaiW+cKkNRkkzMI0tg7Z7w3s\n",
              "5rul/FZJrw9udOzKAfC7MgLrRaJnrhKKgGwsjeETlvL5/gAFJPFYmg6rxHEPTD/bpBD4QX9ClS+y\n",
              "NGKS1gWvK6FwBmS33sohZyVyvCJAMsTlVs9tjpr/r9eebWmBbBcjxYReIW15Vg3XFohJuMj+izKt\n",
              "yMY3SrdJcDlGznW8no9BPaeHlxJG0QAAAb8BnqV0Q/8AUw8+mslABN0ZjuHZ/Z1gzKxB8ePsroQI\n",
              "/CqpB91+2QYUPtj2wq9lHdK55KQdFiceHx7paDMQOvmda0nAL43jyPklhlCLen6F20F1gydPR3OF\n",
              "hSvynZ70kB2K2mn4W7GDs5XDe/kCkHA1zTmPnUE9BWnc7MkRFv2FbLqtiGdEYdKuTMdBMs1NjG4P\n",
              "0+D1240Bsa/OUO+smY3IQy2SH7VolFsTc82ND6Wxhk7kd8mP3bbPACP9lxcCa8/mLca/vAyPLzG1\n",
              "6LIGbKIOflMPrXiHnM+COQWG0xwBP2TfW6xhF0XnJ0x+olS4MVE/ZFFaNmxnjZj1TzQvbZkqD2k3\n",
              "nBe9TRFBYh924INCFS8ZVw6xNj/wljwhn1uK4XE+CGTCflxTRz9BaPG4uzks6dksDTtABI9i4atq\n",
              "V6UJg6mCsShV9tsQeGoSc1iq6cY4SQcEeZfUBize/zFnY4X29DidGFdJ3ZvAHKEZM9m1F5BGkXkp\n",
              "GCezkBr1yZ8dP0vDPlqRn7tVDp8OZ2GUHMGeIE1+AV0JZq91CL5AHOFLfZsMh2tSMbY8WKVOenco\n",
              "mAivVtdXaLMcLfb//o7AkXEAAAGiAZ6nakP/AFL23S8a9AB+FG1aMDxmofK01VLTHKEwejYFyeqE\n",
              "e2pceSpZDfuBUvUCkKoLXmoqPFzxhe0CxaQUz9aQg6m0AO5+8/H6gP86ZEqrpsOUp3gKXRhP9YVQ\n",
              "QUGaHwYP2ehYy1oJCWF+1XiEUAJYxoETzInkNthqiiRX+1Rdp/m6d/F/ttQKrMYZFAOKYfuCfwgH\n",
              "omGPzyAfesa3sB4o8kA44Qjj2B06gSkemhnIYiRCLY/uxZ2zyxFQRLpA0FaO6c+i+Nkms5twMUY9\n",
              "tVOCqT+R3WZvVU7j64FkjA8fAo6Sm4oZnO/QTDZgtTrv1BWtxcmPuOziCnM3Lf6qt1H9z0lZ3Vgs\n",
              "uqKMqJ/m7XaxT71+M5TOZvFUBCb4p9Ak+k6+NH45Pw13RqBh3XWW9bEpPLeTdbmRim+q9pMMr3kz\n",
              "Hp+KP0fq7vbY0TVrBFEfSBFxT8VYKkrGpSR9fquGeSr1IDD+ssJFGot9Ld4wlWfVRfa0rS+3JPr4\n",
              "5RKSLIMMge9L7yeRTu6hdnDUjNoQA4mWF9yHFFWiZzz8rIGF5W4SsAAABKNBmqxJqEFsmUwIKf/+\n",
              "1oywDHYZBe4X43R9X/4ktO2gwA4U4NHzYdPVnjFnH4/MRjm0+A8n1DeEMeTCuPlKMKflFQbb+m67\n",
              "nYwopcF2y5QaNlep/ZcRW9svCz/jcVbjYion3/upqz+h40bYp+aw0mLE0HeeU3e3vSgcB7TA+IFD\n",
              "i6WB0zfh/VNG84wiLfqtCQ9UsZZfL1TLK5SKzYwSIYoXsVWBzsD7rhddo+VbHbpl5fNf37WEFcml\n",
              "28JUxwCkpzgSOY0VDwBD3hWIPw09T5uypGPCxtPrNl+6VD+9zCk7SjO14YOIRWh7tt7zCSBzZZb8\n",
              "9YCIwtOl81dCyPv2AR3QgfXxIB+nBMuV1Jaf/RnWp+IOyVNRNEZW6k2vzmx4pIGrgJxUCpHdtcSM\n",
              "SSfEfFmo0tZfvEjk2M3qzWAosyNaPEaQ4fJak/6/kj/3LPEg7UvbsBnnPmodnMoy4JPiEoWV73eq\n",
              "3oSoqbqGDE50lMw3Kylxz/N0oPEUHqmT/KApNGJndOqMcSZ/JPYoy0Jyv+wFrRZf9vOrq1ZLe4PX\n",
              "8jxuTrOTch7SeAV1xZL+5Hm1MqIrJfimaa+vcVZ7X2uugNPAjS0XtdoFXCCufymTC8YgknCXgHaK\n",
              "ci3IuwxXo+UmqybW00mjkqQ8p8yl/2guMLlHZIDjPaefJYK9GX5vncUWggS/LIqFRSweVH7JjpPF\n",
              "XWyniXfK34Iog2vaMwQcroALP/QhQT6R83a/JhgpaJvdKDpD3S4ZuOVfdAcSVYF2kYz5XmH1oPvv\n",
              "YGa0ieDD/FfTvpWXWIt64KFkrBY1ULlBM3rYkAjG117gXrmAJK1vGxUmgCVeiEr4DwSxGJTo/55V\n",
              "//4NDiBv4mdbiWYWSBp0PugOmRwJgEEj21lUhm2ZCiu0aslw7PU/7r9+bB9uxjon2NvGaf1VkTfn\n",
              "TiSPeW3YkRs87/ykv8n1QvWrZ+mdteZdKxdoM6ROLmFdDYZYFq5xR2OM2y4oSgktXDngragcY0Pt\n",
              "MOUVXIGrfxc3Oyvw+7iExrATE6lR4VBWxUR/JaAw3BlA9B+ccdRXos98m+m081lQOWgHThenhCUu\n",
              "D8N2LIgidqPLlJKijRb9Xy8Um8gq7uYtRJZpzcH3GufSE6HOrHlab99JFuX0E5A5flqdLGeeZF8G\n",
              "7mqpmnIhDuQcwKag4L2c5a+SBNap5u0aaMBaLrlHBeX13YSVSjm3dDEDueblUIjtoEZF26qngqpT\n",
              "cuoY+i8X9+ZyH3pRpUYrpjh0uOm6udegNe1SwRfZTJaWgfP0DqTiaD89bA6jxFTioIp4v/PB6GoF\n",
              "nrJN3zk8CgJcOhjHJ+GMy473xiuLyMD9bWqy0rXjReXUov15ubXi3ejVnb9PTeIhDcraOY6T6mta\n",
              "PLkX+EwIy2RIUWVPNf2lywZhagDswMRgS1xv8ACv0a2pn34x6VyqJStq/bA8YYFei1ANKlrU+LkA\n",
              "F2ncShNWrrm8yfMida2WyWfwHRkFle2cKQVcaSTMYLL61XKV+nA0VbFZQFzVOqiPoT5T1xcu916o\n",
              "i2T0zGtg4maZJmJzEx3kprhogpt+HgPXViNzLfqTKYhbeAAAAixBnspFFSwQ/wAotDpk8tlUv1UP\n",
              "8x1ACSj5KgZpKmIURbVO1UhO0Wh62Aj0uwMhaWQzgakjBYiliUZgopVXGv9DKdT/5uzwxStDEYQ6\n",
              "mJ6pp6kFdfiUZwIOGMddSWMH/OldEReNZIZz4sxlSDKxBcAhtgpxRbG7OxtihErTazQUV8tM2bF1\n",
              "/XHhGKK5gfqBJczPVkphFilRZpmCF8nPLDyRiE7w3EvqaJCcvKIHiQ9SC78pgY1evZzxy+9Hq+hf\n",
              "CoUkv6yRICKKCKrpHiCxC9UMACEviP7zoAYNQrA4IgP3dsJZpTFpnaw2cA6vVtr/yXdW1gtqbyc5\n",
              "ABGLOyzn4cv/JbdTBKw7qZZTJUEtH1QoTV7Chae6NX0OcUHnEAfibhFgnoXYJGWC7uX5Bvt3W766\n",
              "S7kQYk14E59JEEjwv2UhrLZ62lSZFhCXu28pq1wt/aMwkbcrJvCzjAWIw9LHt36LUTab25UN7Tm6\n",
              "2fpTy5CpwIoyDOSqOM5GlJZJ04gOsHrFOO8UeuxH/Ly/7eV/sT7TDh2BYV9fzaCttOWMFulEPeeP\n",
              "hjpMdtYSHd+IsE2hJKIbw22I7IQsrGJPcHfV5T2fjBUPwUFLR8goWaWAsZj3AD+7UglLRnPyiyN1\n",
              "BBzJmyCiTc54NbcwEhQ1jW84TH6EY/FMFsg3U9J86TV2cf2385BgBOs7Ip+vd+CWx4qmDjMBbYTg\n",
              "d3X1pEhd0XViVgl3r3PLKu16SVy28zyBAAABcwGe6XRD/wBaBbdECQbT4umh90AFrMbo81JSLOkt\n",
              "0/sjPKuC7V8p5i/VhTd9w/k6Wt5dJ4eejuBGs/Ym3isTOG5KunGIMlupvGMxyVHUt+ArL3+VArXd\n",
              "3DWOyifJr2LTpQ7a1bkqqGj8PxeoAFf/irvYUb817Fy+xiewhaU5v2ePVjkDI6eX+TG5P4/QpR5W\n",
              "4ZmJTBY89LK8QYrCue2NDuSh5xHS5E50Cz9HYkGnvyHEGEk+FIQxbfkr6SRaPcmH82upeIn29uGw\n",
              "+SaSYDcHjgcCESFM9o2y/M0VjU3fiY3or7x/MneEnyNrsLIFUSUHkNgi3HOfLzMC63UZL5uhdJQR\n",
              "Mo6XaLsArPVp7ht3fkV5HV9RI2HtcYx+jdMHFN44VGfC/ri485bWTv7y4mFk1+ZqS3lfgVI6PaC5\n",
              "GhxD0TIfZM8AZnHZNIyLa/pA9QZaMjBVHYUzfAHzQxoCED5L2ghSv2+uO0yWxNFsygPM+0KCJ5/A\n",
              "AAABkAGe62pD/wBQdukXcHoALSg5DsOzUr1pUyLvJ1FKzNh3leM+VLpCbzPiDI+Y901lPJj+HdcE\n",
              "1duRS/pTIVjJ6Enya2jsrfS27FRidxpeRgbhuFDlI79lpmRcc6+cT96+fzcMLExdBB3lVWY9AARA\n",
              "gpy8yLyUTFs5v6i5kmeJ0kl8yTip4o64v5pTKpZmDBDjGkBKkT7mhu2m7L9fVe2LoJe5XwgJ58rX\n",
              "J2nCgW0kpSx1rvr+xA07nxKchtrWhbB4gY+qr8bPshWLUG3jt2XJFul3qAMtZlzdSkOXB1iaz4QO\n",
              "Cv/0lqmlwkBvMKNG36z5S9t9JS9GqkUhw8INUonohizbGXAjLRgiEXc/mADr+VDFLg0sBHNaXKLK\n",
              "sUpYbACgwCDJlNyRotCxGMu6R4AfViMhko+UVyoCGrFwNIcfEOpbSF9h40vYZZDEd6J3FReXitMi\n",
              "CmdIo+e3vqZWv0hgV43Wh2G8e6eljgLoP9HWsmHBj02sq29LPaU3XpH7iPhye2/x6CTSAwoFAL4S\n",
              "PIzOyYAAAARSQZrwSahBbJlMCCn//taMsAmh8RfwABvThuXJVqG7OL/GjbqIj2lebnO06a74+6VE\n",
              "U+PHMcocMIrj+i/kuRdVYbQYpeQ6Q+8LUUcSnflDCiVxjj/H68o6qDPC585h1c79AM3jb+XFw5fm\n",
              "xekWNnEm3n38lYBDRXL2hSCwCuhFKKt8qh5aFI1roEqWFn4fKkjwJ93H4X5wwvWPFNYFcAmyGw3M\n",
              "n/xhg9OPS8M45MF60izKjvnXurQnrDrA2D2SCjn0Wbdv+nhgztsatbl4yb5Q4u+MaptR7NraomtU\n",
              "ucIp3jkKBhH6JbIsbvGyova2Nscf1rOjxlvb/gq7sEinJ0N7C2RDNOQPlqsUHZ013+aohZLp3Zc5\n",
              "XKI+QTFJ5YuK2ojKejIHWDOvtBl3jWo12MW+5fy0bvFdMzYlqHtR3nhU4V4RyIFH3BOu2Xnhx0QG\n",
              "C8cPiM71rBDB+A2fmZdg5DfbVRSHPfinWmL1NiZfq/kvikvjewQsKDcOQpgon2OslSCUPZbCIJF9\n",
              "4GHEep8RpPq2s5DjMmtkWVTBB6+cZUC4B8TnaI3Xtlzy0RPQsZY8Uow/nyjRz9xFrs/e12cYQ1cz\n",
              "8u9D3qiuE3SFl769UTIic/+EcDo1ov9k5xwa0s2hD39m99qSBKTNR1271dFxSOP2kRMAET+24In/\n",
              "c8f+ZSu9QbmmvwnegFgSlGm+NQdj0MZlKvXCi82A/mPyiZW5esmLEt0Q2csDz2gCr59YEY84M4AH\n",
              "2+OvwaUVZDH/wBzrEp6I7aMv8Dbu+e1p2zY+dSWZYQ8WvZdeKTtIrXYtcfZ0TP4oLakUGIXFh3UE\n",
              "XUMOvxbvI8JWtgK7alYvIIVLW8fJYbpJG/38Lrvpcj6GZHjyFaC9Qo+bwX6cPLJpYNxfnctJbCIK\n",
              "jwoeK1fACHE0lFFTJhULU6zaL2/F78nSOwxSxw8n87be1rhgwgJr2zXuhO5dRwgLGap4MNRqjRT7\n",
              "nubLE25PlGSq2wVGmT+Qor/fczkcL/wgICoP2az8K+CyXDgssZ52nlrbPL00Ro0t+Knldecram9o\n",
              "xJ3ndTzEqC1EJ3ilyUlYVV3ujJ8dzXPTnuZnVhmkb8YA4BvciqawMB5BBQ7YYA5eSUGHtgqgqxrN\n",
              "beodfsgJyaMQ2qIio6e7N68OXL8izddGsMN2KnqQcQ3FkOH6eXyc2Nj0fXx5nE1Kflxf9Qbu7+3/\n",
              "/GQPxo15p+3brvm6ltcVY0r9wbniSH7M7RqgzKzX/7brJfbDK0AmUWeVcKqbSL0llKdSayZisVIT\n",
              "zTTmlvlsomT02FdGZspw/6z4ql2WvVkgy3NeAOkAb45I0CTkq1ucwSsuppGHvf/kcO/i+3teMOaG\n",
              "ApIO0If5GURlS/mhbRbryrFQK0acFaUCCQVTkGJ98sGD+H86+UGqUdDKWvHwDoW6SdtNM4//HJma\n",
              "mv434hSgsWnLXRp/vKd5LheBmjKgg0gyBD1t/MwHHpEAAAHRQZ8ORRUsEP8AJKIMwAWHqI/PqSuv\n",
              "7gBRWMwF6tBLpfdUoSvw/zHMGZtx00su1Xm4dsKEdWmEWoL1L3flFA5xHIYLn618jdkqIB69hYkK\n",
              "eQSs1Ujzr7YjMfrlKvUxg22NQ5VIe/raMPY3upl4U0PV2g6Zf8Gii7rf6pVMnU8opV1kIZGLXcFn\n",
              "M3nKKdevk3jqqDyKIYtV4IMOwA7NiKmw+E2othwdM08UMVbbY37V6L3PdwEhEgGsK7nC0luR5jZk\n",
              "Gb/Sy8g4HpuLKQnApgZ5tKLeEoSnN/ZmMALrRJB6eNkx3VYWJBLE0FT5C9ZaXDxYONOpC0SleS4T\n",
              "+fpXxlstMH4aPK/LlFL2y+n859oW2yeWdTKU4une8F5Jk77FswotifB/uP0SZH8U1h37ikQ92tM8\n",
              "Ga97nyRsJ1dzSQOfS/3IsRSMG+rlzL5tLOyvPfLhNlaSzm1DVKNgSg+iZ/Wc65wX3GqLCzT6oqK+\n",
              "8JlawDyZGp/xCt/eYpYAdvVDsj35+Rx1QwPM7uMRKu75XIiJs53tyJn1cUVvqOWrW5Y/PDWw2+SJ\n",
              "X0/NI05gK2RbdUuz3IfzYQ16sgYZJNoq+L1sO6viloN4fQqE8D+ESMeyCLU/AAABrgGfLXRD/wBQ\n",
              "PufYgLenqAElESu8K5JVr+HtnPDSpcjFRQTXkMsJF/I02HTMU8DUnXnJdx5XU+1MiYvbGsG5by8i\n",
              "DkexPpFGp6WV/rWx0q9w67t9vALNxdtwS5vdF9DhO37JgmGW58CJ3oN9OTpjvWuW6jH213M3v/W+\n",
              "h2u9kiccyTthIq5olCQfbFlCUYnP/dUuqewJu4ItQuwulbscEZTOZVMH7z9AX58S59gwQxpsPmsZ\n",
              "kpQEcF0BGJcEISMw1hSotyarcZDfr2Ha3C34OLvJbHvttTx2O2nEimnryiLfvlepd6gkRu2mEtQc\n",
              "XdMpOwjjqgngiNfMzYTGhRLVmFU7e7HAbC1BcK3nc8vIrS7jwc11gUpCWAzDRMKmIvvxc+mS7hNb\n",
              "b/O6GUBlwnXzPuWEfaAdp0GOSPTl0VahjoGF4M1mdISViy7Ag2Oan7fNRj1IZOuwo+VfhCwE/Eln\n",
              "JnJVahIofBo94juxxDrrIWuHsmhD0X861j0TqVP7XkAAAYVvZ7fK694DHfTCjX4wD1Yte9axHvgP\n",
              "PSvijo1MU/xqxP/UqzNJ/mXLKhorV1sAAAF+AZ8vakP/AFDmBTefAB8Ydm7SuG/g9h77R4K7Ur+l\n",
              "Wu4wldb9GNIHLwkySLQZdSB7kOzJyrBunTM+qEGa5xzhor7E/0V2G/ddeF3GBwEWamAtH06hj41W\n",
              "WB9P2zUhhaC7tIq/0H7ZawVxpuf18/jW4S4eh5wEAEBSPdz1himzoHgYdsnUfuxrIksz54TWRVag\n",
              "+AdafCzyGgD6wYKQRmuHEpkcIn2m+cZ4Ju6KD1zVjHWRxJ8j8Uw+VbRi05W6Ss9FjBv9QYtQ+1Xb\n",
              "ZK+N2u/GU1hSr5BqoTAhYyhCCOsDr2PnnD1gGLz8SGBJs6Y40ia35+Ptxem6lYk5qbX6/L3Qxn2Z\n",
              "ToNNJ1quzspC4Lj8pgZ8e78UBZ+t/Ro6kYkxjpWuJmjGlwPEN/ntilxsu3EOL/e7NFdopy6hMIph\n",
              "ZbWIRWygG7qz1VBarZz3ysKsYVS8/B9QgW+CDaAUAiavWb2v5LJOQNInOsAjYGE3c+f9cIkUb9et\n",
              "ChWZZN+hJdH79wAABClBmzRJqEFsmUwIKf/+1oywClPC5J8gCPQyEuayHA9JNORtEO4Hg/XiIIz2\n",
              "NSfKkbrkYohYSe/bhxm5VCe55kh0qHuntR87dGNVJEZTSJV9lqj7a7PLi28gT+jNcKevRFxvyWoK\n",
              "NDAPkQkqUK8AVNtlzLDuMyWUIsWxRAO9xphfyO1L9Cp0af3S+Ed0+pZR4m8boDOHmtzszlQzEEWu\n",
              "LjcfvgU0BZkystTHXt5x3QOOAJxfFwRd/IUwl2YLNtGu9SCVrxfJKv/Ik/vWE8qTDc4AqkkGutd8\n",
              "g9CO0OX1yv0PExphVtcS1iJ384ZPVaLUdt4HD1MvnDo9iKAnlmrdNxpvLtcU8UWH+JMMD5MTXE2F\n",
              "hGGHUZK8UGy+xwunr+BL1Q1dINTDXXys2fx9EChAkjrNbd65ofEzp9OAwanPxvKWKZGDkWb6ZtY2\n",
              "3wDobkvlVYlTePIcWHh5o/09t/7KNBWDiaWW7YVPSxllW2IUeh+b2MVvIuItbQsfaWvn0X3+JoPY\n",
              "shAt8eHhs/CHUqn4CgMLf6wevgT5kmtHwDGml9nQmndkcGxTTLWF+MYTjILUBhEKY19LU7sMzg1F\n",
              "Pv6fFbkqkDuAI/b/RBhmUhee2ENjhimvWcpBiVGoVZOAZBPA8Jz0S4cZxLucO4ol/c8I9aqw8MPN\n",
              "aStNsSo4WJCLc3TZxGXQ+RbHr6qNWYlJe1yGa2aWzp3AIs3QOviJXuEFcIwDbqMFQKpnJ4jTbbWA\n",
              "7kv66fiWzt45JaCOwltRusS4kF8VRatLo4WrMb52W2mgEeCD9cbvw81izuHdNk5H96ajjc79MeSN\n",
              "jbq0wRq+JgWC+bbJstVC7Oco2+h67QJuXo/3M8t/KRKGFSLdvrkcair+N13fNwZMCvlspiQsuQmP\n",
              "kLH38f/ihH3Sg4g6r0s1rnJ5EHw1/dQ+Roc+N+XJadc8eFN6pcdCRqgAwLFFfNuq0EfeoRmQ5Yph\n",
              "23r9pYwXs0GwoEeUVhTyBVN4q0ck3+MQK1tuq8FLcIW5Ml0lvLZLMi41jCAQlKUNGg3XSDmkgpf/\n",
              "G/2E8q/3WnvudfcJSpRKPt6SGB3T3VS2Nt5qtXPfeUzJ4pQ4jkoWWnmJLCUSTl0FIlsX4caQXro9\n",
              "aYZn0BEO0nOz2GSqHCzpmSKTBPn5C4oyI7kozRuzQG6EIBJsQJM1/DBoPeejrOvMlGwWCgCpo/ia\n",
              "xX4PAxpJjB+r54vRuu7SEN4bzMxEd6ITxT+AGAm76TU1u0pvmcKQciM6ucFLml8c9Kj/150/bDOx\n",
              "4htDrjYELxGi7a7ZtgFN16vhl6DBEdJNuhj+TTNQDZmR9rHiv/zGfKA+fYScT9uykS+5dn2LW09D\n",
              "5isB74KONJirnaRiTvbK1niRpX4YYT3LB2P10ND4cCIqPMxJAvrA7UFmFeZYCFPykg4/VsAAAAJB\n",
              "QZ9SRRUsEP8AJYtrwlnEwA14zHEv0dl07QUipZsnWTRLGCRVDy0qoyXIGC+7PGj+dASTtwtoTFyR\n",
              "PzAwd8+3jZDpy94plHYpYqx4u0nMPR1PKtK0FWceyl4W/hCIeHSDAAD5AXl3bMtK58PzSWRQsUdE\n",
              "2IcBXTsVdk8yYIKh4/0UjqktEgvky3CrE/8z3BZiaS4SNJV5Z5ofadeQk/HAESUtpvqo/o7Ba0ZW\n",
              "+CO77OmjY7ctqZUVroduIemNCfCphF6CUCpX91sqSnjcRKBlhZe+XoRN2MQ4jlzfcwUdVJhCB7Wc\n",
              "knmLw1Drfr+EslBzERsAA1/plGcUKTA8Ej0Kukuidd5IinKoZPeJJJ7e32UZ06O7gyg/hhKMPcww\n",
              "f6n8am3bZ3BNjtUglvCwAMtH4NNOsthmjUWppnHiAszetgmoMiIWM9fhzqUmxpWWHIETVTJvsF2M\n",
              "xybIPWHUUVEdhQXKdGohGF2n/cHXGdo6mOhgPxpmtoX70yp8ErQPsGJRyLjRUW45Qqvo23AM23Na\n",
              "txAXCM884rgxK6HNdHu0kcVlEEurYmPNCbtlc9G3w7/T90EpWXuTnvgFH2eX7NAgBfZOLzy6g/5N\n",
              "XxcV4KXYop8wlcB288l//ezk4I6le1m8VIRXqE+RqKkyEW+QinSl8iTOIVQIC2aYjyJpeYod7tW0\n",
              "bAWgBdhciFWwssWnaTOoMaeSkabJDCXZr4VpYAYgH5qcFQVxn07jShBeNYPf6Nm6CVDY8xqH/24G\n",
              "ytUf4g6xwQAAAVABn3F0Q/8AUUcPgA+LqWPcTLVo4NRMQWGmXS76UlI27u8pxGqC+CnZMhbuSXXg\n",
              "3rd2bmVME9cEQ5aUuRmwKhCl9K0XWt0ffTU1sKfOVeEyNSTpuFm2owPBZ8GN3+0czgM1sjH+wV3n\n",
              "AXy3uv2QPcpbYmGXgC09I8NMZU8dhNlEhv2NMAAZYx8Wb+4sgoo2Nohd7aemWgzccWfPcV89dMTy\n",
              "6JF4MUDNqowtvvMpkqygm2x1qwxpx5OTC+KtvUzXrpf42s6Fzn/aOH+OffqPOdmarqhAJv9+rvA6\n",
              "REomK8GDo1l9CNg1QnAtyUhs1Ht5/v/6Qnp1EGq/nuFt/rfYqnonPS0AJiGBkQP0GUvkwQ2Gdkr7\n",
              "RxuIBqHFBOdYRUYhq2cFlMZ8uPd1fgDiEwev6ASgzNWy4FaswOAp0868gfYCk9udwcnJgJLn1zpQ\n",
              "LSKDbJ8AAAEqAZ9zakP/AFNJyGi/oAI3eDpayo1lstxPEfumX7vhk75bdwmOkOicdrsiy/4eQuhN\n",
              "JCDqkbdZ38k1xGPh0MsdLWD7jH0Jl9c91ZNHCaUT41pInQxwTlsW1aIlQTYTGUSBIZuj7uBCbNb1\n",
              "1RmOCKdqJU60/HSsCcDmrpp5D3BaneSTbHKtexAvI2D5HMIgdtPH6EHNKSAuucuGilc4aEHoExA3\n",
              "m00BEz6Kr261ZD38Z04UeR+N8TRHnRxjvdhRR8qGEKrDb8+NHuXjJqgS3zVRX3+4YIUj/XBM1IW/\n",
              "oEmg3AY6mrhJy4Ueb9Hzyy3g0G+WvSWijnOPmaWwWcGR7dsxSbyuXLZ/X6MvcjYRJyaSZN7YM/ZZ\n",
              "GTBB84pz7xDmVeA/3o8S6skcd7s5TgAAA4ZBm3hJqEFsmUwIKf/+1oywCaCrF2sACB9uGpUHLOgK\n",
              "W4y2raRyzfAgkrK6KhruCE9Mb9HdmlO+p7uuXNC/1lyTI3hNPfRk8NGbr7XYtHNSYptUYNKxHnDj\n",
              "qmjDqkSIyGORnj25lnNOsbIgV+LR08Yi8ifr6WfIvfQRqM+GRoOBQ4UyCHsB+gixnp6soA/9q8JZ\n",
              "P5gfjLVG/N1LcvnJGLAN2rAV6sDgr+BznaI2qRxQQ8Gv/13Nb2k4yHZq9lBEmHKkR3xl6hP14kFV\n",
              "KlLAhUacB5WjGTrQ3IjpN3fmtK4BnL0Gop3DdaY4L/B5xUuWeX/AwVFb4Tsau1ZpDgUNBroRlrWP\n",
              "/T2nQJ96L3t7tdxQBpsH918RtkueK31f1Kq/KI7bAMdHqrT8/YUIKVyCvrQXjAs+OQZ6eNCtnJZR\n",
              "pOr7PpNl/aH4QXlQtNLPwg3CtYWk1HFB2hNKzraECTnc2r+YOvlZX1uD1mifMfNeUY+SL71wj0bJ\n",
              "YFMFyYx0fPUDr//p+FYmYlDzCvAuELJmL9Q35AGcH8srJfur7mFd8rgEWkYl4xNmvwnb2vkDSjOu\n",
              "BPKOGB4qkSbkD0ocJz8rYksqvsZufAIvv+Zh1CypvOVKEqWpAAkuYrKwOXZyYmlkrGQRQ/Y5IHYo\n",
              "jBzW97zIw8nbeHhFye0lX6Qboe64QUhsSnzK/uPESrDO9vjPpf/u25J6ipwVdDIkfR9yZYB2o+ni\n",
              "hvqhF9+gB/vV/LARtFe2Ss55TVo+1Ui2RN7kEXtWHI7D4vw4BcPiANrnt3KEBDiVEYBTRAsQBsHi\n",
              "vozEhX+D9qAHIcJM0wrzsg20qjeEcZ427OOmp4iLt07zEe/yDsL8mWTNRtLYEPeUgsrSDvZBULiC\n",
              "BXGSKkbVibMQE7BhVVxPyHzPYtiHx+2ljKqoGwj21/+hCGMcrdBSbtdzTk3c1gtcD1Tr0MjS9rko\n",
              "6Ch1pHsko7B3QHc6fQkxf3cZTFxhZluoysgUW5bYqerxptWqA+k7iyjF2aYXW8mbBkVtZSMFqC8Y\n",
              "sOfo9wzmCZPkzhwc/WqA3YLAs+/EGjEuRsodLfAlMeSkBh6rTkCwFpcrDWS4E17/HfTUvAkQXgpm\n",
              "Oqv1i3N/PMvEi41cAUUEs9clPEhQvy72YE327DjFjWiBHPYyaD/yaYWbesRdVquCfDu/4mljTfG/\n",
              "nHdyeZ1t07voazlsxnSOIQAAAatBn5ZFFSwQ/wAkogzABbNZO3ZZ6XLZuzhVwweyuj4mJKEobw0P\n",
              "QUD6ybXaaGnrjBTUeWdBEoAkjcKSK9FkQOrqDMH1muA7oGXzy7/XnvaH/ACAmK0kOj9mrMJGZaW+\n",
              "TRQxmgDl0GLBQMJkS3Mv9yHHunonw3Yn4Z4eGChiXiztDxmduPTUj9DqwwQQxBND+zLh9B9byxAI\n",
              "QJeslwLMJSnG9uIHFKzpN8k8MdSaErTxpMlq05q+G58kylD0zsz8Ts2uGm0/V38BoZEKjZnjwNt2\n",
              "QrWiSXS2epL9UITHOBe6Q/fkgJtSZ2Cg/ZNbK75B9WOtAVtvXf/9+eOE5uJ2JZgCOp6ScHsZDDfI\n",
              "NK7BpT5QXSwwqkR7SS2lhPUt8CCfdm1EgYDUiWKrMfzLyQzPA5L/zVaYuzGWwlkBodJ9LWTTrSyJ\n",
              "IuRtwxFBMapQ7kcT3J2BcnHQf9U5iWM63YlR2HxJe/vHsQ1LIL/BtXp/Gw+MLaeeggaUKIYwZQZB\n",
              "aFpUibOLvXWAZ52FPmNQKtyPXSeHZEnKG0v1m9M+Y5JKI+gU56gILFl0dBFAi/ttAAABCAGftXRD\n",
              "/wBRB4wWgBI2Le2iz7VlOPiXRDna2QZDfA+2htupWozFBXJifcJIq0/OowWb8hdsVkvoqC5SYJyT\n",
              "LRUGWjEHj4E1n7qzehpVmQ4VxMTvlto+kPy73OO0CLN6JqBgPS8kp8AS9LmXOx82wgVOuqIMFzzJ\n",
              "Sb5GYYyBTiS+zvB2BHa06gqkeUJrZ8ezm0A1uHidjXyypI75WJC1myR1LVwQaX3HU3rhCp6jejKQ\n",
              "kzP5WGJH3FA9kZ35gwB7QkhF7cuEHKVYVZudvciNwGkC7VDr9ejWxY3NDed35kLHdVjnqKqJeF7V\n",
              "o/0tU0BUHXkEF81jAT7q6EMh/4Wu658lgQ67SuK1IQAAAQ8Bn7dqQ/8AUD7n2IC3p6gBJRErvCuS\n",
              "Va/h7Zzw0qXIxUUE15DLCRfyNNh0zFPA1J0pDHQ++CWEfbxwTEht4kT2Kub1hcWJcfwwXG1QFrlx\n",
              "lHQs7ng6xmZCWutzeYPFP657NUGBvKf15nqUaCGL//f6b9MqhS0aohw8vVm3shHGBvD5PiuIp546\n",
              "aT20k5C5Jtpj/cZcm5zvG2JipkuEvJyKZ3+ztGg/baqD4YHI64NTcqJIPk3xpVz3M/vqHJyi5XpS\n",
              "Ab6PxK7GiTXamNyPYm/vPhCw7l55B1ORWPjsLvrOUSd8KCbBFI5yzOEYS7KHHECWmhTiU4awIql5\n",
              "QV1ppiPpdIYMil+wctgieKrwTCWBAAAClUGbvEmoQWyZTAgp//7WjLAJoAQzFABrCpkMEh0NQcos\n",
              "m6VWaN+cVK41SvO6CLgw5OHUAXjj7Yv8SvyNLM+DprsXpW2IeHGMhtnFzJ8HU7vhTpphcqVptuG+\n",
              "l4tyZWTtRwuhWJrLesa5luwReG7Xp1CZG6abf+7kUEgoBuTo7MsUv9yS5VqLhz9p65DcxTqu9sWh\n",
              "eR+IUpDImruGDQ3bAo8PCH3K+N9SKD5ElFzcNNsRe1X9O/4z1j+zl1bYCy/SecGxYpZHdebveh4H\n",
              "nbmGMtgFAYWz4DIaGbouJj8Sz2NwaOoo8GU031zPzaW4W7K11YRSI3YBZPfD0NoiGbfeH1meXDZi\n",
              "4oWjP9TLQ42eFZyrW8si+poti3aaTim0oYiE38t+skVTb+r//rE8AJ+IZETW6WY1ppxzo9rluZNB\n",
              "SQT1WjeWi37pbx+UMLAZyuZJ13MRmx3t58UkBnIOsH/+0sp+W7GdnRFH3/2ISYsBXWtQaPzz82ia\n",
              "vP0Eag7Va6wLRoz4SRxWEQs9ZNRfVN0gzqq3PFO33SyTeJthAANu+Lfjnw9zoRi+Btv7nBtN/4Tt\n",
              "GGfkWSQNvjfaakt4ICzhi7+wAjqOIoDg6xR0hDHEyt+xgsc58deuXI15pAKV4Z23UjVU/j2tQplv\n",
              "W1DZysegIuglXxXjxAYCTbEqECe06rB5zmfICAF9Avy0UwLxhPxHcMAhR3EcvYOxKEHE4WfGfnR5\n",
              "TshHp5hlkuj4LmKAyVwRUu9RypDAoqHquh1ZPHCcZ2rTCuhBb7EggRNz0iIgxXcGHhGSj6U+4HIB\n",
              "vFBEsa5tZT6ebcd4/z++st3AafbVQTp3mTk6TNcIldJdIFeU+M2fysizI0YSFry2FZzi50KMg5Ib\n",
              "wVIAAAEqQZ/aRRUsEP8AJI1TLAAAl7T/Z65T8sFh+kzrMagTmb38YuvoghAdaBZNSaUNxb2ZxoTG\n",
              "w+HrWzwKPixyTb6ObQN8hUkK8M+aJv6dNRL9gbs9cWimuVTE6J7P6Khkngf859QhcnMKhyGcgHPY\n",
              "foGde+bma6s6wYrDwjHSxxZsJwPKXirM3tu5A9MVTyeHMswB3+KyZjfeVuxH7PNTPGf4RN43uCpl\n",
              "GiIJzWWs+AwD+ju2XWT3U8B2r+aL8YaQMyFL3Yr2CElQMMhAbl7Ddy6xY9tTiOtH6RW+ad5lMRch\n",
              "D2Gbjmn8UE9IpnGKwZRu9FfIGio+FanrF1YY9KVA+pdjpPU/XSmIGYYhkkN2VGN1tNO4WVYospWp\n",
              "E5QYsue+mbNN0FxSC4c/3xHtQQAAANMBn/l0Q/8AURGyh8AHxipjWl+TUSIn7u/Shvh0QwLj25+i\n",
              "BvrGv/3FVoAF8sjZHVRlILKF9HsiFQLmcw6OEeBj1Fh2O1sM85OVhI1AOYnQ5bo9MERIt4yCQFoc\n",
              "W+arRztttMTDPcPVikwkfdkeKxOZjBcTC38Rmi192TJv8JlxlJIZjCyPFghRj0hHX/mYl02dCO+C\n",
              "TB/+a9waEKjtl4SZSiqmP8xy2OH19ZI6A9cMiG0gzTgh3KnATF75YaAhZIvI8MogBOccH713rLHk\n",
              "ur414IN+AAAAtAGf+2pD/wBP90oLmgtAB5pJt05xA3PLs0+MDUd9yUqm+OtMsxugEOxMbjfJxWdy\n",
              "8m8+07SM23BLQDJ+5LPQvAVOjvaxhiOpAmv6x4TgWSuxidSg/4Hpqv98Jw2WvN4Peo++eY3w3Aac\n",
              "v7TLQLELGv4U8yzAyYTYRM/T177HSHdFLf8v+qJFmxHnng0BjEP+NCQApwrlcy0yPyUQ5cqhLfyq\n",
              "UZKJNua9sLofXpKZtB1PyqPQYwAAA4BBm+BJqEFsmUwIJ//+tSqAJsb25ABEKfNNBK4Wgb5+I1Py\n",
              "JmLqYT10Kug7vWqgBA9GviuQjLFnxe1Od0n+xXFqoq8rGLvDQqiiFVkhhHXVvHa/SFRZ/7aCCM+z\n",
              "IJ7ot2WKYGWoyr9L92vx9Ou86P5rKdpE75oJlp51GR0bBpkJ2UFKmkFXU40MxEIR7OP7EwOmiW+y\n",
              "HThAmAz7IcXAnQS0QBnecVbv7w47B0apSaFM6EIRLLpvKV//nexIDu25FYcRSFxyW9d2q88cpHOz\n",
              "WouvQ9z8oK4eDl8zOt076SBFPDl7+krKpAS1m3+3/S07qL34T9Hf48fAQcUjxs4mJ/aExojXZoQa\n",
              "Ei25spkBHbeDPGtFR33RnCeqN9JIWrWoKXmJktbGpra74SZ77Zqd4kyaXQtjpdj3x5Q7jvmnvAG3\n",
              "s6DANsbJLqFhxEaiGJ6A13SiwsINO0vd/hywK5xCqfnhMox3YCQPrG1nH+Y0ClSpJh06iyrsLhNd\n",
              "Le1gcXmaG9cCCJwdMU8qiVUDwRHqOWO0xwiWZ86lV0dbcbr/s6MaBW+TcsWhMmdR4ETLXjR0RR1g\n",
              "pHZ3Zzld3twD/RZ8W8yJ+mUchGsQI60jNbXHf/VEnx4Dz6CMNLv/LN9r75z1a3JhFIXwlLg3Pne0\n",
              "zG2Ia2o9KFn38nmWqDU1GHG+IHdgo9S4MzeAc2Yp1VV1jWHyaBa2DYj+eMxzjtB+5NZnvA5D2bB8\n",
              "ukk1p1OdAoB3JXNpArzN8efhFAzf+E2Mf98OzKEfRWCvXjhweQB+pE7bhE62Rf+cwz8kPFWykCt3\n",
              "4Pjfv398hDz4ZVJkwcu5Ia45P833Scv83HDWLSq2c2kzVF7kHoMIzDVxPTzmcBYDU3VrkhOZw7KD\n",
              "fQEIFwRUO3cVyZcoivUNK1dOyiCQp8Ou7u06jCoKm93K1GkWadCi1gWBT+zkvST4ZHYrKaypNeOJ\n",
              "KaVFyU5y6BRlF+DVepiBHCHTAuWOn1jyFuQ7aW81nQzzr7qHyWoWoWN75CCwSlkLpPaBMbgst2v4\n",
              "hPiFRDnUTuzUcGvB9lum1Ig+fGrIN4v90/Ivd555qdFXMtmH9FE5R7cNf6lupN9RbZ60dERA1sNj\n",
              "iX5DvoOl5OEdY1KWulQDlYWhz0g8El9jmf6ax9g9UzPFJPEydFxML6plVrmHZY6m6UZ8Lz/sFWxx\n",
              "TPsRXADKgQAAAWtBnh5FFSwQ/wAlfK1DLCP8mAFlZaasFdVGnYl3TPNz6GrT/ySfXlSeZ3cWwKWu\n",
              "R1RG2S3Pr1bygg3vHPdidYcKLWXjLFzpkhPa1FUh+0ZMfgT125opnUQUqx8FhbD1BujUiGn1kHyj\n",
              "1LzmMKCO7Cm7EgJn0N+CUdppp6ldJVNQf1Emucps9K69SBlF9WHJ8yicW7oidJcbBQGLuflGDfPf\n",
              "e4pCsdqotXV67OjVwNQx9E0LWGVTcEFXxi/ZAGqVzu6h0M5AkoEW5gcFz17HCqKUm83MzcDyJPtb\n",
              "CZF0vklozh3FsNuaRQJynDAzKmjosjXfsZ3Wex6zbTG5VsF+w+H8ErlNZFaPtAAldku7oLAAOb5i\n",
              "oHX+0FGsjrp8BxdqeBBchG1w0rC1lRLLV+uZe/wnPXBZRb1WG/9+I++tP/dUlYlgoSRrhrlgh3ZC\n",
              "l+Y46/H23wQ8qeiDQQ411hPnS4DishONw5khy2RN6oAAAAC/AZ49dEP/AFNFtDcf0AEkFs5jldvo\n",
              "WB6/L++Y8k1J7QPxpZI9i59iVEDf32Y/iLn+1XGmifnY3voXwz84+Kvr79UhnlvpR7FuTDCwWAGo\n",
              "JL3CCamKUhEHAg7MpgsmtPhxsVThJZtNlvavSfSyy+kXUTg4TQ4Q1QIwu7gI634VHDjliOtmVIn5\n",
              "ouFgZn2RNT5OlzY3DEKsWkMxI2lQ2JjKkuJ6/7Ov6s5t37QU8GeDSKZgCwgU8+rfPuFmmnOygCMA\n",
              "AADpAZ4/akP/AFDDDJZjgAsaDj/UEJZf1G21tXzywfGrW/8iRcFlXeEiyos03Z1AfhuukP+1XrrN\n",
              "r+Ln7RTurZse7zBQysvnhEyQfy1lNcHArdzDvhArccEF7eRxfbLoLFbKPS79ZU+bSAfMwgFos5de\n",
              "lfvVUf7KDVDW6B08boF6ABtXx5Dluf9/MMYv5OqSoUYdSc5bnus3XpxylRnJcM0ys//EZEGzvkcB\n",
              "qg2hKaEDOv4VpkVemulRswy/rGltnBknoyRBhUgz7NLCM1BmpnE4n9pmy1iSDQWRL8/HLNg2zDXc\n",
              "o1z3/ggnMkEAAAN9QZokSahBbJlMCCf//rUqgCSG7d/AAH6AbhzQrOrmjv6t2yb9Gh+cebBbxIi8\n",
              "spR23Iv6+X2SNXGnBB67W7raKfwfwftEeJMvTr0Gy5Uy0TdMUS3lHg3KtqSeYfyMQLqvqbPK5FtZ\n",
              "jOYIeM3RtM7dZTsygFyuVqwMa2PiGJn7eXhjF63G7OgLLfaQopo3QTS6yuAG5RCMJXq6WHcXr2oR\n",
              "XjEgsylwqqUOVcqYOSmL0IhzuAe4vd4wpB+gxWRf0R/U5Z9HNXb8x08QkZzmA0jn+BJZshpAbony\n",
              "Y1SymfAVk7RyL2pVeWCkkSkpN0WHxaJZU9tVuU6tykNpZdxtlIq4Bb+xAsUS5mFgdGBZ07wC2NZO\n",
              "PVwPRhxhCCPt6C0vFtX/Z0mueu6AJAZr4FVlaGV9P1aDu/LLqgsdt4hxSU1Vei+/8iWDJHpx4rRU\n",
              "8HICbjw885E7v67aEA/nNFQ2Em2ZRr0Vwlr4s5xgq16kFSoQSWS0y6cO2nxTr2Ppa7K+Xvjhyld/\n",
              "ICKH3ufM23SA/JRJBB4fwXY0QelbhRtwuMaY9g8g8CZTmGKgeq8x7+3uAkkVlEAyoHlQh4rPFhYf\n",
              "UbK17wskU+BIJVrv0WKMGRFj2qN38pL9zBGCC4yCZvj5+LZrM1jc1oNiYIQ06QG9cNbkZItWkOZl\n",
              "UzT3rxzXozRIpDxG3DJTlvT8zKftXGBtjE60jp1eXADb7g9RXsig+5ttBs4WgQfWKRqXC65KASsJ\n",
              "dJKHSL8I+DFPUcHNMExgmSS+/0gTmhl9oem6TWKkiYq3xnZHB3WfLZSws0cc13ko/oYQH2tjD+4i\n",
              "FoiDk5u39nifGTBrY4AlN8dXiMAjY7qfcxk5jJL8i53sgtANivfCUOjPEoBs3ubtkSwdVC0O/A3S\n",
              "WTgfiyCc8ORi3TVDdsZ2XcGXIuHr5Nj++u9OLUorDASzbtVh//gfiG6wTSwbX8bNdSYxWlOQd1SM\n",
              "wt1avFwVn06lGX+FqnUS8/Qnig4Now8ZRav5HLYUDFIYmkyvLuKi2HiVP5O8x+tkbwEviX8SmcDJ\n",
              "FQmjUjpdvBidMOwgqYZdJ/kMkHGtQ6RE17vy556FE4JA9uZhj5iwl5vEW3cmHB/OUMi8SxCG2HFG\n",
              "5J9OmI93G+AV4wH5EWu3bQVor/xivdjamj5cVoDg2PAbN9ifIpZDd+CPcCQ/IM5A0LgAAAHAQZ5C\n",
              "RRUsEP8AJIfYz+IAVSqAxgTheBVXb/H0oxgn+ePR1adc5OJ1GFsrkJkkL6bCnhL1UtRPT4Jihktd\n",
              "VksJzfLgIGGzSDCC9ipgiEpQKx7ukU2p37/jgDnOhnG02/YQvoBXrLZfVva1n7UBFmXjvYvGlM1f\n",
              "JZamZF3tMD6V3r66gXoueAaozdX/8H0kRYQF88RdNUcpD+RcxKWkotHbgzXjWr8eLF0BYAIWVqTe\n",
              "8wsVdpgyDiMTe7Xj02Ri+SmDV+LoXqogFBJJvxGWNDoo07l9kRQ0yEJE0NApfIUXxsjaFKmZf2um\n",
              "ufWSYdSLJ6QK8wvmuv3xwbRXPAwjhOCMGZPe3BYeZd/wFpSmpB5ZNWINqrX/00u1RjMJFBrfJNuG\n",
              "vffbmV8qcoUsSggw3jjLsE7baH0mVe27f+693qyvVud383OzDNRBm7SLT5fYP15gcjVxRVNCRUeY\n",
              "gKjZipOg+up6Y11DeAdd77MJauzRslwAhGPxmSEsJ5sU5NEyB+VOUrr6nhKG3s6qYoJv4NdhhQfY\n",
              "ID1ebvsRw2Q0m3Ge3HM4alIOfiPVPwquF7sbd41nNMceit+Wg9B29Om7yGqAWQAAAQgBnmF0Q/8A\n",
              "UD7n2IC3p6gBJRErvCuSVa/h7Zzw0qXIxUUE15DLCRfyNNh0zFPA1JzQUwrA7W2thUT5u58qojno\n",
              "RkB9/DqxoiUku211T8F0Mob47CD1Z3otr8k/j9gyQMsiyMA6KtFAwzt4qfFz99y3C5zh/u2Bckbb\n",
              "mOKcTLBbllMxlZ2eq3jjx5MD+P9GlgkGi7GQ/7VmKLUi148JgCTppCVDgpdRvMuycCUOVtI3GVbb\n",
              "mrkz2ZeFa4JwM1M9mMJ3nU2Zpu5RejS9t+BqFnx6vJRfIzuLAjKgvvAdE5SfD+oN+BWXvCADcRyq\n",
              "6u6Li8GFHGhDIX0ibJvRYpLelciQYipkEiCfH7AAAAErAZ5jakP/AFDmBTefAB8YqY1pavB+3ODa\n",
              "MPDGmK/teH5UuD5LBL18P6j/EbqHKKk4O1/HBwYCo93shLoh9Rr6QRxgCdWmPxVGUtS5d2nEKTUV\n",
              "bzbjo24YZ7sa+uX96c/8+99tppkfFec/DSfs2CBJDWqaODw+fPAw2Mmjvg1lQZuW4ywrhv/c3C4H\n",
              "hji3ATHx9NOLyXbNneVJ1rRpDvRC7aHOK38+/VBu6hURHzjc6N+CFVVJTKFMsXuSWp1ptTL6ybTV\n",
              "ojlNadTYtygiUCcSfOaHtrElCKVHyIXJ665lLyCOPOPB2YAFXxdUzFUEQyh+6XcLz2icsy+1JnVI\n",
              "lPBy341Jl2DnoIbF7d2MTNKK7GXxFLOPJ3i2cgNBu6Z0LxD+5LWAwMLSTfDX+O0AAAOpQZpoSahB\n",
              "bJlMCCf//rUqgCb4n/y1nBvZAAjA3FH8nDYotepsxp+qrhvHEqfrTDwJrLeTaGsaQ6tf1K0K4l9+\n",
              "UH+esUNTCfBwrNCKdFThIFwNHNyUbTFESa2ygixA20IbZzjNfsS2j316mgFunuCepLy4nRhpjRWv\n",
              "iqkkNSLi/14YIwg73hA2b+uX+yhUo+1OP9wTuzG1wqv+LFGEfq01+0UhpG9b4j6eNc5oG9dyfiL3\n",
              "skzckVNLTmS9mKmbQ48Ol1nij+nyXlzVuc9dtzSoCBhgx3hE+K5jrukY9uLvpRKzll278OgMsBMq\n",
              "ruPDmbleF+AIJnFiaew9890Ixm6cskw5Q4WrAcTtczRsgAn5xJ8BZto3bntyBuyOXmxaDUMTxHmG\n",
              "oCHkbngPIeH7MAjuCnQIeFcu27AIVvC+Hp4+CdjAsvLu4Gg8ke0L4xbCXSFI/Di4hydfSFs536tR\n",
              "O3c7dBWAxtLKtFpJbvxo1lKpihTbHtJUFks4kYMWUtKOAA5ND0r5d6wKpShjzJpudFWok4ggsp2U\n",
              "c36ai5+JVp4vh7W1IjvFAF3796nGubEROp3s9anSY/+KET2WHfCXxM0OWcHIoemwKfLpeL0g3VYn\n",
              "lNC5yP7+siDrDD3Anf2pLn5pMTJplSOEg2nSQLU5aiCAr8EngaSCwGla1U0k6+MWIfDVLnHwqanO\n",
              "C1ICXotlkUrtiuVJsTKqZwFMqB92HwGGuppsxV14itI32ZpqF8zrYmi/fB6r0lnHHnTS8DdIT8z8\n",
              "qhktIBWr62YTMAwIX8hYBK3ttKyyfkkAZeDOHA6Ic1iwJHziqx4uAsllqOEuWSqdFCfV6JwCGeV7\n",
              "ZpDvFxtH3v8nSSI6XcrQg//3KqmSz6Bcd1kPtFNTb+EaxWoyZ4zaKVuFC1rFeZdgEwp8+9rv5eLn\n",
              "NNlmzHOpw/329LE0fsrszLUNNdrgbezGioWTODdqI7UT0N1jTIsoclcIAQZwQ4raxSDS2roXviU/\n",
              "RvvNWIOkXTg19trnRB/OnhJ2fTVfqNuiwGbwoOilHyaV3DM3hF3xwOYNWXUyRaG3ylIU3il605U/\n",
              "ZIzlvvZwvjzFnVldBMLssEX/vU+VgLXmf011htSxRcSsTBL/8FeV30lbU6mNK0779KkYS8chTXMg\n",
              "04lCO15OqIuUWiGRXoJ0N/lMYcVh15wqC31fbbN5/xWXn/stOgXwJ1wkeZjs5rURqo5DBIZ4TbhQ\n",
              "LU6/CQGKQgGpYynQfcKSenxEwQAAAZ1BnoZFFSwQ/wAli2vCWcTADXwEM928Ty2g7oCOOIUh8SM1\n",
              "vvwESCzQPwfdxs3dwosSmsSwJVhJBuTpR8nlbmeImND4OnJU8sYlMy5n1k7uyc3aipFBqSMmw/NX\n",
              "YJb25m1cvdixaVpIos9aN9OSNW3+ZUENet5g/ytAy1iJpjm0TXonuUQLupvAwArFUV5Dic5YtV9z\n",
              "3rOPaYoqtW5WRfo79MRkAceGpohYP6WcvyzXlA452MhVncBK6gQUVMvf5hwkE/1s75lAksq2mlwK\n",
              "mRjUz3WGSHImATia6/uZgnHlxaiA2AbmYT8SPXr3LU93EegMss4s/+m3QTACrXx38/O4frbtilMm\n",
              "+cdslfPC++A3pWZCLSrCFOnDH4FnBeCHQbRFY+MRorbx9mgN+gLu9s0aOCSuaWHb+IulT1HpVT5v\n",
              "R+2KaGj4W8n/xw6ECKmUNmlo/2G8wMKdayOAPX+hNXqHy7wt5KqsmHfUCBt2EI7S4FkkddBDs1Dr\n",
              "4oQl6hk+Rm1gzadfi8lDJB1rWowfHyNYKnI1eAzV6vGuDHYrQQAAAVwBnqV0Q/8AUP9qup6ACaCi\n",
              "HfLfEOGLh9aLDwSnqMZZyidlPiigBMbJhIUrh3UNmS+G+/6hsqJ1NZ0mMlD9JrhO0eoIomCO9U0E\n",
              "8R0e1r6JiFxNR/R4evml+26uoZ0DMdFgwxrkfGAvICtKci3QeavyK0VxdZ0TWRzt672lkNtV8PK/\n",
              "JauA1hcVrTmSVKzNgdROAvAXnuJdDQeY9hvFndM3kHuZ0qw8QCp5NDeAdPegflbL1mRtPHaEvdOj\n",
              "GuZ0nOcuxX5mKD3b1d/Th4LF6ltLnIMmjuQmsYKffeLfFpnScdmD+wyFjW4aLwzYTKKTnxdk2hdR\n",
              "PLnOUof5FCxMWfzoMTpHl4b/ROBSECf2iomfAbDxArbtlLtBE+c4JE78o8iMdnWopySmBue0OJxJ\n",
              "AEC07XUfO5yc56lfopKAsBw10MbizneqJaN77n8+C9QOCT5rOs3GfZyrhtopue0AAAE4AZ6nakP/\n",
              "AFNKOqAC6iiObl2PLwDomkW339stxPCjc74QqdKvuK6BGiA7IwAYVt8oyOizQT+3LWPsfnYbDYgI\n",
              "Igx38XR/BXSzVGQj14s/OaoJ3/5kfvDEkEVUoaPuNkMPCOoYl0VAcB6/uSBcP1I6PeRW/2qRxZxx\n",
              "99FX2WiY5ZDqoSlTw3yEHKGSbLPrPAbABvQI/HgqKjWGY2dYDaahW+WxCSeecwyUzIXz2pw+V1zE\n",
              "rrBTAYH3Pe6yhYrMCsSxRY29UDPqeEI5we2K8XLX/CyX8rtSqF0aKe8dmTVQYADl3mFZei1/08cS\n",
              "h7QxNX0uqRVUUGG+5tgfqK+9WwreVM+GUgTxwq2BobL53D97bbETgrnhs7dgt0DGqDyOt+LNf/ar\n",
              "a6UKdiUZeUVpTHbZ8fDngtE5E20/AAAC9EGarEmoQWyZTAgl//61KoAmiizQAjLRr4/7W7YKrR5W\n",
              "LIziSstaoScFaUPkf5PlP/yZTELPEjE1P61vMNWPHUEk7IL5stHQS8G3Sf0rToM8JUI700zoYVdK\n",
              "FAaY4BW5o0QtBoZMkrPf1IQ8NV0dqxAtpa2gaEdyxuTTHVhhB31IxqfiR1jF8oxCxMrfxfrpCTqk\n",
              "w5VanzHdilI7IL4X6Z4+zhpZGNB11QDswPXFFZ5KDC2eCVsGVdsOLPZI6m6CkPVTmNDO8oVKncUg\n",
              "RoMU8qqmWzEBWhfPBJMy6puejhURJRdCfrK3Y7UVkGGcuMhpBSlYaWMihAkW1DwnHBwJtdhXBrYX\n",
              "zoqFS7N/bhyCrHN3w1/GLSNf6cBzMox6kJl8y7IdYHxIIO7O9/d0OxwsoySH5+/ciIFfeyViRY/Q\n",
              "uOZggguaBTaQRkG0WebE5XOAjVziPWLOBwD21oG74ueMLS2CTYwRVvTKgweXIJqtyF3fs95K+bZp\n",
              "G9m61ezGy1r+Ge9PAYjRt7fqhFcJLPxoFKG/YzED6hYShlwM1nmD29oPXrYv6yELobWXigJhNFiV\n",
              "Aecr+DQTIELBQw1Vepf4zj04p6zdlZRv7R4L2nr/rTOiY8qYZMLVWmrWLuNmh26DABh/xuoq6hek\n",
              "a1W8NowX/4yVdYMkg30AZciIIWJtMlgrkYb6OHc+zlJiWZiPJ317K/PluRsr32BWz/pJ7+8eO+Mg\n",
              "0eqUSQSe9NBC7/BQVJKOtT7P2/kl/zZmiLw2Qi2EaHPmnIjVEFw9e4qnC65fXFpVrw2419YxRIyM\n",
              "MtTI5kFcfBrVkGhk61cr56U3dkBSOhy3MRqAxGzmOAmZBU07vzOc3j1Lc4umCyGVN0la7SEibbYl\n",
              "s+0jfF134IfNStLaAPmjV0xCKOGOxIEosVy2fI6dROa9WIq7niZi7ijQkm4GNAAwt+Yh5pUXpuby\n",
              "dBzONMU+1iP4YiBaQXkohXqzK9MZ6Y/kcTdSsxIOQKFB8TU8zgA2YAAAAbpBnspFFSwQ/wAliHka\n",
              "JgBZtZO3ZZ6XLZuzjZIweyuj4mJKEobTNnMb/TR48kh4SbHKcU3qxYgWcprmcliVSm7Bb/3CX1s/\n",
              "cUiBKTp8dr9KlhSd1DE16jVq1PaMRKDNzzfr8zvkAf0pS8v26NCr5WLqoQnkU1CHvgGhWNw6OLAQ\n",
              "dLyZREEeuchLtLK3bsdV+TIPfN4sBmDfHSTZTtc7e8yqZTPwG+nJXv3LRNqECaTrxmwZxUM/Wi2P\n",
              "CPKOv147o3hecDh1s2XzCNNZ5WwBH0Ql5O924ITtQSTh/rMyeLVcaBhK8pXCCwADkcUDUt7S238O\n",
              "79XhXBjelqokXBSKoV5v22cX3MNAtBV+/PohqsTmKYq31G7hj4TvSPATtL5cc3ZBtRRRJBH173NV\n",
              "EqtSe9ugmlItD2tENa68H3Su+h7ZTsgbZcF/vSdh/7fFqZTTxrs0Lu1eMlCyVaSXvcj/0XoqusKg\n",
              "6YtD8y0lKI+Wbkz4N6W6KjuOtzSsP7I6cGEFzJqDphx72QYJVz1h9zY3yvxd8C3QyE7oB6nHL5eJ\n",
              "YqcLsGfCeL+9hiX4MXtIwONDqfrJgqFXU2QbjHRBAAABPwGe6XRD/wBTRbeV30AEjYt7V0Hevljh\n",
              "TTKd+/ErOacP2pVKyeCcTbKd1FHEl8f6f3xPs/b9QpZCgmLko4QLnEE2lQUdAIYkspvTDsM065rX\n",
              "dsNmViRsrw3n2P+gLfT7V3Q2lScUG74FYEbYvtOSBnBymZRE942J9h8hvzIUqXBMWQvpv0HuKI6U\n",
              "cazTsQYvcF+BgJxaCXDGMLzq4uPFoBTaz6Zn7jKRNMsUh705JxzzHO8QxnL1GgZ5+UifzQ5sg7od\n",
              "Cjyv+tWJxPnrdhfdXUo7RkY5rX3xV130h3F+xd/QWJxEpfYWIhkU6Yc+Dmlhj62cCAQwCOb669sq\n",
              "pUpIRsfDIUInSEY0xVXGga5lDfZ25GHO+dOaQNhogYm0VOIHBP1mv69qUHogkLK/IVTOPxCzsG6b\n",
              "NQ+EFAlYZ2hIZ0AAAAFGAZ7rakP/AFA+59iAt6eoASURK7wrklWv4o+Tw/E2ZaHILcpZtf38t6W1\n",
              "57rsk4T5va+92yAp6YZYQJP5U1U5/1/jQgY0j+RxqYiammRY+4AscblVVOqqOAoAkgSS/jyfLYS8\n",
              "AbrPfEFWfRP1FtiPBcrejmTExS3NfjuJ53Cx0OpYCUr89D02dqVr78xexp2nt5rzWct0Frz5n6E6\n",
              "BQRAlKaV09WWXPhWiI++m2hR5Cj+fzcBUDXFsI2/XJP3SSZoJZId5PJqiFxpdhGgNwzx1pARH9cQ\n",
              "CgfX68herr70PE2dEW3EjnG5MZK/j20ekBigCSfMwQNVhjeWDMH7bgYnYf4vc7fm8/MqbxEnHq9N\n",
              "o544XCQR6N8ueUYpitp4nObOZb/d2pvzqhiiR5e955wj5FjCkinL9iINgOazq1RHsUJM9eJv8UAA\n",
              "AAJZQZrwSahBbJlMCCH//qpVAEkFb6gACypc2oKbUm7cI/BunMtduWpIsJmPgzxz4IC0ZD2n4JAt\n",
              "UGP5hfmvMjea+IvItUTAYZ5gzp7kn995SjgXAnkkslaoovZgknl3LWj5JckwhlI6/L7v9pqTMzAN\n",
              "0K/Sa4ZSHJhJmA8uGtch9eQeKHiqvMMmWzq7000TSZS2W7h8vyYkK0s4PX7uWKjLksV7ZtdtohOh\n",
              "cCMV/eESe1IMU6JKIF3/6xqfYgXAqpEU/eAO98wXB3TwgdIfMW0y27t0rQCkGvBnCQRSvJfDFNP9\n",
              "7gc9Jy9TRC78/GRoUJwWVE+OqUz9+yCkytOSeo/YZBUAWutaffFQCgxhmGCwEv4m8xpTBZGy3wOz\n",
              "+GavXGgEMAp40t2GPdJtwH8gSLEbNjveNMM64bAFrN/oT68KcawBoRAqTyvzp0BMA+JBOXTxuKyy\n",
              "iCg3FmpF3bpYH/3jeP5y0QI1xFEzFXC04t6fvRKciNkfrpsKLSZh/pwuJUUS+kLNv8X9ehLnly0V\n",
              "kT6TnDP9i+LpDOJ/PNH2fA0SfxwOx87fxXFJfr9JdD5IKr1Si9N3aqejYDq8Lxw9hqm4fqs9M3yw\n",
              "L7CsRXMzVj+1sVj3GOphKbSfvevlnILLNFb0xyZ1WSMnXk2IK6ShhInDj9MRxMsWoLn3qIE/3s85\n",
              "s5Jyy4SVAa5GDSEtLf5/CeUoveuh3KeqUqZAJ55wy16SQw3acdhqHF7Xi5uZEfK7264Ief3WX9oA\n",
              "G4EvWSwD9i8ofawv3Dii2mnbfG5JKRp+4/eTG8g5UGeFZQAAAZdBnw5FFSwQ/wAkjVMt8AAk90FR\n",
              "xCeFem6nkkAthK3jB4RMJVSaF+eoQTvuhhMNZf/a+RCxnMY3yPgs9k28KQHWwv21BpX0OaDHkIoH\n",
              "tHVwOiwiP5aUz3D9eHPGzp96TOsTBMZCWWGyyCxzbgceGyJG6VVbJoZ1uRSNmP8eNRDH64EIuLHr\n",
              "CPo6ygsU2oVc2b1iCciizxDOLWaQJ8cJxqjG8dW7ZuzcVvO8QGilw7+9BSa5bf2HrWLOkwXw4780\n",
              "lF2YcNghy+ARpCaVpdzI6HTqJMj0lkfnx/xbThu3t4LiUpuoRMLdboJ9ZTDm3ES01oBwb8hhoakm\n",
              "NvA7NaimGwFBLsBcilYomRiRF+7IK94no4m3TZE+lFBNPh+SFl59JB159/6LHzRk+Mk9iGC1pSZY\n",
              "bmagU4meXoGk7dwg7DS48jg9/IIvvPwxw7v8ZBPd629esPukKjieKwxY8lOYvtu/eHPpeOELFkX/\n",
              "lAk7+g+rBx8s3dHJ4Hw/5xc8m1ZJdWIH7EG/N/6OcpgkPfyxmj4eJIl88gYcoQAAAVcBny10Q/8A\n",
              "UNv+DQcAEuYSu5n2L8l3qp1Lo4j6EjDmQCXFOlrPhTnYJZ4ZYbDmJSlZ4R3l91jpT4RG7/GwRDwb\n",
              "7xiLR9Qr9VOVojoERXEjnS2wl+vzr+iuCkTlE2UiL/LrzakUSrDam0TR7U5WwJgvTRC7ah90UDmU\n",
              "nVSgZhtoDPR3MulmlGXzrhqBn4Nr5jcYWFem/GS1RxvgyjrCx6OXyEaEmEyRPZ5vXoQWxGhryFjp\n",
              "z7LEBcNwateel6h4R5U4kFd6R7SsW5aAlw1gzNz8sGCpu99nfCtyfmSN2EADcfT6Zvn4Jy5uhQ6o\n",
              "OnKWM5wsGdKJYmZHjCfQBObRzcfd8ca/MmZCs0yE+dSi3lgqianEqX1PnRn4nWWey+nWhLtgWw3I\n",
              "nq1LS6VDLd5ojVlwLMcsbCut4At0M5wuRlgPiGFFXmEE9uzGs5F5Ps50qrAg7jsQuuwhAAABSAGf\n",
              "L2pD/wBQmDGrx1aADzSTbpziBQLdk4xgEI6nw0UpH0rR4OEFGtZ3Yira3HnALhMjCvi1XTpdIcqn\n",
              "IG5fB33AnJkYqxj3UB+L/RIvPp51cG9TaDa8dUCe6APQtlEWokoa1/Xnr9mSxqt/GfIGCcj2ILJE\n",
              "7I60GwuNoBcCVW45NG4QmOKLbzVi2vxka1SaHRUmdTJGSWhiHc/eeuDIGKg/EiL/z8Jr+IOm4sAD\n",
              "ay8uhu9u4ZwH3OP8Pxw66LI+aGeUN3zpcJiGAeZQvL8WmyKHepk3QVmkm8MPSQ+8N5rjKlrNIhUQ\n",
              "iCKx2dgvrheP4SS4DIjAdbFGMDLDVf7hXnOrc4EhYRoSQwfLBisaHaZYYVYiBTDtlGH079RkVpTu\n",
              "Gi9Br2AM1AVEUBiBcPKfneCPUghwVWnVOd5iYYAFmOsC13jay8+JXEAAAAHMQZsxSahBbJlMCH//\n",
              "/qmWASfC38gr4IyMACclCV03Mv04hICLRv3OnAdyTSqfO1TuN/krwb6XeoJZQxEPZkgq0cGk+1HX\n",
              "9oxyO0uNE4n7MAsi1rjKtlv8zJQGD6b6bsQTvSqMcVzz1ArgWR3vJ7dMS5kAKtUE2nPtdPTt2ddh\n",
              "hMp8Oy6V9BwoFhGnbyemWmql+IrPbIhqYDfo/jee+ywvOHa1aJOwV7K4sKgpABp6ck/UuqOrweKY\n",
              "YA2XejwPursH9q1rJzu7rpnjSiJ6E5lrsSjezfihpIkGWUbSUlFpor2Ka9+M35RQ4DYBWSfne+wh\n",
              "KPiEI+vSaUYEcr6pjSND2uKGPEYu++A9CUq2uWINYfH7UvhRv0qzK3T4M3uH6VwBUE2B9q16xc/k\n",
              "vRDLnfafjA3WjYIOMEFCE0+Tmu4nBIKjQ6MdAf8Srb84RZ1OioMHzZqIUZiz6j8MuuBf7L7kpBCe\n",
              "34CCOmP6yAPsgEqU8SZd9IDjLvkwpw86o2pu4KP82S8YkVqp7vHEkjSnhZkbHLjwZxkvBi+giAMQ\n",
              "GUbUY4yehbEHNNtu+txZIvymTpGI1XnBNXfXzH6lshX8UppjvmnCEU8As5u7EECygAAABYdtb292\n",
              "AAAAbG12aGQAAAAAAAAAAAAAAAAAAAPoAAAnEAABAAABAAAAAAAAAAAAAAAAAQAAAAAAAAAAAAAA\n",
              "AAAAAAEAAAAAAAAAAAAAAAAAAEAAAAAAAAAAAAAAAAAAAAAAAAAAAAAAAAAAAAAAAAACAAAEsXRy\n",
              "YWsAAABcdGtoZAAAAAMAAAAAAAAAAAAAAAEAAAAAAAAnEAAAAAAAAAAAAAAAAAAAAAAAAQAAAAAA\n",
              "AAAAAAAAAAAAAAEAAAAAAAAAAAAAAAAAAEAAAAACQAAAAWgAAAAAACRlZHRzAAAAHGVsc3QAAAAA\n",
              "AAAAAQAAJxAAABAAAAEAAAAABCltZGlhAAAAIG1kaGQAAAAAAAAAAAAAAAAAACgAAAGQAFXEAAAA\n",
              "AAAtaGRscgAAAAAAAAAAdmlkZQAAAAAAAAAAAAAAAFZpZGVvSGFuZGxlcgAAAAPUbWluZgAAABR2\n",
              "bWhkAAAAAQAAAAAAAAAAAAAAJGRpbmYAAAAcZHJlZgAAAAAAAAABAAAADHVybCAAAAABAAADlHN0\n",
              "YmwAAAC0c3RzZAAAAAAAAAABAAAApGF2YzEAAAAAAAAAAQAAAAAAAAAAAAAAAAAAAAACQAFoAEgA\n",
              "AABIAAAAAAAAAAEAAAAAAAAAAAAAAAAAAAAAAAAAAAAAAAAAAAAAAAAAAAAY//8AAAAyYXZjQwFk\n",
              "ABb/4QAZZ2QAFqzZQJAv+WEAAAMAAQAAAwAKDxYtlgEABmjr48siwAAAABx1dWlka2hA8l8kT8W6\n",
              "OaUbzwMj8wAAAAAAAAAYc3R0cwAAAAAAAAABAAAAMgAACAAAAAAUc3RzcwAAAAAAAAABAAAAAQAA\n",
              "AaBjdHRzAAAAAAAAADIAAAABAAAQAAAAAAEAACgAAAAAAQAAEAAAAAABAAAAAAAAAAEAAAgAAAAA\n",
              "AQAAKAAAAAABAAAQAAAAAAEAAAAAAAAAAQAACAAAAAABAAAoAAAAAAEAABAAAAAAAQAAAAAAAAAB\n",
              "AAAIAAAAAAEAACgAAAAAAQAAEAAAAAABAAAAAAAAAAEAAAgAAAAAAQAAKAAAAAABAAAQAAAAAAEA\n",
              "AAAAAAAAAQAACAAAAAABAAAoAAAAAAEAABAAAAAAAQAAAAAAAAABAAAIAAAAAAEAACgAAAAAAQAA\n",
              "EAAAAAABAAAAAAAAAAEAAAgAAAAAAQAAKAAAAAABAAAQAAAAAAEAAAAAAAAAAQAACAAAAAABAAAo\n",
              "AAAAAAEAABAAAAAAAQAAAAAAAAABAAAIAAAAAAEAACgAAAAAAQAAEAAAAAABAAAAAAAAAAEAAAgA\n",
              "AAAAAQAAKAAAAAABAAAQAAAAAAEAAAAAAAAAAQAACAAAAAABAAAoAAAAAAEAABAAAAAAAQAAAAAA\n",
              "AAABAAAIAAAAAAEAABAAAAAAHHN0c2MAAAAAAAAAAQAAAAEAAAAyAAAAAQAAANxzdHN6AAAAAAAA\n",
              "AAAAAAAyAAA5jwAAEbAAAAQ+AAADnAAAAvYAAAZdAAACHwAAAcMAAAGmAAAEpwAAAjAAAAF3AAAB\n",
              "lAAABFYAAAHVAAABsgAAAYIAAAQtAAACRQAAAVQAAAEuAAADigAAAa8AAAEMAAABEwAAApkAAAEu\n",
              "AAAA1wAAALgAAAOEAAABbwAAAMMAAADtAAADgQAAAcQAAAEMAAABLwAAA60AAAGhAAABYAAAATwA\n",
              "AAL4AAABvgAAAUMAAAFKAAACXQAAAZsAAAFbAAABTAAAAdAAAAAUc3RjbwAAAAAAAAABAAAALAAA\n",
              "AGJ1ZHRhAAAAWm1ldGEAAAAAAAAAIWhkbHIAAAAAAAAAAG1kaXJhcHBsAAAAAAAAAAAAAAAALWls\n",
              "c3QAAAAlqXRvbwAAAB1kYXRhAAAAAQAAAABMYXZmNTcuODMuMTAw\n",
              "\">\n",
              "  Your browser does not support the video tag.\n",
              "</video>"
            ]
          },
          "metadata": {},
          "execution_count": 75
        }
      ],
      "source": [
        "fig = plt.figure(figsize=(8, 5))\n",
        "ax = fig.add_subplot(111, autoscale_on=False)\n",
        "\n",
        "def plot(i, axes = [0.5, 7, 0, 2.8], label=\"Iris Versicolor\"):\n",
        "    ax.clear()\n",
        "    w = model.ws[i]\n",
        "    tit = ax.set_title(f\"Epoch {i+1}\", fontsize=14)\n",
        "    x0, x1 = np.meshgrid(\n",
        "            np.linspace(axes[0], axes[1], 500).reshape(-1, 1),\n",
        "            np.linspace(axes[2], axes[3], 200).reshape(-1, 1),\n",
        "        )\n",
        "    X_new = np.c_[x0.ravel(), x1.ravel()]\n",
        "    X_new = (X_new - X_mean) / X_std \n",
        "    y_predict = model.predict(w, X_new)\n",
        "    zz = y_predict.reshape(x0.shape)\n",
        "    ax.plot(X[y==0, 0], X[y==0, 1], \"bs\", label=f\"No {label}\")\n",
        "    ax.plot(X[y==1, 0], X[y==1, 1], \"yo\", label=label)\n",
        "    ax.contourf(x0, x1, zz, cmap=custom_cmap)\n",
        "    ax.set_xlabel(\"Petal length\", fontsize=14)\n",
        "    ax.set_ylabel(\"Petal width\", fontsize=14)\n",
        "    ax.legend(loc=\"lower right\", fontsize=14)\n",
        "    ax.axis(axes)\n",
        "    return ax\n",
        "\n",
        "anim = animation.FuncAnimation(fig, plot, frames=epochs, interval=200)\n",
        "plt.close()\n",
        "anim"
      ]
    },
    {
      "cell_type": "markdown",
      "metadata": {
        "id": "NecWKsDTgZWe"
      },
      "source": [
        "Como puedes observar, el MLP es capaz de resolver el problema del `Perceptrón`, y es que cuantas más capas y neuronas por capas usemos, mayor capacidad de representación tendrá el modelo (las redes neuronales más grandes a día de hoy tienen varios Billones de conexiones)."
      ]
    },
    {
      "cell_type": "markdown",
      "metadata": {
        "id": "vJZdpnoqgZWe"
      },
      "source": [
        "## Clasificación Multiclase"
      ]
    },
    {
      "cell_type": "markdown",
      "metadata": {
        "id": "nO8rfdK3gZWe"
      },
      "source": [
        "Por último vamos a ver cómo aplicar nuestro modelo para clasificación en multiples clases."
      ]
    },
    {
      "cell_type": "code",
      "source": [
        "from google.colab import drive\n",
        "import pandas as pd"
      ],
      "metadata": {
        "id": "bWWxB712JxEA"
      },
      "execution_count": 76,
      "outputs": []
    },
    {
      "cell_type": "code",
      "source": [
        "drive.mount(\"/content/drive\")"
      ],
      "metadata": {
        "colab": {
          "base_uri": "https://localhost:8080/"
        },
        "id": "aznGPoBXza3Y",
        "outputId": "c5b0ace9-3ddd-4ea3-f5fe-11a8567405f5"
      },
      "execution_count": 77,
      "outputs": [
        {
          "output_type": "stream",
          "name": "stdout",
          "text": [
            "Drive already mounted at /content/drive; to attempt to forcibly remount, call drive.mount(\"/content/drive\", force_remount=True).\n"
          ]
        }
      ]
    },
    {
      "cell_type": "code",
      "execution_count": 78,
      "metadata": {
        "ExecuteTime": {
          "end_time": "2020-08-05T17:05:47.527647Z",
          "start_time": "2020-08-05T17:05:47.393648Z"
        },
        "id": "JNxTRj79gZWe",
        "colab": {
          "base_uri": "https://localhost:8080/"
        },
        "outputId": "9897b338-6cc8-423d-fe48-0ac621e28633"
      },
      "outputs": [
        {
          "output_type": "stream",
          "name": "stdout",
          "text": [
            "       41  0  0.1  0.2  0.3  0.4  0.5  0.6  0.7  0.8  ...  0.523  0.524  \\\n",
            "0      39  0    0    0    0    0    0    0    0    0  ...      0      0   \n",
            "1       9  0    0    0    0    0    0    0    0    0  ...      0      0   \n",
            "2      26  0    0    0    0    0    0    0    0    0  ...      0      0   \n",
            "3      44  0    0    0    0    0    0    0    0    0  ...      0      0   \n",
            "4      33  0    0    0    0    0    0    0    0    0  ...      0      0   \n",
            "...    .. ..  ...  ...  ...  ...  ...  ...  ...  ...  ...    ...    ...   \n",
            "18794  45  0    0    0    0    0    0    0    0    0  ...      0      0   \n",
            "18795  15  0    0    0    0    0    0    0    0    0  ...      0      0   \n",
            "18796   1  0    0    0    0    0    0    0    0    0  ...      0      0   \n",
            "18797  26  0    0    0    0    0    0    0    0    0  ...      0      0   \n",
            "18798  33  0    0    0    0    0    0    0    0    0  ...      0      0   \n",
            "\n",
            "       0.525  0.526  0.527  0.528  0.529  0.530  0.531  0.532  \n",
            "0          0      0      0      0      0      0      0      0  \n",
            "1          0      0      0      0      0      0      0      0  \n",
            "2          0      0      0      0      0      0      0      0  \n",
            "3          0      0      0      0      0      0      0      0  \n",
            "4          0      0      0      0      0      0      0      0  \n",
            "...      ...    ...    ...    ...    ...    ...    ...    ...  \n",
            "18794      0      0      0      0      0      0      0      0  \n",
            "18795      0      0      0      0      0      0      0      0  \n",
            "18796      0      0      0      0      0      0      0      0  \n",
            "18797      0      0      0      0      0      0      0      0  \n",
            "18798      0      0      0      0      0      0      0      0  \n",
            "\n",
            "[18799 rows x 785 columns]\n"
          ]
        }
      ],
      "source": [
        "data = pd.read_csv(\"/content/drive/MyDrive/Datasets/emnist-balanced-test.csv\")\n",
        "print(data)\n",
        "data = np.array(data)\n",
        "X = data[:,1:]\n",
        "y = data[:,0]"
      ]
    },
    {
      "cell_type": "code",
      "execution_count": 92,
      "metadata": {
        "ExecuteTime": {
          "end_time": "2020-08-05T17:08:01.961788Z",
          "start_time": "2020-08-05T17:08:01.891163Z"
        },
        "id": "iD_jnMkogZWf",
        "colab": {
          "base_uri": "https://localhost:8080/"
        },
        "outputId": "3e77abb8-cb36-49d7-9f74-1bd238e3a894"
      },
      "outputs": [
        {
          "output_type": "stream",
          "name": "stdout",
          "text": [
            "Epoch: 10/200, Loss: 3.97614\n",
            "Epoch: 20/200, Loss: 3.91260\n",
            "Epoch: 30/200, Loss: 3.89130\n",
            "Epoch: 40/200, Loss: 3.88063\n",
            "Epoch: 50/200, Loss: 3.87421\n",
            "Epoch: 60/200, Loss: 3.86993\n",
            "Epoch: 70/200, Loss: 3.86687\n",
            "Epoch: 80/200, Loss: 3.86457\n",
            "Epoch: 90/200, Loss: 3.86277\n",
            "Epoch: 100/200, Loss: 3.86133\n",
            "Epoch: 110/200, Loss: 3.86014\n",
            "Epoch: 120/200, Loss: 3.85915\n",
            "Epoch: 130/200, Loss: 3.85830\n",
            "Epoch: 140/200, Loss: 3.85758\n",
            "Epoch: 150/200, Loss: 3.85695\n",
            "Epoch: 160/200, Loss: 3.85639\n",
            "Epoch: 170/200, Loss: 3.85589\n",
            "Epoch: 180/200, Loss: 3.85545\n",
            "Epoch: 190/200, Loss: 3.85505\n",
            "Epoch: 200/200, Loss: 3.85469\n",
            "El número es clasificado como un 25\n"
          ]
        }
      ],
      "source": [
        "model = MLPClassification(D_in=784, H=12, D_out=47)\n",
        "epochs, lr = 200, 0.0005\n",
        "model.fit(X, y, epochs, lr, batch_size=100, log_each=10)\n",
        "XPrueba = X[4002:4003, :].copy()\n",
        "y_predecir = model(XPrueba)\n",
        "indice = np.argmax(y_predecir)\n",
        "print(\"El número es clasificado como un\", indice)"
      ]
    },
    {
      "cell_type": "code",
      "execution_count": null,
      "metadata": {
        "ExecuteTime": {
          "end_time": "2020-08-05T17:08:07.457374Z",
          "start_time": "2020-08-05T17:08:02.015788Z"
        },
        "code_folding": [
          4
        ],
        "id": "RvIjYHPMgZWf"
      },
      "outputs": [],
      "source": [
        "\"\"\"from matplotlib.colors import ListedColormap\n",
        "from matplotlib import animation, rc\n",
        "rc('animation', html='html5')       \n",
        "    \n",
        "def animate(i, resolution=0.02):\n",
        "    ax.clear()\n",
        "    tit = ax.set_title(f\"Epoch {i+1}\", fontsize=14)\n",
        "    # setup marker generator and color map\n",
        "    markers = ('s', 'x', 'o', '^', 'v')\n",
        "    colors = ('red', 'blue', 'lightgreen', 'gray', 'cyan')\n",
        "    cmap = ListedColormap(colors[:len(np.unique(y))])\n",
        "\n",
        "    # plot the decision surface\n",
        "    x1_min, x1_max = X[:, 0].min() - 1, X[:, 0].max() + 1\n",
        "    x2_min, x2_max = X[:, 1].min() - 1, X[:, 1].max() + 1\n",
        "    xx1, xx2 = np.meshgrid(np.arange(x1_min, x1_max, resolution),\n",
        "                           np.arange(x2_min, x2_max, resolution))\n",
        "    X_new = (np.array([xx1.ravel(), xx2.ravel()]).T - X_mean)/X_std\n",
        "    w = model.ws[i]\n",
        "    Z = model.predict(w, X_new)\n",
        "    Z = np.argmax(softmax(Z), axis=1) \n",
        "    #print(Z)\n",
        "    Z = Z.reshape(xx1.shape)\n",
        "    ax.contourf(xx1, xx2, Z, alpha=0.3, cmap=cmap)\n",
        "    ax.set_xlim(xx1.min(), xx1.max())\n",
        "    ax.set_ylim(xx2.min(), xx2.max())\n",
        "    ax.set_xlabel('petal length', fontsize=14)\n",
        "    ax.set_ylabel('petal width', fontsize=14)\n",
        "    classes = [\"Iris-Setosa\", \"Iris-Versicolor\", \"Iris-Virginica\"]\n",
        "    for idx, cl in enumerate(np.unique(y)):\n",
        "        ax.scatter(x=X[y == cl, 0], \n",
        "                    y=X[y == cl, 1],\n",
        "                    alpha=0.8, \n",
        "                    c=colors[idx],\n",
        "                    marker=markers[idx], \n",
        "                    label=classes[cl], \n",
        "                    edgecolor='black')\n",
        "    ax.legend(loc='upper left', fontsize=14)\n",
        "    return [tit]\n",
        "\n",
        "fig = plt.figure(dpi=100)\n",
        "ax = fig.add_subplot(111, autoscale_on=False)\n",
        "anim = animation.FuncAnimation(fig, animate, frames=epochs, interval=100, blit=True)\n",
        "plt.close()\n",
        "anim\"\"\""
      ]
    },
    {
      "cell_type": "markdown",
      "metadata": {
        "id": "0yfHzhoRgZWf"
      },
      "source": [
        "De nuevo, nuestro MLP es capaz de separar las tres clases en el dataset. En posts anteriores hemos trabajado también con el dataset MNIST para clasificación de imágenes en diez clases distintas. ¿Te ves capaz de utilizar nuestro MLP para resolver ese problema?"
      ]
    },
    {
      "cell_type": "markdown",
      "metadata": {
        "id": "2HctDQVDgZWf"
      },
      "source": [
        "## Resumen"
      ]
    },
    {
      "cell_type": "markdown",
      "metadata": {
        "id": "FpSRNw0PgZWf"
      },
      "source": [
        "En este post hemos visto como implementar un `Perceptrón Multicapa` en `Python` para tareas de regresión y clasificación. Como ya hicimos anteriormente para el caso del `Perceptrón` hemos validado nuestra implementación con el dataset de clasificación de flores *Iris*, tanto para clasificación binaria como multiclase. Sin embargo, nuestra implementación está muy limitada. ¿Qué pasa si queremos usar un MLP de más de dos capas?, ¿y si queremos usar una función de activación diferente a la `relu` en la capa oculta?, ¿podríamos utilizar un algoritmo de optimizaciñon diferente al `descenso por gradiente`? Para poder hacer todo esto necesitamos un `framework` más flexible, similar a lo que nos ofrecen `Pytorch` y `Tensorflow`. En el siguiente post desarrollaremos nuestro propio framework de MLP para que sea más flexible y que también nos servirá para entender cómo funcionan el resto de frameworks de `redes neuronales` por dentro."
      ]
    }
  ],
  "metadata": {
    "kernelspec": {
      "display_name": "Python 3",
      "language": "python",
      "name": "python3"
    },
    "language_info": {
      "codemirror_mode": {
        "name": "ipython",
        "version": 3
      },
      "file_extension": ".py",
      "mimetype": "text/x-python",
      "name": "python",
      "nbconvert_exporter": "python",
      "pygments_lexer": "ipython3",
      "version": "3.7.6"
    },
    "toc": {
      "base_numbering": 1,
      "nav_menu": {},
      "number_sections": true,
      "sideBar": true,
      "skip_h1_title": false,
      "title_cell": "Table of Contents",
      "title_sidebar": "Contents",
      "toc_cell": false,
      "toc_position": {
        "height": "calc(100% - 180px)",
        "left": "10px",
        "top": "150px",
        "width": "233.594px"
      },
      "toc_section_display": true,
      "toc_window_display": false
    },
    "colab": {
      "provenance": []
    }
  },
  "nbformat": 4,
  "nbformat_minor": 0
}