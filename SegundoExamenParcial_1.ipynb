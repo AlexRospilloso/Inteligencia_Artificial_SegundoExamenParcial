{
  "nbformat": 4,
  "nbformat_minor": 0,
  "metadata": {
    "colab": {
      "provenance": []
    },
    "kernelspec": {
      "name": "python3",
      "display_name": "Python 3"
    },
    "language_info": {
      "name": "python"
    }
  },
  "cells": [
    {
      "cell_type": "code",
      "execution_count": 270,
      "metadata": {
        "id": "rLvzOS2Lbahv"
      },
      "outputs": [],
      "source": [
        "import numpy as np\n",
        "import pandas as pd\n",
        "from google.colab import drive\n",
        "from matplotlib import pyplot\n",
        "from mpl_toolkits.mplot3d import Axes3D\n",
        "from scipy import optimize\n",
        "import random\n",
        "\n",
        "%matplotlib inline"
      ]
    },
    {
      "cell_type": "code",
      "source": [
        "drive.mount(\"/content/drive\")"
      ],
      "metadata": {
        "colab": {
          "base_uri": "https://localhost:8080/"
        },
        "id": "MBDGGpdrblW4",
        "outputId": "6495120c-8a5c-4924-a95b-f2a99c4e1219"
      },
      "execution_count": 271,
      "outputs": [
        {
          "output_type": "stream",
          "name": "stdout",
          "text": [
            "Drive already mounted at /content/drive; to attempt to forcibly remount, call drive.mount(\"/content/drive\", force_remount=True).\n"
          ]
        }
      ]
    },
    {
      "cell_type": "code",
      "source": [
        "data = pd.read_csv(\"/content/drive/MyDrive/Datasets/oil_spill.csv\")\n",
        "data = np.array(data)\n",
        "x = data[:,:15]\n",
        "y = data[:,49]"
      ],
      "metadata": {
        "id": "i97QxRt8bs6X"
      },
      "execution_count": 272,
      "outputs": []
    },
    {
      "cell_type": "code",
      "source": [
        "def crearDatosSinteticos():\n",
        "  global x\n",
        "  global y\n",
        "  x1, x2, x3, x4, x5, x6, x7, x8, x9, x10, x11, x12, x13, x14, x15 = [],[],[],[],[],[],[],[],[],[],[],[],[],[],[]\n",
        "  for i in range (9300):\n",
        "    x1 = np.append(x1, (round(random.uniform(1,204),2)))\n",
        "    x2 = np.append(x2, (round(random.uniform(1, 10),2)))\n",
        "    x3 = np.append(x3, (round(random.uniform(1, 1000),2)))\n",
        "    x4 = np.append(x4, (round(random.uniform(1, 500),2)))\n",
        "    x5 = np.append(x5, (round(random.uniform(1, 400),2)))\n",
        "    x6 = np.append(x6, (round(random.uniform(1, 1000),2)))\n",
        "    x7 = np.append(x7, (round(random.uniform(1, 500),2)))\n",
        "    x8 = np.append(x8, (round(random.uniform(1, 450),2)))\n",
        "    x9 = np.append(x9, (round(random.uniform(1, 600),2)))\n",
        "    x10 = np.append(x10, (round(random.uniform(1, 750),2)))\n",
        "    x11 = np.append(x11, (round(random.uniform(1, 200),2)))\n",
        "    x12 = np.append(x12, (round(random.uniform(1, 1450),2)))\n",
        "    x13 = np.append(x13, (round(random.uniform(1, 450),2)))\n",
        "    x14 = np.append(x14, (round(random.uniform(1, 2500),2)))\n",
        "    x15 = np.append(x15, (round(random.uniform(1, 200),2)))\n",
        "    y = np.append(y, random.randrange(0, 2))\n",
        "  xSintetico = np.column_stack((x1, x2, x3, x4, x5, x6, x7, x8, x9, x10, x11, x12, x13, x14, x15))\n",
        "  x = np.concatenate((x, xSintetico), axis=0)"
      ],
      "metadata": {
        "id": "sgEg_qCwaEaS"
      },
      "execution_count": 273,
      "outputs": []
    },
    {
      "cell_type": "code",
      "source": [
        "crearDatosSinteticos()\n",
        "n_ejemplos = y.shape[0]\n",
        "print(x.shape)"
      ],
      "metadata": {
        "colab": {
          "base_uri": "https://localhost:8080/"
        },
        "id": "0-qVLj4R68It",
        "outputId": "67badbbc-b2fe-48b0-de6c-3cd01e7e9d1a"
      },
      "execution_count": 274,
      "outputs": [
        {
          "output_type": "stream",
          "name": "stdout",
          "text": [
            "(10237, 15)\n"
          ]
        }
      ]
    },
    {
      "cell_type": "code",
      "source": [
        "def normalizarX(x):\n",
        "  x_normalizada = []\n",
        "  promedio = np.mean(x,axis=0)\n",
        "  x = x.astype(float)\n",
        "  desviacion_estandar = np.std(x,axis=0)\n",
        "  for i in range(n_ejemplos):\n",
        "    caracteristicas_x = []\n",
        "    for j in range(x.shape[1]):\n",
        "      if desviacion_estandar[j] != 0:\n",
        "        caracteristicas_x.append((x[i,j]-promedio[j])/desviacion_estandar[j])\n",
        "      else:\n",
        "        caracteristicas_x.append(0)\n",
        "    x_normalizada.append(caracteristicas_x)\n",
        "  return x_normalizada, promedio, desviacion_estandar"
      ],
      "metadata": {
        "id": "fu1EjmJEj6My"
      },
      "execution_count": 275,
      "outputs": []
    },
    {
      "cell_type": "code",
      "source": [
        "x_normalizada, promedio, desviacion_estandar = normalizarX(x)\n",
        "x_normalizada = np.array(x_normalizada)"
      ],
      "metadata": {
        "id": "BP8nFV-Gj7fj"
      },
      "execution_count": 276,
      "outputs": []
    },
    {
      "cell_type": "code",
      "source": [
        "def funcionSigmoidea(z):\n",
        "  z = np.array(z)\n",
        "  g = 1/(1+np.exp(-z))\n",
        "  return g"
      ],
      "metadata": {
        "id": "we5HtjyJJiEL"
      },
      "execution_count": 277,
      "outputs": []
    },
    {
      "cell_type": "code",
      "source": [
        "x = np.concatenate((np.ones([n_ejemplos,1]),x_normalizada),axis=1)"
      ],
      "metadata": {
        "id": "GNM6srOeMBhy"
      },
      "execution_count": 278,
      "outputs": []
    },
    {
      "cell_type": "code",
      "source": [
        "def calcularCosto(theta, x, y):\n",
        "  h = funcionSigmoidea(x.dot(theta.T))\n",
        "  J = (1/n_ejemplos)*np.sum(-y.dot(np.log(h))-(1-y).dot(np.log(1-h)))\n",
        "  return J"
      ],
      "metadata": {
        "id": "PS-dbfhkSkDa"
      },
      "execution_count": 279,
      "outputs": []
    },
    {
      "cell_type": "code",
      "source": [
        "def descensoGradiente(x, y, theta, alpha, n_iteraciones):\n",
        "  historial_J = []\n",
        "  theta = theta.copy()\n",
        "  for i in range (n_iteraciones):\n",
        "    h = funcionSigmoidea(x.dot(theta.T))\n",
        "    theta = theta-(alpha/n_ejemplos)*(h-y).dot(x)\n",
        "    historial_J.append(calcularCosto(theta,x,y))\n",
        "  return theta, historial_J"
      ],
      "metadata": {
        "id": "pXspw80iTAsa"
      },
      "execution_count": 280,
      "outputs": []
    },
    {
      "cell_type": "code",
      "source": [
        "def hallarTheta():\n",
        "  theta = np.zeros(x.shape[1])\n",
        "  n_iteraciones = 5000\n",
        "  alpha = 0.0001\n",
        "  theta, historial_J = descensoGradiente(x,y,theta,alpha,n_iteraciones)\n",
        "  return theta, historial_J"
      ],
      "metadata": {
        "id": "1u3X4ag4VjG5"
      },
      "execution_count": 287,
      "outputs": []
    },
    {
      "cell_type": "code",
      "source": [
        "theta, historial_J = hallarTheta()\n",
        "print(\"Las thetas encontradas son: \",theta)\n",
        "print(\"El menor costo que se pudo determinar fue de: \",historial_J[-1])"
      ],
      "metadata": {
        "colab": {
          "base_uri": "https://localhost:8080/"
        },
        "id": "F4zjyQ2IV1_A",
        "outputId": "5bf1fcaf-4c19-46a0-f68b-1aff4ac1a370"
      },
      "execution_count": 288,
      "outputs": [
        {
          "output_type": "stream",
          "name": "stdout",
          "text": [
            "Las thetas encontradas son:  [-0.01721653 -0.00276707 -0.00655449 -0.00866266 -0.03581024  0.012949\n",
            " -0.00776198  0.02239277  0.02593793 -0.01880832  0.02912008 -0.00246726\n",
            "  0.02425266  0.02524533  0.02214978  0.02672614]\n",
            "El menor costo que se pudo determinar fue de:  0.6795049342963201\n"
          ]
        }
      ]
    },
    {
      "cell_type": "code",
      "source": [
        "pyplot.plot(np.arange(len(historial_J)), historial_J, lw=2)\n",
        "pyplot.xlabel('Numero de iteraciones')\n",
        "pyplot.ylabel('Costo J')"
      ],
      "metadata": {
        "colab": {
          "base_uri": "https://localhost:8080/",
          "height": 296
        },
        "id": "JJ-oF7seab-e",
        "outputId": "c28668b7-6627-4541-ac1e-077eb4f1d396"
      },
      "execution_count": 289,
      "outputs": [
        {
          "output_type": "execute_result",
          "data": {
            "text/plain": [
              "Text(0, 0.5, 'Costo J')"
            ]
          },
          "metadata": {},
          "execution_count": 289
        },
        {
          "output_type": "display_data",
          "data": {
            "text/plain": [
              "<Figure size 432x288 with 1 Axes>"
            ],
            "image/png": "[encoded data removed]"
          },
          "metadata": {
            "needs_background": "light"
          }
        }
      ]
    },
    {
      "cell_type": "code",
      "source": [
        "def normalizarXPredecir(x):\n",
        "  x = np.array(x)\n",
        "  caracteristicas_x_predecir = []\n",
        "  for i in range (x.shape[0]):\n",
        "    if desviacion_estandar[i] != 0:\n",
        "      caracteristicas_x_predecir.append((x[i]-promedio[i])/desviacion_estandar[i])\n",
        "    else:\n",
        "      caracteristicas_x_predecir.append(0)\n",
        "  return caracteristicas_x_predecir"
      ],
      "metadata": {
        "id": "K5mgFEi6tqYQ"
      },
      "execution_count": 284,
      "outputs": []
    },
    {
      "cell_type": "code",
      "source": [
        "def predecir(x):\n",
        "  x = np.array(x)\n",
        "  x = normalizarXPredecir(x)\n",
        "  x = np.concatenate((np.ones(1),x))\n",
        "  y_predecir = funcionSigmoidea(np.dot(x,theta))\n",
        "  print(\"El porcentaje de los valores de x para tener un derrame de aceite es \",y_predecir*100)"
      ],
      "metadata": {
        "id": "XmlyXyR1T2__"
      },
      "execution_count": 285,
      "outputs": []
    },
    {
      "cell_type": "code",
      "source": [
        "predecir([1,2558,1506.09,456.63,90,5,14,5,25,63,12,20,33,154,1])"
      ],
      "metadata": {
        "colab": {
          "base_uri": "https://localhost:8080/"
        },
        "id": "pNsQL4gPUSW4",
        "outputId": "0c21d53f-c046-4359-f376-466d87823c29"
      },
      "execution_count": 286,
      "outputs": [
        {
          "output_type": "stream",
          "name": "stdout",
          "text": [
            "El porcentaje de los valores de x para tener un derrame de aceite es  48.0966625409347\n"
          ]
        }
      ]
    }
  ]
}